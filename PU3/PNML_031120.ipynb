{
 "cells": [
  {
   "cell_type": "code",
   "execution_count": 1,
   "metadata": {},
   "outputs": [],
   "source": [
    "import pandas as pd \n",
    "import numpy as np \n",
    "import matplotlib.pyplot as plt \n",
    "import seaborn as sns \n",
    "import geopandas as gpd \n",
    "import statsmodels.api as sm\n",
    "import statsmodels.formula.api as smf\n",
    "from time import strptime\n",
    "import os \n",
    "import patsy \n",
    "from shapely.wkt import loads\n",
    "import statsmodels.api as sm\n",
    "import statsmodels.formula.api as smf\n",
    "import pickle\n",
    "import statsmodels.api as sm\n",
    "import statsmodels.formula.api as smf\n",
    "import requests "
   ]
  },
  {
   "cell_type": "markdown",
   "metadata": {},
   "source": [
    "### Heroin"
   ]
  },
  {
   "cell_type": "code",
   "execution_count": 2,
   "metadata": {},
   "outputs": [],
   "source": [
    "bg_pkl = open(\"her_pnml_pkl_030820\", 'rb')\n",
    "\n",
    "her = pickle.load(bg_pkl)"
   ]
  },
  {
   "cell_type": "code",
   "execution_count": 3,
   "metadata": {},
   "outputs": [
    {
     "data": {
      "text/plain": [
       "16"
      ]
     },
     "execution_count": 3,
     "metadata": {},
     "output_type": "execute_result"
    }
   ],
   "source": [
    "len(her.year_month.unique())"
   ]
  },
  {
   "cell_type": "code",
   "execution_count": null,
   "metadata": {},
   "outputs": [],
   "source": []
  },
  {
   "cell_type": "code",
   "execution_count": 4,
   "metadata": {},
   "outputs": [
    {
     "name": "stderr",
     "output_type": "stream",
     "text": [
      "/Users/drewgobbi/anaconda3/lib/python3.7/site-packages/ipykernel_launcher.py:5: SettingWithCopyWarning: \n",
      "A value is trying to be set on a copy of a slice from a DataFrame.\n",
      "Try using .loc[row_indexer,col_indexer] = value instead\n",
      "\n",
      "See the caveats in the documentation: http://pandas.pydata.org/pandas-docs/stable/indexing.html#indexing-view-versus-copy\n",
      "  \"\"\"\n",
      "/Users/drewgobbi/anaconda3/lib/python3.7/site-packages/ipykernel_launcher.py:8: SettingWithCopyWarning: \n",
      "A value is trying to be set on a copy of a slice from a DataFrame.\n",
      "Try using .loc[row_indexer,col_indexer] = value instead\n",
      "\n",
      "See the caveats in the documentation: http://pandas.pydata.org/pandas-docs/stable/indexing.html#indexing-view-versus-copy\n",
      "  \n"
     ]
    }
   ],
   "source": [
    "#assuming the negative values are wrong\n",
    "her_df = her[her.pnml>0]\n",
    "\n",
    "#pnml = mg/day/1000, average heroin user consumes 50 mg/day\n",
    "her_df['est_users'] = her.pnml * 1/50\n",
    "\n",
    "#convert to per 10,000 estimate\n",
    "her_df['est_users'] = her_df['est_users']*10"
   ]
  },
  {
   "cell_type": "code",
   "execution_count": 5,
   "metadata": {
    "scrolled": true
   },
   "outputs": [
    {
     "name": "stderr",
     "output_type": "stream",
     "text": [
      "/Users/drewgobbi/anaconda3/lib/python3.7/site-packages/pandas/core/frame.py:3940: SettingWithCopyWarning: \n",
      "A value is trying to be set on a copy of a slice from a DataFrame\n",
      "\n",
      "See the caveats in the documentation: http://pandas.pydata.org/pandas-docs/stable/indexing.html#indexing-view-versus-copy\n",
      "  errors=errors)\n"
     ]
    }
   ],
   "source": [
    "her_df.drop(['year_month', 'GIDBG', 'OBJECTID', 'Concentration__ng_L__Value',\n",
    "       'Concentration__ng_L__Error', 'Mass_Load__g_d__Value',\n",
    "       'Mass_Load__g_d__Error','pnml', 'Population_Normalized_Mass_Lo_1',\n",
    "       'Shape__Area', 'Shape__Length'] , axis=1, inplace=True)"
   ]
  },
  {
   "cell_type": "code",
   "execution_count": 6,
   "metadata": {},
   "outputs": [
    {
     "data": {
      "text/plain": [
       "<matplotlib.axes._subplots.AxesSubplot at 0x1c27d183c8>"
      ]
     },
     "execution_count": 6,
     "metadata": {},
     "output_type": "execute_result"
    },
    {
     "data": {
      "image/png": "[encoded data removed]",
      "text/plain": [
       "<Figure size 432x288 with 1 Axes>"
      ]
     },
     "metadata": {
      "needs_background": "light"
     },
     "output_type": "display_data"
    }
   ],
   "source": [
    "her_df.est_users.hist()"
   ]
  },
  {
   "cell_type": "code",
   "execution_count": 7,
   "metadata": {},
   "outputs": [],
   "source": [
    "X, y = pd.get_dummies(her_df), her_df.est_users\n",
    "X.drop(columns='est_users', inplace=True)"
   ]
  },
  {
   "cell_type": "code",
   "execution_count": 8,
   "metadata": {
    "scrolled": false
   },
   "outputs": [
    {
     "name": "stdout",
     "output_type": "stream",
     "text": [
      "                 Generalized Linear Model Regression Results                  \n",
      "==============================================================================\n",
      "Dep. Variable:              est_users   No. Observations:                   41\n",
      "Model:                            GLM   Df Residuals:                       35\n",
      "Model Family:                 Poisson   Df Model:                            5\n",
      "Link Function:                    log   Scale:                          1.0000\n",
      "Method:                          IRLS   Log-Likelihood:                -75.772\n",
      "Date:                Wed, 18 Mar 2020   Deviance:                       48.050\n",
      "Time:                        08:05:01   Pearson chi2:                     42.7\n",
      "No. Iterations:                   100   Covariance Type:             nonrobust\n",
      "=================================================================================================\n",
      "                                    coef    std err          z      P>|z|      [0.025      0.975]\n",
      "-------------------------------------------------------------------------------------------------\n",
      "pct_Males_ACS_13_17              -0.1189      0.043     -2.747      0.006      -0.204      -0.034\n",
      "pct_Pop_18_24_ACS_13_17          -0.4830      0.135     -3.586      0.000      -0.747      -0.219\n",
      "pct_Pop_25_44_ACS_13_17           0.0738      0.026      2.874      0.004       0.023       0.124\n",
      "pct_Pop_45_64_ACS_13_17           0.1654      0.045      3.647      0.000       0.076       0.254\n",
      "pct_Pop_65plus_ACS_13_17          0.0881      0.030      2.977      0.003       0.030       0.146\n",
      "pct_Hispanic_ACS_13_17            0.1186      0.043      2.754      0.006       0.034       0.203\n",
      "pct_NH_White_alone_CEN_2010      -0.0876      0.046     -1.891      0.059      -0.178       0.003\n",
      "pct_NH_Blk_alone_ACS_13_17        0.0302      0.013      2.300      0.021       0.004       0.056\n",
      "pct_NH_Asian_alone_ACS_13_17     -0.0182      0.012     -1.467      0.142      -0.042       0.006\n",
      "Med_HHD_Inc_BG_ACS_13_17         -0.2361      0.116     -2.040      0.041      -0.463      -0.009\n",
      "pct_Prs_Blw_Pov_Lev_ACS_13_17    -0.1553      0.038     -4.134      0.000      -0.229      -0.082\n",
      "Med_House_Value_BG_ACS_13_17     -0.0875      0.034     -2.563      0.010      -0.154      -0.021\n",
      "pct_College_ACS_13_17            -0.2923      0.103     -2.839      0.005      -0.494      -0.091\n",
      "ems_calls                         0.2601      0.112      2.326      0.020       0.041       0.479\n",
      "log_pop                           0.1497      0.019      7.898      0.000       0.113       0.187\n",
      "Site_TP01                         0.6943      0.288      2.415      0.016       0.131       1.258\n",
      "Site_TP02                        -0.1993      0.220     -0.904      0.366      -0.631       0.233\n",
      "Site_TP03                         0.5232      0.234      2.239      0.025       0.065       0.981\n",
      "Site_TP04                         0.4060      0.192      2.113      0.035       0.029       0.783\n",
      "Site_TP05                        -1.4193      0.467     -3.041      0.002      -2.334      -0.505\n",
      "=================================================================================================\n"
     ]
    }
   ],
   "source": [
    "res = sm.GLM(y, X, family=sm.families.Poisson()).fit()\n",
    "print(res.summary())"
   ]
  },
  {
   "cell_type": "markdown",
   "metadata": {},
   "source": [
    "### Oxycodone"
   ]
  },
  {
   "cell_type": "code",
   "execution_count": 9,
   "metadata": {},
   "outputs": [],
   "source": [
    "bg_pkl = open(\"oxy_pnml_pkl_030820\", 'rb')\n",
    "\n",
    "oxy = pickle.load(bg_pkl)"
   ]
  },
  {
   "cell_type": "code",
   "execution_count": 10,
   "metadata": {},
   "outputs": [
    {
     "name": "stderr",
     "output_type": "stream",
     "text": [
      "/Users/drewgobbi/anaconda3/lib/python3.7/site-packages/ipykernel_launcher.py:5: SettingWithCopyWarning: \n",
      "A value is trying to be set on a copy of a slice from a DataFrame.\n",
      "Try using .loc[row_indexer,col_indexer] = value instead\n",
      "\n",
      "See the caveats in the documentation: http://pandas.pydata.org/pandas-docs/stable/indexing.html#indexing-view-versus-copy\n",
      "  \"\"\"\n"
     ]
    }
   ],
   "source": [
    "#assuming the negative values are wrong\n",
    "oxy_df = oxy[oxy.pnml>0]\n",
    "\n",
    "#pnml = mg/day/1000, average dose user consumes in mg/day\n",
    "oxy_df['est_users'] = oxy.pnml * 1/10\n"
   ]
  },
  {
   "cell_type": "code",
   "execution_count": 11,
   "metadata": {
    "scrolled": true
   },
   "outputs": [],
   "source": [
    "oxy_df.drop(['year_month', 'GIDBG', 'OBJECTID', 'Concentration__ng_L__Value',\n",
    "       'Concentration__ng_L__Error', 'Mass_Load__g_d__Value',\n",
    "       'Mass_Load__g_d__Error','pnml', 'Population_Normalized_Mass_Lo_1',\n",
    "       'Shape__Area', 'Shape__Length'] , axis=1, inplace=True)"
   ]
  },
  {
   "cell_type": "code",
   "execution_count": 12,
   "metadata": {},
   "outputs": [],
   "source": [
    "X, y = pd.get_dummies(oxy_df), oxy_df.est_users\n",
    "X.drop(columns='est_users', inplace=True)"
   ]
  },
  {
   "cell_type": "code",
   "execution_count": 13,
   "metadata": {
    "scrolled": true
   },
   "outputs": [
    {
     "name": "stdout",
     "output_type": "stream",
     "text": [
      "                 Generalized Linear Model Regression Results                  \n",
      "==============================================================================\n",
      "Dep. Variable:              est_users   No. Observations:                   58\n",
      "Model:                            GLM   Df Residuals:                       52\n",
      "Model Family:                 Poisson   Df Model:                            5\n",
      "Link Function:                    log   Scale:                          1.0000\n",
      "Method:                          IRLS   Log-Likelihood:                -96.445\n",
      "Date:                Wed, 18 Mar 2020   Deviance:                       15.370\n",
      "Time:                        08:05:01   Pearson chi2:                     14.7\n",
      "No. Iterations:                   100   Covariance Type:             nonrobust\n",
      "=================================================================================================\n",
      "                                    coef    std err          z      P>|z|      [0.025      0.975]\n",
      "-------------------------------------------------------------------------------------------------\n",
      "pct_Males_ACS_13_17              -0.0103      0.017     -0.602      0.547      -0.044       0.023\n",
      "pct_Pop_18_24_ACS_13_17          -0.1292      0.044     -2.931      0.003      -0.216      -0.043\n",
      "pct_Pop_25_44_ACS_13_17           0.0211      0.012      1.733      0.083      -0.003       0.045\n",
      "pct_Pop_45_64_ACS_13_17           0.0555      0.015      3.652      0.000       0.026       0.085\n",
      "pct_Pop_65plus_ACS_13_17          0.0332      0.011      3.060      0.002       0.012       0.055\n",
      "pct_Hispanic_ACS_13_17            0.0244      0.020      1.227      0.220      -0.015       0.063\n",
      "pct_NH_White_alone_CEN_2010       0.0154      0.025      0.608      0.543      -0.034       0.065\n",
      "pct_NH_Blk_alone_ACS_13_17        0.0025      0.010      0.253      0.801      -0.017       0.022\n",
      "pct_NH_Asian_alone_ACS_13_17     -0.0075      0.007     -1.064      0.287      -0.021       0.006\n",
      "Med_HHD_Inc_BG_ACS_13_17         -0.0089      0.036     -0.248      0.804      -0.079       0.061\n",
      "pct_Prs_Blw_Pov_Lev_ACS_13_17    -0.0535      0.023     -2.283      0.022      -0.099      -0.008\n",
      "Med_House_Value_BG_ACS_13_17     -0.0069      0.013     -0.516      0.606      -0.033       0.019\n",
      "pct_College_ACS_13_17            -0.0475      0.031     -1.550      0.121      -0.107       0.013\n",
      "ems_calls                        -0.1214      0.114     -1.067      0.286      -0.344       0.102\n",
      "log_pop                           0.1901      0.015     12.866      0.000       0.161       0.219\n",
      "Site_TP01                         0.3811      0.153      2.494      0.013       0.082       0.681\n",
      "Site_TP02                        -0.1966      0.131     -1.501      0.133      -0.453       0.060\n",
      "Site_TP03                         0.0208      0.196      0.106      0.916      -0.363       0.405\n",
      "Site_TP04                         0.1671      0.131      1.275      0.202      -0.090       0.424\n",
      "Site_TP05                        -0.3485      0.127     -2.755      0.006      -0.596      -0.101\n",
      "=================================================================================================\n"
     ]
    }
   ],
   "source": [
    "res = sm.GLM(y, X, family=sm.families.Poisson()).fit()\n",
    "print(res.summary())"
   ]
  },
  {
   "cell_type": "markdown",
   "metadata": {},
   "source": [
    "### Codine"
   ]
  },
  {
   "cell_type": "code",
   "execution_count": 14,
   "metadata": {},
   "outputs": [],
   "source": [
    "bg_pkl = open(\"cod_pnml_pkl_030820\", 'rb')\n",
    "\n",
    "cod = pickle.load(bg_pkl)"
   ]
  },
  {
   "cell_type": "code",
   "execution_count": 15,
   "metadata": {},
   "outputs": [
    {
     "name": "stderr",
     "output_type": "stream",
     "text": [
      "/Users/drewgobbi/anaconda3/lib/python3.7/site-packages/ipykernel_launcher.py:5: SettingWithCopyWarning: \n",
      "A value is trying to be set on a copy of a slice from a DataFrame.\n",
      "Try using .loc[row_indexer,col_indexer] = value instead\n",
      "\n",
      "See the caveats in the documentation: http://pandas.pydata.org/pandas-docs/stable/indexing.html#indexing-view-versus-copy\n",
      "  \"\"\"\n"
     ]
    }
   ],
   "source": [
    "#assuming the negative values are wrong\n",
    "cod_df = cod[cod.pnml>0]\n",
    "\n",
    "#pnml = mg/day/1000, average dose user consumes in mg/day\n",
    "cod_df['est_users'] = cod.pnml * 1/30\n"
   ]
  },
  {
   "cell_type": "code",
   "execution_count": 16,
   "metadata": {
    "scrolled": true
   },
   "outputs": [],
   "source": [
    "cod_df.drop(['year_month', 'GIDBG', 'OBJECTID', 'Concentration__ng_L__Value',\n",
    "       'Concentration__ng_L__Error', 'Mass_Load__g_d__Value',\n",
    "       'Mass_Load__g_d__Error','pnml', 'Population_Normalized_Mass_Lo_1',\n",
    "       'Shape__Area', 'Shape__Length'] , axis=1, inplace=True)"
   ]
  },
  {
   "cell_type": "code",
   "execution_count": 17,
   "metadata": {},
   "outputs": [],
   "source": [
    "X, y = pd.get_dummies(cod_df), cod_df.est_users\n",
    "X.drop(columns='est_users', inplace=True)"
   ]
  },
  {
   "cell_type": "code",
   "execution_count": 18,
   "metadata": {
    "scrolled": false
   },
   "outputs": [
    {
     "name": "stdout",
     "output_type": "stream",
     "text": [
      "                 Generalized Linear Model Regression Results                  \n",
      "==============================================================================\n",
      "Dep. Variable:              est_users   No. Observations:                   56\n",
      "Model:                            GLM   Df Residuals:                       50\n",
      "Model Family:                 Poisson   Df Model:                            5\n",
      "Link Function:                    log   Scale:                          1.0000\n",
      "Method:                          IRLS   Log-Likelihood:                -73.236\n",
      "Date:                Wed, 18 Mar 2020   Deviance:                       17.506\n",
      "Time:                        08:05:02   Pearson chi2:                     18.3\n",
      "No. Iterations:                   100   Covariance Type:             nonrobust\n",
      "=================================================================================================\n",
      "                                    coef    std err          z      P>|z|      [0.025      0.975]\n",
      "-------------------------------------------------------------------------------------------------\n",
      "pct_Males_ACS_13_17               0.0027      0.031      0.086      0.932      -0.059       0.064\n",
      "pct_Pop_18_24_ACS_13_17          -0.0929      0.075     -1.239      0.215      -0.240       0.054\n",
      "pct_Pop_25_44_ACS_13_17           0.0173      0.019      0.928      0.353      -0.019       0.054\n",
      "pct_Pop_45_64_ACS_13_17           0.0374      0.024      1.565      0.117      -0.009       0.084\n",
      "pct_Pop_65plus_ACS_13_17          0.0198      0.016      1.237      0.216      -0.012       0.051\n",
      "pct_Hispanic_ACS_13_17            0.0195      0.033      0.595      0.552      -0.045       0.084\n",
      "pct_NH_White_alone_CEN_2010       0.0126      0.048      0.260      0.795      -0.082       0.108\n",
      "pct_NH_Blk_alone_ACS_13_17       -0.0055      0.020     -0.271      0.787      -0.045       0.034\n",
      "pct_NH_Asian_alone_ACS_13_17     -0.0023      0.010     -0.220      0.826      -0.023       0.018\n",
      "Med_HHD_Inc_BG_ACS_13_17          0.0270      0.052      0.523      0.601      -0.074       0.128\n",
      "pct_Prs_Blw_Pov_Lev_ACS_13_17    -0.0575      0.043     -1.323      0.186      -0.143       0.028\n",
      "Med_House_Value_BG_ACS_13_17     -0.0039      0.023     -0.169      0.866      -0.049       0.041\n",
      "pct_College_ACS_13_17            -0.0132      0.050     -0.265      0.791      -0.111       0.085\n",
      "ems_calls                        -0.0926      0.157     -0.589      0.556      -0.401       0.216\n",
      "log_pop                           0.0743      0.029      2.548      0.011       0.017       0.131\n",
      "Site_TP01                         0.3028      0.243      1.245      0.213      -0.174       0.779\n",
      "Site_TP02                        -0.3270      0.215     -1.518      0.129      -0.749       0.095\n",
      "Site_TP03                        -0.0401      0.422     -0.095      0.924      -0.868       0.788\n",
      "Site_TP04                         0.2431      0.210      1.160      0.246      -0.168       0.654\n",
      "Site_TP05                        -0.1718      0.181     -0.949      0.343      -0.527       0.183\n",
      "=================================================================================================\n"
     ]
    }
   ],
   "source": [
    "res = sm.GLM(y, X, family=sm.families.Poisson()).fit()\n",
    "print(res.summary())"
   ]
  },
  {
   "cell_type": "markdown",
   "metadata": {},
   "source": [
    "### Fentanyl"
   ]
  },
  {
   "cell_type": "code",
   "execution_count": 19,
   "metadata": {},
   "outputs": [],
   "source": [
    "bg_pkl = open(\"fent_pnml_pkl_030820\", 'rb')\n",
    "\n",
    "fent = pickle.load(bg_pkl)"
   ]
  },
  {
   "cell_type": "code",
   "execution_count": 20,
   "metadata": {},
   "outputs": [
    {
     "name": "stderr",
     "output_type": "stream",
     "text": [
      "/Users/drewgobbi/anaconda3/lib/python3.7/site-packages/ipykernel_launcher.py:5: SettingWithCopyWarning: \n",
      "A value is trying to be set on a copy of a slice from a DataFrame.\n",
      "Try using .loc[row_indexer,col_indexer] = value instead\n",
      "\n",
      "See the caveats in the documentation: http://pandas.pydata.org/pandas-docs/stable/indexing.html#indexing-view-versus-copy\n",
      "  \"\"\"\n"
     ]
    }
   ],
   "source": [
    "#assuming the negative values are wrong\n",
    "fent_df = fent[fent.pnml>0]\n",
    "\n",
    "#pnml = mg/day/1000, average dose user consumes in mg/day\n",
    "fent_df['est_users'] = fent.pnml * 1/.1\n"
   ]
  },
  {
   "cell_type": "code",
   "execution_count": 21,
   "metadata": {
    "scrolled": true
   },
   "outputs": [],
   "source": [
    "fent_df.drop(['year_month', 'GIDBG', 'OBJECTID', 'Concentration__ng_L__Value',\n",
    "       'Concentration__ng_L__Error', 'Mass_Load__g_d__Value',\n",
    "       'Mass_Load__g_d__Error','pnml', 'Population_Normalized_Mass_Lo_1',\n",
    "       'Shape__Area', 'Shape__Length'] , axis=1, inplace=True)"
   ]
  },
  {
   "cell_type": "code",
   "execution_count": 22,
   "metadata": {},
   "outputs": [],
   "source": [
    "X, y = pd.get_dummies(fent_df), fent_df.est_users\n",
    "X.drop(columns='est_users', inplace=True)"
   ]
  },
  {
   "cell_type": "code",
   "execution_count": 23,
   "metadata": {
    "scrolled": false
   },
   "outputs": [
    {
     "name": "stdout",
     "output_type": "stream",
     "text": [
      "                 Generalized Linear Model Regression Results                  \n",
      "==============================================================================\n",
      "Dep. Variable:              est_users   No. Observations:                   55\n",
      "Model:                            GLM   Df Residuals:                       49\n",
      "Model Family:                 Poisson   Df Model:                            5\n",
      "Link Function:                    log   Scale:                          1.0000\n",
      "Method:                          IRLS   Log-Likelihood:                -435.76\n",
      "Date:                Wed, 18 Mar 2020   Deviance:                       625.07\n",
      "Time:                        08:05:02   Pearson chi2:                     804.\n",
      "No. Iterations:                   100   Covariance Type:             nonrobust\n",
      "=================================================================================================\n",
      "                                    coef    std err          z      P>|z|      [0.025      0.975]\n",
      "-------------------------------------------------------------------------------------------------\n",
      "pct_Males_ACS_13_17               0.0007      0.009      0.079      0.937      -0.016       0.017\n",
      "pct_Pop_18_24_ACS_13_17          -0.1976      0.024     -8.172      0.000      -0.245      -0.150\n",
      "pct_Pop_25_44_ACS_13_17           0.1024      0.006     16.843      0.000       0.091       0.114\n",
      "pct_Pop_45_64_ACS_13_17           0.0608      0.009      6.858      0.000       0.043       0.078\n",
      "pct_Pop_65plus_ACS_13_17          0.0233      0.007      3.503      0.000       0.010       0.036\n",
      "pct_Hispanic_ACS_13_17            0.1426      0.010     13.851      0.000       0.122       0.163\n",
      "pct_NH_White_alone_CEN_2010      -0.0628      0.013     -4.679      0.000      -0.089      -0.036\n",
      "pct_NH_Blk_alone_ACS_13_17       -0.0093      0.004     -2.141      0.032      -0.018      -0.001\n",
      "pct_NH_Asian_alone_ACS_13_17      0.0241      0.004      6.175      0.000       0.016       0.032\n",
      "Med_HHD_Inc_BG_ACS_13_17         -0.1820      0.020     -9.137      0.000      -0.221      -0.143\n",
      "pct_Prs_Blw_Pov_Lev_ACS_13_17    -0.0229      0.011     -2.073      0.038      -0.044      -0.001\n",
      "Med_House_Value_BG_ACS_13_17     -0.0723      0.007     -9.962      0.000      -0.087      -0.058\n",
      "pct_College_ACS_13_17            -0.1305      0.017     -7.677      0.000      -0.164      -0.097\n",
      "ems_calls                         0.0922      0.037      2.493      0.013       0.020       0.165\n",
      "log_pop                           0.4042      0.007     60.874      0.000       0.391       0.417\n",
      "Site_TP01                        -0.1117      0.092     -1.214      0.225      -0.292       0.069\n",
      "Site_TP02                         0.0780      0.059      1.322      0.186      -0.038       0.194\n",
      "Site_TP03                        -0.0366      0.089     -0.410      0.682      -0.212       0.138\n",
      "Site_TP04                         0.8292      0.055     15.078      0.000       0.721       0.937\n",
      "Site_TP05                        -0.7097      0.074     -9.534      0.000      -0.856      -0.564\n",
      "=================================================================================================\n"
     ]
    }
   ],
   "source": [
    "res = sm.GLM(y, X, family=sm.families.Poisson()).fit()\n",
    "print(res.summary())"
   ]
  },
  {
   "cell_type": "code",
   "execution_count": null,
   "metadata": {},
   "outputs": [],
   "source": []
  },
  {
   "cell_type": "markdown",
   "metadata": {},
   "source": [
    "### Histograms"
   ]
  },
  {
   "cell_type": "code",
   "execution_count": 24,
   "metadata": {},
   "outputs": [
    {
     "data": {
      "image/png": "[encoded data removed]",
      "text/plain": [
       "<Figure size 720x720 with 4 Axes>"
      ]
     },
     "metadata": {
      "needs_background": "light"
     },
     "output_type": "display_data"
    }
   ],
   "source": [
    "fig, ax = plt.subplots(2,2)\n",
    "her_df.est_users.hist(ax=ax[0,0], color='blue', figsize=(10,10))\n",
    "oxy_df.est_users.hist(ax=ax[0,1], color='orange', figsize=(10,10))\n",
    "cod_df.est_users.hist(ax=ax[1,0], color='green', figsize=(10,10))\n",
    "fent_df.est_users.hist(ax=ax[1,1], color='red', figsize=(10,10))\n",
    "plt.suptitle('Wastewater Estimated Users in Tempe for Heroin (Top L), Oxycodone (Top R), Codine (Bottom L), and Fentanyl (Bottom R)', size='16')\n",
    "plt.savefig('pnml_hist')\n",
    "\n"
   ]
  },
  {
   "cell_type": "code",
   "execution_count": null,
   "metadata": {},
   "outputs": [],
   "source": []
  }
 ],
 "metadata": {
  "kernelspec": {
   "display_name": "Python 3",
   "language": "python",
   "name": "python3"
  },
  "language_info": {
   "codemirror_mode": {
    "name": "ipython",
    "version": 3
   },
   "file_extension": ".py",
   "mimetype": "text/x-python",
   "name": "python",
   "nbconvert_exporter": "python",
   "pygments_lexer": "ipython3",
   "version": "3.7.3"
  }
 },
 "nbformat": 4,
 "nbformat_minor": 2
}
