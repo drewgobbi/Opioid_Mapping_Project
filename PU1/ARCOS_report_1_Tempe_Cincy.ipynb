{
 "cells": [
  {
   "cell_type": "markdown",
   "metadata": {},
   "source": [
    "# Comparing ARCOS 2018 to 2019\n",
    "coded by Maddie Warndorf\n",
    "\n",
    "**Can only compare Q1 and Q2**\n",
    "\n",
    "- REPORT 1 RETAIL DRUG DISTRIBUTION BY ZIP CODE WITHIN STATE BY GRAMS WT\n",
    "- REPORT 2 RETAIL DRUG DISTRIBUTION BY STATE WITHIN DRUG CODE BY GRAMS WT\n",
    "- REPORT 3 QUARTERLY DRUG DISTRIBUTION BY STATE PER 100K POPULATION BY GRAM WT\n",
    "- REPORT 4 CUMULATIVE DISTRIBUTION BY STATE IN GRAMS PER 100,000 POPULATION\n",
    "- REPORT 5 STATISTICAL SUMMARY FOR RETAIL DRUG PURCHASES BY GRAMS WT\n",
    "\n",
    "Tempe, AZ Zip Code: 852\n",
    "\n",
    "Cincinnati, OH Zip Code: 452"
   ]
  },
  {
   "cell_type": "code",
   "execution_count": 31,
   "metadata": {},
   "outputs": [],
   "source": [
    "import pandas as pd\n",
    "import matplotlib.pyplot as plt\n",
    "import numpy as np\n",
    "from scipy import stats"
   ]
  },
  {
   "cell_type": "markdown",
   "metadata": {},
   "source": [
    "## Report 1\n",
    "\n",
    "### Tempe, AZ"
   ]
  },
  {
   "cell_type": "code",
   "execution_count": 5,
   "metadata": {},
   "outputs": [
    {
     "data": {
      "text/html": [
       "<div>\n",
       "<style scoped>\n",
       "    .dataframe tbody tr th:only-of-type {\n",
       "        vertical-align: middle;\n",
       "    }\n",
       "\n",
       "    .dataframe tbody tr th {\n",
       "        vertical-align: top;\n",
       "    }\n",
       "\n",
       "    .dataframe thead th {\n",
       "        text-align: right;\n",
       "    }\n",
       "</style>\n",
       "<table border=\"1\" class=\"dataframe\">\n",
       "  <thead>\n",
       "    <tr style=\"text-align: right;\">\n",
       "      <th></th>\n",
       "      <th>DRUG</th>\n",
       "      <th>STATE</th>\n",
       "      <th>ZIP_CODE</th>\n",
       "      <th>QUARTER_1</th>\n",
       "      <th>QUARTER_2</th>\n",
       "      <th>QUARTER_3</th>\n",
       "      <th>QUARTER_4</th>\n",
       "      <th>TOTAL_GRAMS</th>\n",
       "    </tr>\n",
       "  </thead>\n",
       "  <tbody>\n",
       "    <tr>\n",
       "      <th>0</th>\n",
       "      <td>CODEINE</td>\n",
       "      <td>AZ</td>\n",
       "      <td>850</td>\n",
       "      <td>15027.17</td>\n",
       "      <td>13181.40</td>\n",
       "      <td>14592.50</td>\n",
       "      <td>13455.85</td>\n",
       "      <td>56256.92</td>\n",
       "    </tr>\n",
       "    <tr>\n",
       "      <th>1</th>\n",
       "      <td>CODEINE</td>\n",
       "      <td>AZ</td>\n",
       "      <td>851</td>\n",
       "      <td>3232.52</td>\n",
       "      <td>2261.54</td>\n",
       "      <td>2179.95</td>\n",
       "      <td>2217.55</td>\n",
       "      <td>9891.56</td>\n",
       "    </tr>\n",
       "    <tr>\n",
       "      <th>2</th>\n",
       "      <td>CODEINE</td>\n",
       "      <td>AZ</td>\n",
       "      <td>852</td>\n",
       "      <td>20137.67</td>\n",
       "      <td>16989.11</td>\n",
       "      <td>16143.69</td>\n",
       "      <td>15622.58</td>\n",
       "      <td>68893.05</td>\n",
       "    </tr>\n",
       "    <tr>\n",
       "      <th>3</th>\n",
       "      <td>CODEINE</td>\n",
       "      <td>AZ</td>\n",
       "      <td>853</td>\n",
       "      <td>9861.14</td>\n",
       "      <td>8207.01</td>\n",
       "      <td>7895.83</td>\n",
       "      <td>7458.12</td>\n",
       "      <td>33422.10</td>\n",
       "    </tr>\n",
       "    <tr>\n",
       "      <th>4</th>\n",
       "      <td>CODEINE</td>\n",
       "      <td>AZ</td>\n",
       "      <td>855</td>\n",
       "      <td>843.88</td>\n",
       "      <td>705.39</td>\n",
       "      <td>873.12</td>\n",
       "      <td>845.35</td>\n",
       "      <td>3267.74</td>\n",
       "    </tr>\n",
       "  </tbody>\n",
       "</table>\n",
       "</div>"
      ],
      "text/plain": [
       "      DRUG STATE  ZIP_CODE  QUARTER_1  QUARTER_2  QUARTER_3  QUARTER_4  \\\n",
       "0  CODEINE    AZ       850   15027.17   13181.40   14592.50   13455.85   \n",
       "1  CODEINE    AZ       851    3232.52    2261.54    2179.95    2217.55   \n",
       "2  CODEINE    AZ       852   20137.67   16989.11   16143.69   15622.58   \n",
       "3  CODEINE    AZ       853    9861.14    8207.01    7895.83    7458.12   \n",
       "4  CODEINE    AZ       855     843.88     705.39     873.12     845.35   \n",
       "\n",
       "   TOTAL_GRAMS  \n",
       "0     56256.92  \n",
       "1      9891.56  \n",
       "2     68893.05  \n",
       "3     33422.10  \n",
       "4      3267.74  "
      ]
     },
     "execution_count": 5,
     "metadata": {},
     "output_type": "execute_result"
    }
   ],
   "source": [
    "rp1_18 = pd.read_csv('ARCOSData/ARCOS_Report1_2018.csv')\n",
    "rp1_18.head()"
   ]
  },
  {
   "cell_type": "code",
   "execution_count": 10,
   "metadata": {},
   "outputs": [
    {
     "name": "stderr",
     "output_type": "stream",
     "text": [
      "/Users/maddiewarndorf/anaconda3/lib/python3.6/site-packages/ipykernel_launcher.py:5: SettingWithCopyWarning: \n",
      "A value is trying to be set on a copy of a slice from a DataFrame.\n",
      "Try using .loc[row_indexer,col_indexer] = value instead\n",
      "\n",
      "See the caveats in the documentation: http://pandas.pydata.org/pandas-docs/stable/indexing.html#indexing-view-versus-copy\n",
      "  \"\"\"\n"
     ]
    },
    {
     "data": {
      "text/html": [
       "<div>\n",
       "<style scoped>\n",
       "    .dataframe tbody tr th:only-of-type {\n",
       "        vertical-align: middle;\n",
       "    }\n",
       "\n",
       "    .dataframe tbody tr th {\n",
       "        vertical-align: top;\n",
       "    }\n",
       "\n",
       "    .dataframe thead th {\n",
       "        text-align: right;\n",
       "    }\n",
       "</style>\n",
       "<table border=\"1\" class=\"dataframe\">\n",
       "  <thead>\n",
       "    <tr style=\"text-align: right;\">\n",
       "      <th></th>\n",
       "      <th>DRUG</th>\n",
       "      <th>STATE</th>\n",
       "      <th>ZIP_CODE</th>\n",
       "      <th>QUARTER_1</th>\n",
       "      <th>QUARTER_2</th>\n",
       "      <th>TOTAL_GRAMS</th>\n",
       "    </tr>\n",
       "  </thead>\n",
       "  <tbody>\n",
       "    <tr>\n",
       "      <th>0</th>\n",
       "      <td>CODEINE</td>\n",
       "      <td>AZ</td>\n",
       "      <td>852</td>\n",
       "      <td>20137.67</td>\n",
       "      <td>16989.11</td>\n",
       "      <td>37126.78</td>\n",
       "    </tr>\n",
       "    <tr>\n",
       "      <th>1</th>\n",
       "      <td>BUPRENORPHINE</td>\n",
       "      <td>AZ</td>\n",
       "      <td>852</td>\n",
       "      <td>2739.25</td>\n",
       "      <td>2847.19</td>\n",
       "      <td>5586.44</td>\n",
       "    </tr>\n",
       "    <tr>\n",
       "      <th>2</th>\n",
       "      <td>HYDROMORPHONE</td>\n",
       "      <td>AZ</td>\n",
       "      <td>852</td>\n",
       "      <td>1777.03</td>\n",
       "      <td>1471.75</td>\n",
       "      <td>3248.78</td>\n",
       "    </tr>\n",
       "    <tr>\n",
       "      <th>3</th>\n",
       "      <td>HYDROCODONE</td>\n",
       "      <td>AZ</td>\n",
       "      <td>852</td>\n",
       "      <td>23301.13</td>\n",
       "      <td>21636.06</td>\n",
       "      <td>44937.19</td>\n",
       "    </tr>\n",
       "    <tr>\n",
       "      <th>4</th>\n",
       "      <td>MEPERIDINE</td>\n",
       "      <td>AZ</td>\n",
       "      <td>852</td>\n",
       "      <td>1824.90</td>\n",
       "      <td>1910.28</td>\n",
       "      <td>3735.18</td>\n",
       "    </tr>\n",
       "    <tr>\n",
       "      <th>5</th>\n",
       "      <td>METHADONE</td>\n",
       "      <td>AZ</td>\n",
       "      <td>852</td>\n",
       "      <td>19277.99</td>\n",
       "      <td>18360.33</td>\n",
       "      <td>37638.32</td>\n",
       "    </tr>\n",
       "    <tr>\n",
       "      <th>6</th>\n",
       "      <td>MORPHINE</td>\n",
       "      <td>AZ</td>\n",
       "      <td>852</td>\n",
       "      <td>30427.31</td>\n",
       "      <td>27387.48</td>\n",
       "      <td>57814.79</td>\n",
       "    </tr>\n",
       "    <tr>\n",
       "      <th>7</th>\n",
       "      <td>OXYMORPHONE</td>\n",
       "      <td>AZ</td>\n",
       "      <td>852</td>\n",
       "      <td>823.99</td>\n",
       "      <td>786.25</td>\n",
       "      <td>1610.24</td>\n",
       "    </tr>\n",
       "    <tr>\n",
       "      <th>8</th>\n",
       "      <td>TAPENTADOL</td>\n",
       "      <td>AZ</td>\n",
       "      <td>852</td>\n",
       "      <td>12336.50</td>\n",
       "      <td>12096.50</td>\n",
       "      <td>24433.00</td>\n",
       "    </tr>\n",
       "    <tr>\n",
       "      <th>9</th>\n",
       "      <td>FENTANYL_BASE</td>\n",
       "      <td>AZ</td>\n",
       "      <td>852</td>\n",
       "      <td>500.19</td>\n",
       "      <td>413.11</td>\n",
       "      <td>913.30</td>\n",
       "    </tr>\n",
       "  </tbody>\n",
       "</table>\n",
       "</div>"
      ],
      "text/plain": [
       "            DRUG STATE  ZIP_CODE  QUARTER_1  QUARTER_2  TOTAL_GRAMS\n",
       "0        CODEINE    AZ       852   20137.67   16989.11     37126.78\n",
       "1  BUPRENORPHINE    AZ       852    2739.25    2847.19      5586.44\n",
       "2  HYDROMORPHONE    AZ       852    1777.03    1471.75      3248.78\n",
       "3    HYDROCODONE    AZ       852   23301.13   21636.06     44937.19\n",
       "4     MEPERIDINE    AZ       852    1824.90    1910.28      3735.18\n",
       "5      METHADONE    AZ       852   19277.99   18360.33     37638.32\n",
       "6       MORPHINE    AZ       852   30427.31   27387.48     57814.79\n",
       "7    OXYMORPHONE    AZ       852     823.99     786.25      1610.24\n",
       "8     TAPENTADOL    AZ       852   12336.50   12096.50     24433.00\n",
       "9  FENTANYL_BASE    AZ       852     500.19     413.11       913.30"
      ]
     },
     "execution_count": 10,
     "metadata": {},
     "output_type": "execute_result"
    }
   ],
   "source": [
    "tempe1_18 = rp1_18[rp1_18['ZIP_CODE']==852]\n",
    "drops = ['index','QUARTER_3','QUARTER_4','TOTAL_GRAMS']\n",
    "tempe1_18.reset_index(inplace=True)\n",
    "tempe1_18.drop(drops, axis=1, inplace=True)\n",
    "tempe1_18['TOTAL_GRAMS'] = tempe1_18['QUARTER_1'] + tempe1_18['QUARTER_2']\n",
    "tempe1_18"
   ]
  },
  {
   "cell_type": "code",
   "execution_count": 39,
   "metadata": {},
   "outputs": [
    {
     "name": "stdout",
     "output_type": "stream",
     "text": [
      "Tempe 2018 Q1\n",
      "count       10.000000\n",
      "mean     11314.596000\n",
      "std      11219.227772\n",
      "min        500.190000\n",
      "25%       1788.997500\n",
      "50%       7537.875000\n",
      "75%      19922.750000\n",
      "max      30427.310000\n",
      "Name: QUARTER_1, dtype: float64\n",
      "Tempe 2018 Q2\n",
      "count       10.000000\n",
      "mean     10389.806000\n",
      "std      10140.567111\n",
      "min        413.110000\n",
      "25%       1581.382500\n",
      "50%       7471.845000\n",
      "75%      18017.525000\n",
      "max      27387.480000\n",
      "Name: QUARTER_2, dtype: float64\n",
      "(0.8498075604438782, 0.05778372287750244)\n",
      "(0.8578683137893677, 0.07201274484395981)\n"
     ]
    },
    {
     "data": {
      "text/plain": [
       "LeveneResult(statistic=0.12915447138112507, pvalue=0.7234917748976629)"
      ]
     },
     "execution_count": 39,
     "metadata": {},
     "output_type": "execute_result"
    }
   ],
   "source": [
    "print(\"Tempe 2018 Q1\")\n",
    "print(tempe1_18.QUARTER_1.describe())\n",
    "print(\"Tempe 2018 Q2\")\n",
    "print(tempe1_18.QUARTER_2.describe())\n",
    "print(stats.shapiro(tempe1_18.QUARTER_1))\n",
    "print(stats.shapiro(tempe1_18.QUARTER_2))\n",
    "stats.levene(tempe1_18.QUARTER_1,tempe1_18.QUARTER_2)"
   ]
  },
  {
   "cell_type": "code",
   "execution_count": 42,
   "metadata": {},
   "outputs": [
    {
     "data": {
      "text/plain": [
       "Ttest_indResult(statistic=0.19337840744710175, pvalue=0.848827982727018)"
      ]
     },
     "execution_count": 42,
     "metadata": {},
     "output_type": "execute_result"
    }
   ],
   "source": [
    "tempe1_18t = stats.ttest_ind(tempe1_18.QUARTER_1,tempe1_18.QUARTER_2)\n",
    "tempe1_18t"
   ]
  },
  {
   "cell_type": "code",
   "execution_count": 11,
   "metadata": {},
   "outputs": [
    {
     "data": {
      "text/html": [
       "<div>\n",
       "<style scoped>\n",
       "    .dataframe tbody tr th:only-of-type {\n",
       "        vertical-align: middle;\n",
       "    }\n",
       "\n",
       "    .dataframe tbody tr th {\n",
       "        vertical-align: top;\n",
       "    }\n",
       "\n",
       "    .dataframe thead th {\n",
       "        text-align: right;\n",
       "    }\n",
       "</style>\n",
       "<table border=\"1\" class=\"dataframe\">\n",
       "  <thead>\n",
       "    <tr style=\"text-align: right;\">\n",
       "      <th></th>\n",
       "      <th>DRUG</th>\n",
       "      <th>STATE</th>\n",
       "      <th>ZIP_CODE</th>\n",
       "      <th>QUARTER_1</th>\n",
       "      <th>QUARTER_2</th>\n",
       "      <th>TOTAL_GRAMS</th>\n",
       "    </tr>\n",
       "  </thead>\n",
       "  <tbody>\n",
       "    <tr>\n",
       "      <th>0</th>\n",
       "      <td>CODEINE</td>\n",
       "      <td>AZ</td>\n",
       "      <td>850</td>\n",
       "      <td>12239.70</td>\n",
       "      <td>13229.44</td>\n",
       "      <td>25469.14</td>\n",
       "    </tr>\n",
       "    <tr>\n",
       "      <th>1</th>\n",
       "      <td>CODEINE</td>\n",
       "      <td>AZ</td>\n",
       "      <td>851</td>\n",
       "      <td>2197.43</td>\n",
       "      <td>1972.36</td>\n",
       "      <td>4169.79</td>\n",
       "    </tr>\n",
       "    <tr>\n",
       "      <th>2</th>\n",
       "      <td>CODEINE</td>\n",
       "      <td>AZ</td>\n",
       "      <td>852</td>\n",
       "      <td>14060.91</td>\n",
       "      <td>12335.90</td>\n",
       "      <td>26396.81</td>\n",
       "    </tr>\n",
       "    <tr>\n",
       "      <th>3</th>\n",
       "      <td>CODEINE</td>\n",
       "      <td>AZ</td>\n",
       "      <td>853</td>\n",
       "      <td>7784.14</td>\n",
       "      <td>7600.07</td>\n",
       "      <td>15384.21</td>\n",
       "    </tr>\n",
       "    <tr>\n",
       "      <th>4</th>\n",
       "      <td>CODEINE</td>\n",
       "      <td>AZ</td>\n",
       "      <td>855</td>\n",
       "      <td>784.57</td>\n",
       "      <td>786.24</td>\n",
       "      <td>1570.81</td>\n",
       "    </tr>\n",
       "  </tbody>\n",
       "</table>\n",
       "</div>"
      ],
      "text/plain": [
       "      DRUG STATE  ZIP_CODE  QUARTER_1  QUARTER_2  TOTAL_GRAMS\n",
       "0  CODEINE    AZ       850   12239.70   13229.44     25469.14\n",
       "1  CODEINE    AZ       851    2197.43    1972.36      4169.79\n",
       "2  CODEINE    AZ       852   14060.91   12335.90     26396.81\n",
       "3  CODEINE    AZ       853    7784.14    7600.07     15384.21\n",
       "4  CODEINE    AZ       855     784.57     786.24      1570.81"
      ]
     },
     "execution_count": 11,
     "metadata": {},
     "output_type": "execute_result"
    }
   ],
   "source": [
    "rp1_19 = pd.read_csv('ARCOSData/ARCOS_Report1_2019.csv')\n",
    "rp1_19.head()"
   ]
  },
  {
   "cell_type": "code",
   "execution_count": 17,
   "metadata": {},
   "outputs": [
    {
     "data": {
      "text/html": [
       "<div>\n",
       "<style scoped>\n",
       "    .dataframe tbody tr th:only-of-type {\n",
       "        vertical-align: middle;\n",
       "    }\n",
       "\n",
       "    .dataframe tbody tr th {\n",
       "        vertical-align: top;\n",
       "    }\n",
       "\n",
       "    .dataframe thead th {\n",
       "        text-align: right;\n",
       "    }\n",
       "</style>\n",
       "<table border=\"1\" class=\"dataframe\">\n",
       "  <thead>\n",
       "    <tr style=\"text-align: right;\">\n",
       "      <th></th>\n",
       "      <th>DRUG</th>\n",
       "      <th>STATE</th>\n",
       "      <th>ZIP_CODE</th>\n",
       "      <th>QUARTER_1</th>\n",
       "      <th>QUARTER_2</th>\n",
       "      <th>TOTAL_GRAMS</th>\n",
       "    </tr>\n",
       "  </thead>\n",
       "  <tbody>\n",
       "    <tr>\n",
       "      <th>0</th>\n",
       "      <td>CODEINE</td>\n",
       "      <td>AZ</td>\n",
       "      <td>852</td>\n",
       "      <td>14060.91</td>\n",
       "      <td>12335.90</td>\n",
       "      <td>26396.81</td>\n",
       "    </tr>\n",
       "    <tr>\n",
       "      <th>1</th>\n",
       "      <td>BUPRENORPHINE</td>\n",
       "      <td>AZ</td>\n",
       "      <td>852</td>\n",
       "      <td>3277.51</td>\n",
       "      <td>3319.53</td>\n",
       "      <td>6597.04</td>\n",
       "    </tr>\n",
       "    <tr>\n",
       "      <th>2</th>\n",
       "      <td>HYDROMORPHONE</td>\n",
       "      <td>AZ</td>\n",
       "      <td>852</td>\n",
       "      <td>1327.09</td>\n",
       "      <td>1159.75</td>\n",
       "      <td>2486.84</td>\n",
       "    </tr>\n",
       "    <tr>\n",
       "      <th>3</th>\n",
       "      <td>HYDROCODONE</td>\n",
       "      <td>AZ</td>\n",
       "      <td>852</td>\n",
       "      <td>18064.90</td>\n",
       "      <td>17618.28</td>\n",
       "      <td>35683.18</td>\n",
       "    </tr>\n",
       "    <tr>\n",
       "      <th>4</th>\n",
       "      <td>MEPERIDINE</td>\n",
       "      <td>AZ</td>\n",
       "      <td>852</td>\n",
       "      <td>1299.86</td>\n",
       "      <td>821.15</td>\n",
       "      <td>2121.01</td>\n",
       "    </tr>\n",
       "    <tr>\n",
       "      <th>5</th>\n",
       "      <td>METHADONE</td>\n",
       "      <td>AZ</td>\n",
       "      <td>852</td>\n",
       "      <td>18423.66</td>\n",
       "      <td>19209.48</td>\n",
       "      <td>37633.14</td>\n",
       "    </tr>\n",
       "    <tr>\n",
       "      <th>6</th>\n",
       "      <td>MORPHINE</td>\n",
       "      <td>AZ</td>\n",
       "      <td>852</td>\n",
       "      <td>23036.57</td>\n",
       "      <td>21229.04</td>\n",
       "      <td>44265.61</td>\n",
       "    </tr>\n",
       "    <tr>\n",
       "      <th>7</th>\n",
       "      <td>OXYMORPHONE</td>\n",
       "      <td>AZ</td>\n",
       "      <td>852</td>\n",
       "      <td>530.09</td>\n",
       "      <td>522.86</td>\n",
       "      <td>1052.95</td>\n",
       "    </tr>\n",
       "    <tr>\n",
       "      <th>8</th>\n",
       "      <td>TAPENTADOL</td>\n",
       "      <td>AZ</td>\n",
       "      <td>852</td>\n",
       "      <td>9302.00</td>\n",
       "      <td>9694.50</td>\n",
       "      <td>18996.50</td>\n",
       "    </tr>\n",
       "    <tr>\n",
       "      <th>9</th>\n",
       "      <td>FENTANYL_BASE</td>\n",
       "      <td>AZ</td>\n",
       "      <td>852</td>\n",
       "      <td>287.25</td>\n",
       "      <td>273.24</td>\n",
       "      <td>560.49</td>\n",
       "    </tr>\n",
       "  </tbody>\n",
       "</table>\n",
       "</div>"
      ],
      "text/plain": [
       "            DRUG STATE  ZIP_CODE  QUARTER_1  QUARTER_2  TOTAL_GRAMS\n",
       "0        CODEINE    AZ       852   14060.91   12335.90     26396.81\n",
       "1  BUPRENORPHINE    AZ       852    3277.51    3319.53      6597.04\n",
       "2  HYDROMORPHONE    AZ       852    1327.09    1159.75      2486.84\n",
       "3    HYDROCODONE    AZ       852   18064.90   17618.28     35683.18\n",
       "4     MEPERIDINE    AZ       852    1299.86     821.15      2121.01\n",
       "5      METHADONE    AZ       852   18423.66   19209.48     37633.14\n",
       "6       MORPHINE    AZ       852   23036.57   21229.04     44265.61\n",
       "7    OXYMORPHONE    AZ       852     530.09     522.86      1052.95\n",
       "8     TAPENTADOL    AZ       852    9302.00    9694.50     18996.50\n",
       "9  FENTANYL_BASE    AZ       852     287.25     273.24       560.49"
      ]
     },
     "execution_count": 17,
     "metadata": {},
     "output_type": "execute_result"
    }
   ],
   "source": [
    "tempe1_19 = rp1_19[rp1_19['ZIP_CODE']==852]\n",
    "tempe1_19.reset_index(inplace=True)\n",
    "tempe1_19.drop(['index'], axis=1, inplace=True)\n",
    "tempe1_19.drop([2], axis=0, inplace=True)\n",
    "tempe1_19.reset_index(inplace=True)\n",
    "tempe1_19.drop(['index'], axis=1, inplace=True)\n",
    "tempe1_19"
   ]
  },
  {
   "cell_type": "code",
   "execution_count": 43,
   "metadata": {},
   "outputs": [
    {
     "name": "stdout",
     "output_type": "stream",
     "text": [
      "Tempe 2019 Q1\n",
      "count       10.000000\n",
      "mean      8960.984000\n",
      "std       8770.251817\n",
      "min        287.250000\n",
      "25%       1306.667500\n",
      "50%       6289.755000\n",
      "75%      17063.902500\n",
      "max      23036.570000\n",
      "Name: QUARTER_1, dtype: float64\n",
      "Tempe 2019 Q2\n",
      "count       10.000000\n",
      "mean      8618.373000\n",
      "std       8477.820135\n",
      "min        273.240000\n",
      "25%        905.800000\n",
      "50%       6507.015000\n",
      "75%      16297.685000\n",
      "max      21229.040000\n",
      "Name: QUARTER_2, dtype: float64\n",
      "(0.8555756211280823, 0.06765291094779968)\n",
      "(0.8463671207427979, 0.0525786317884922)\n"
     ]
    },
    {
     "data": {
      "text/plain": [
       "LeveneResult(statistic=0.013008666204201783, pvalue=0.9104563311300338)"
      ]
     },
     "execution_count": 43,
     "metadata": {},
     "output_type": "execute_result"
    }
   ],
   "source": [
    "print(\"Tempe 2019 Q1\")\n",
    "print(tempe1_19.QUARTER_1.describe())\n",
    "print(\"Tempe 2019 Q2\")\n",
    "print(tempe1_19.QUARTER_2.describe())\n",
    "print(stats.shapiro(tempe1_19.QUARTER_1))\n",
    "print(stats.shapiro(tempe1_19.QUARTER_2))\n",
    "stats.levene(tempe1_19.QUARTER_1,tempe1_19.QUARTER_2)"
   ]
  },
  {
   "cell_type": "code",
   "execution_count": 44,
   "metadata": {},
   "outputs": [
    {
     "data": {
      "text/plain": [
       "Ttest_indResult(statistic=0.08882052468090561, pvalue=0.9302053268055148)"
      ]
     },
     "execution_count": 44,
     "metadata": {},
     "output_type": "execute_result"
    }
   ],
   "source": [
    "tempe1_19t = stats.ttest_ind(tempe1_19.QUARTER_1,tempe1_19.QUARTER_2)\n",
    "tempe1_19t"
   ]
  },
  {
   "cell_type": "code",
   "execution_count": 30,
   "metadata": {},
   "outputs": [
    {
     "data": {
      "text/plain": [
       "<matplotlib.legend.Legend at 0x11a9d2e10>"
      ]
     },
     "execution_count": 30,
     "metadata": {},
     "output_type": "execute_result"
    },
    {
     "data": {
      "image/png": "[encoded data removed]",
      "text/plain": [
       "<Figure size 720x720 with 1 Axes>"
      ]
     },
     "metadata": {
      "needs_background": "light"
     },
     "output_type": "display_data"
    }
   ],
   "source": [
    "fig, ax = plt.subplots(figsize=(10,10))\n",
    "labels = tempe1_18['DRUG']\n",
    "ax.plot(tempe1_18['DRUG'], tempe1_18['QUARTER_1'],color='red',label='18Q1')\n",
    "ax.plot(tempe1_18['DRUG'], tempe1_18['QUARTER_2'],color='black',label='18Q2')\n",
    "ax.plot(tempe1_19['DRUG'], tempe1_19['QUARTER_1'],color='purple',label='19Q1')\n",
    "ax.plot(tempe1_19['DRUG'], tempe1_19['QUARTER_2'],color='blue',label='19Q2')\n",
    "\n",
    "for tick in ax.get_xticklabels():\n",
    "    tick.set_rotation(-55)\n",
    "    \n",
    "ax.legend()\n",
    "\n",
    "#plt(tempe1_19['QUARTER_1'], tempe1_19['QUARTER_2'])"
   ]
  },
  {
   "cell_type": "code",
   "execution_count": 45,
   "metadata": {},
   "outputs": [
    {
     "name": "stdout",
     "output_type": "stream",
     "text": [
      "(0.8498075604438782, 0.05778372287750244)\n",
      "(0.8555756211280823, 0.06765291094779968)\n",
      "LeveneResult(statistic=0.8399693199481479, pvalue=0.37152210804472807)\n"
     ]
    },
    {
     "data": {
      "text/plain": [
       "Ttest_indResult(statistic=0.5226528553963605, pvalue=0.6075896215167921)"
      ]
     },
     "execution_count": 45,
     "metadata": {},
     "output_type": "execute_result"
    }
   ],
   "source": [
    "print(stats.shapiro(tempe1_18.QUARTER_1))\n",
    "print(stats.shapiro(tempe1_19.QUARTER_1))\n",
    "print(stats.levene(tempe1_18.QUARTER_1,tempe1_19.QUARTER_1))\n",
    "stats.ttest_ind(tempe1_18.QUARTER_1,tempe1_19.QUARTER_1)"
   ]
  },
  {
   "cell_type": "code",
   "execution_count": 46,
   "metadata": {},
   "outputs": [
    {
     "name": "stdout",
     "output_type": "stream",
     "text": [
      "(0.8578683137893677, 0.07201274484395981)\n",
      "(0.8463671207427979, 0.0525786317884922)\n",
      "LeveneResult(statistic=0.563496773456738, pvalue=0.4625558259610322)\n"
     ]
    },
    {
     "data": {
      "text/plain": [
       "Ttest_indResult(statistic=0.4238114061946555, pvalue=0.6767247641556666)"
      ]
     },
     "execution_count": 46,
     "metadata": {},
     "output_type": "execute_result"
    }
   ],
   "source": [
    "print(stats.shapiro(tempe1_18.QUARTER_2))\n",
    "print(stats.shapiro(tempe1_19.QUARTER_2))\n",
    "print(stats.levene(tempe1_18.QUARTER_2,tempe1_19.QUARTER_2))\n",
    "stats.ttest_ind(tempe1_18.QUARTER_2,tempe1_19.QUARTER_2)"
   ]
  },
  {
   "cell_type": "markdown",
   "metadata": {},
   "source": [
    "### Cincinnati, OH"
   ]
  },
  {
   "cell_type": "code",
   "execution_count": 48,
   "metadata": {},
   "outputs": [
    {
     "name": "stderr",
     "output_type": "stream",
     "text": [
      "/Users/maddiewarndorf/anaconda3/lib/python3.6/site-packages/ipykernel_launcher.py:5: SettingWithCopyWarning: \n",
      "A value is trying to be set on a copy of a slice from a DataFrame.\n",
      "Try using .loc[row_indexer,col_indexer] = value instead\n",
      "\n",
      "See the caveats in the documentation: http://pandas.pydata.org/pandas-docs/stable/indexing.html#indexing-view-versus-copy\n",
      "  \"\"\"\n"
     ]
    },
    {
     "data": {
      "text/html": [
       "<div>\n",
       "<style scoped>\n",
       "    .dataframe tbody tr th:only-of-type {\n",
       "        vertical-align: middle;\n",
       "    }\n",
       "\n",
       "    .dataframe tbody tr th {\n",
       "        vertical-align: top;\n",
       "    }\n",
       "\n",
       "    .dataframe thead th {\n",
       "        text-align: right;\n",
       "    }\n",
       "</style>\n",
       "<table border=\"1\" class=\"dataframe\">\n",
       "  <thead>\n",
       "    <tr style=\"text-align: right;\">\n",
       "      <th></th>\n",
       "      <th>DRUG</th>\n",
       "      <th>STATE</th>\n",
       "      <th>ZIP_CODE</th>\n",
       "      <th>QUARTER_1</th>\n",
       "      <th>QUARTER_2</th>\n",
       "      <th>TOTAL_GRAMS</th>\n",
       "    </tr>\n",
       "  </thead>\n",
       "  <tbody>\n",
       "    <tr>\n",
       "      <th>0</th>\n",
       "      <td>CODEINE</td>\n",
       "      <td>OH</td>\n",
       "      <td>452</td>\n",
       "      <td>5955.39</td>\n",
       "      <td>5070.05</td>\n",
       "      <td>11025.44</td>\n",
       "    </tr>\n",
       "    <tr>\n",
       "      <th>1</th>\n",
       "      <td>BUPRENORPHINE</td>\n",
       "      <td>OH</td>\n",
       "      <td>452</td>\n",
       "      <td>5000.42</td>\n",
       "      <td>4566.12</td>\n",
       "      <td>9566.54</td>\n",
       "    </tr>\n",
       "    <tr>\n",
       "      <th>2</th>\n",
       "      <td>HYDROMORPHONE</td>\n",
       "      <td>OH</td>\n",
       "      <td>452</td>\n",
       "      <td>619.59</td>\n",
       "      <td>425.37</td>\n",
       "      <td>1044.96</td>\n",
       "    </tr>\n",
       "    <tr>\n",
       "      <th>3</th>\n",
       "      <td>HYDROCODONE</td>\n",
       "      <td>OH</td>\n",
       "      <td>452</td>\n",
       "      <td>10312.24</td>\n",
       "      <td>9810.97</td>\n",
       "      <td>20123.21</td>\n",
       "    </tr>\n",
       "    <tr>\n",
       "      <th>4</th>\n",
       "      <td>MEPERIDINE</td>\n",
       "      <td>OH</td>\n",
       "      <td>452</td>\n",
       "      <td>890.24</td>\n",
       "      <td>683.02</td>\n",
       "      <td>1573.26</td>\n",
       "    </tr>\n",
       "    <tr>\n",
       "      <th>5</th>\n",
       "      <td>METHADONE</td>\n",
       "      <td>OH</td>\n",
       "      <td>452</td>\n",
       "      <td>12586.45</td>\n",
       "      <td>14025.98</td>\n",
       "      <td>26612.43</td>\n",
       "    </tr>\n",
       "    <tr>\n",
       "      <th>6</th>\n",
       "      <td>MORPHINE</td>\n",
       "      <td>OH</td>\n",
       "      <td>452</td>\n",
       "      <td>8249.03</td>\n",
       "      <td>7293.51</td>\n",
       "      <td>15542.54</td>\n",
       "    </tr>\n",
       "    <tr>\n",
       "      <th>7</th>\n",
       "      <td>OXYMORPHONE</td>\n",
       "      <td>OH</td>\n",
       "      <td>452</td>\n",
       "      <td>210.31</td>\n",
       "      <td>189.04</td>\n",
       "      <td>399.35</td>\n",
       "    </tr>\n",
       "    <tr>\n",
       "      <th>8</th>\n",
       "      <td>TAPENTADOL</td>\n",
       "      <td>OH</td>\n",
       "      <td>452</td>\n",
       "      <td>2457.00</td>\n",
       "      <td>2472.00</td>\n",
       "      <td>4929.00</td>\n",
       "    </tr>\n",
       "    <tr>\n",
       "      <th>9</th>\n",
       "      <td>FENTANYL_BASE</td>\n",
       "      <td>OH</td>\n",
       "      <td>452</td>\n",
       "      <td>159.90</td>\n",
       "      <td>151.01</td>\n",
       "      <td>310.91</td>\n",
       "    </tr>\n",
       "  </tbody>\n",
       "</table>\n",
       "</div>"
      ],
      "text/plain": [
       "            DRUG STATE  ZIP_CODE  QUARTER_1  QUARTER_2  TOTAL_GRAMS\n",
       "0        CODEINE    OH       452    5955.39    5070.05     11025.44\n",
       "1  BUPRENORPHINE    OH       452    5000.42    4566.12      9566.54\n",
       "2  HYDROMORPHONE    OH       452     619.59     425.37      1044.96\n",
       "3    HYDROCODONE    OH       452   10312.24    9810.97     20123.21\n",
       "4     MEPERIDINE    OH       452     890.24     683.02      1573.26\n",
       "5      METHADONE    OH       452   12586.45   14025.98     26612.43\n",
       "6       MORPHINE    OH       452    8249.03    7293.51     15542.54\n",
       "7    OXYMORPHONE    OH       452     210.31     189.04       399.35\n",
       "8     TAPENTADOL    OH       452    2457.00    2472.00      4929.00\n",
       "9  FENTANYL_BASE    OH       452     159.90     151.01       310.91"
      ]
     },
     "execution_count": 48,
     "metadata": {},
     "output_type": "execute_result"
    }
   ],
   "source": [
    "cin1_18 = rp1_18[rp1_18['ZIP_CODE']==452]\n",
    "drops = ['index','QUARTER_3','QUARTER_4','TOTAL_GRAMS']\n",
    "cin1_18.reset_index(inplace=True)\n",
    "cin1_18.drop(drops, axis=1, inplace=True)\n",
    "cin1_18['TOTAL_GRAMS'] = cin1_18['QUARTER_1'] + cin1_18['QUARTER_2']\n",
    "cin1_18"
   ]
  },
  {
   "cell_type": "code",
   "execution_count": 49,
   "metadata": {},
   "outputs": [
    {
     "name": "stdout",
     "output_type": "stream",
     "text": [
      "Cincinnati 2018 Q1\n",
      "count       10.000000\n",
      "mean      4644.057000\n",
      "std       4532.460648\n",
      "min        159.900000\n",
      "25%        687.252500\n",
      "50%       3728.710000\n",
      "75%       7675.620000\n",
      "max      12586.450000\n",
      "Name: QUARTER_1, dtype: float64\n",
      "Cincinnati 2018 Q2\n",
      "count       10.00000\n",
      "mean      4468.70700\n",
      "std       4712.35671\n",
      "min        151.01000\n",
      "25%        489.78250\n",
      "50%       3519.06000\n",
      "75%       6737.64500\n",
      "max      14025.98000\n",
      "Name: QUARTER_2, dtype: float64\n",
      "(0.887789785861969, 0.16010808944702148)\n",
      "(0.8745236396789551, 0.1128290593624115)\n"
     ]
    },
    {
     "data": {
      "text/plain": [
       "LeveneResult(statistic=0.006159776267663265, pvalue=0.9383087774310945)"
      ]
     },
     "execution_count": 49,
     "metadata": {},
     "output_type": "execute_result"
    }
   ],
   "source": [
    "print(\"Cincinnati 2018 Q1\")\n",
    "print(cin1_18.QUARTER_1.describe())\n",
    "print(\"Cincinnati 2018 Q2\")\n",
    "print(cin1_18.QUARTER_2.describe())\n",
    "print(stats.shapiro(cin1_18.QUARTER_1))\n",
    "print(stats.shapiro(cin1_18.QUARTER_2))\n",
    "stats.levene(cin1_18.QUARTER_1,cin1_18.QUARTER_2)"
   ]
  },
  {
   "cell_type": "code",
   "execution_count": 50,
   "metadata": {},
   "outputs": [
    {
     "data": {
      "text/plain": [
       "Ttest_indResult(statistic=0.08480866435162165, pvalue=0.9333496677840362)"
      ]
     },
     "execution_count": 50,
     "metadata": {},
     "output_type": "execute_result"
    }
   ],
   "source": [
    "cin1_18t = stats.ttest_ind(cin1_18.QUARTER_1,cin1_18.QUARTER_2)\n",
    "cin1_18t"
   ]
  },
  {
   "cell_type": "code",
   "execution_count": 51,
   "metadata": {},
   "outputs": [
    {
     "data": {
      "text/html": [
       "<div>\n",
       "<style scoped>\n",
       "    .dataframe tbody tr th:only-of-type {\n",
       "        vertical-align: middle;\n",
       "    }\n",
       "\n",
       "    .dataframe tbody tr th {\n",
       "        vertical-align: top;\n",
       "    }\n",
       "\n",
       "    .dataframe thead th {\n",
       "        text-align: right;\n",
       "    }\n",
       "</style>\n",
       "<table border=\"1\" class=\"dataframe\">\n",
       "  <thead>\n",
       "    <tr style=\"text-align: right;\">\n",
       "      <th></th>\n",
       "      <th>DRUG</th>\n",
       "      <th>STATE</th>\n",
       "      <th>ZIP_CODE</th>\n",
       "      <th>QUARTER_1</th>\n",
       "      <th>QUARTER_2</th>\n",
       "      <th>TOTAL_GRAMS</th>\n",
       "    </tr>\n",
       "  </thead>\n",
       "  <tbody>\n",
       "    <tr>\n",
       "      <th>0</th>\n",
       "      <td>CODEINE</td>\n",
       "      <td>OH</td>\n",
       "      <td>452</td>\n",
       "      <td>4059.48</td>\n",
       "      <td>3780.03</td>\n",
       "      <td>7839.51</td>\n",
       "    </tr>\n",
       "    <tr>\n",
       "      <th>1</th>\n",
       "      <td>BUPRENORPHINE</td>\n",
       "      <td>OH</td>\n",
       "      <td>452</td>\n",
       "      <td>4672.99</td>\n",
       "      <td>4533.32</td>\n",
       "      <td>9206.31</td>\n",
       "    </tr>\n",
       "    <tr>\n",
       "      <th>2</th>\n",
       "      <td>HYDROMORPHONE</td>\n",
       "      <td>OH</td>\n",
       "      <td>452</td>\n",
       "      <td>381.75</td>\n",
       "      <td>391.09</td>\n",
       "      <td>772.84</td>\n",
       "    </tr>\n",
       "    <tr>\n",
       "      <th>3</th>\n",
       "      <td>HYDROCODONE</td>\n",
       "      <td>OH</td>\n",
       "      <td>452</td>\n",
       "      <td>8425.35</td>\n",
       "      <td>8278.04</td>\n",
       "      <td>16703.39</td>\n",
       "    </tr>\n",
       "    <tr>\n",
       "      <th>4</th>\n",
       "      <td>MEPERIDINE</td>\n",
       "      <td>OH</td>\n",
       "      <td>452</td>\n",
       "      <td>571.92</td>\n",
       "      <td>461.35</td>\n",
       "      <td>1033.27</td>\n",
       "    </tr>\n",
       "    <tr>\n",
       "      <th>5</th>\n",
       "      <td>METHADONE</td>\n",
       "      <td>OH</td>\n",
       "      <td>452</td>\n",
       "      <td>13795.37</td>\n",
       "      <td>13783.69</td>\n",
       "      <td>27579.06</td>\n",
       "    </tr>\n",
       "    <tr>\n",
       "      <th>6</th>\n",
       "      <td>MORPHINE</td>\n",
       "      <td>OH</td>\n",
       "      <td>452</td>\n",
       "      <td>6541.44</td>\n",
       "      <td>6205.88</td>\n",
       "      <td>12747.32</td>\n",
       "    </tr>\n",
       "    <tr>\n",
       "      <th>7</th>\n",
       "      <td>OXYMORPHONE</td>\n",
       "      <td>OH</td>\n",
       "      <td>452</td>\n",
       "      <td>142.20</td>\n",
       "      <td>131.54</td>\n",
       "      <td>273.74</td>\n",
       "    </tr>\n",
       "    <tr>\n",
       "      <th>8</th>\n",
       "      <td>TAPENTADOL</td>\n",
       "      <td>OH</td>\n",
       "      <td>452</td>\n",
       "      <td>2185.00</td>\n",
       "      <td>2398.50</td>\n",
       "      <td>4583.50</td>\n",
       "    </tr>\n",
       "    <tr>\n",
       "      <th>9</th>\n",
       "      <td>FENTANYL_BASE</td>\n",
       "      <td>OH</td>\n",
       "      <td>452</td>\n",
       "      <td>110.06</td>\n",
       "      <td>107.44</td>\n",
       "      <td>217.50</td>\n",
       "    </tr>\n",
       "  </tbody>\n",
       "</table>\n",
       "</div>"
      ],
      "text/plain": [
       "            DRUG STATE  ZIP_CODE  QUARTER_1  QUARTER_2  TOTAL_GRAMS\n",
       "0        CODEINE    OH       452    4059.48    3780.03      7839.51\n",
       "1  BUPRENORPHINE    OH       452    4672.99    4533.32      9206.31\n",
       "2  HYDROMORPHONE    OH       452     381.75     391.09       772.84\n",
       "3    HYDROCODONE    OH       452    8425.35    8278.04     16703.39\n",
       "4     MEPERIDINE    OH       452     571.92     461.35      1033.27\n",
       "5      METHADONE    OH       452   13795.37   13783.69     27579.06\n",
       "6       MORPHINE    OH       452    6541.44    6205.88     12747.32\n",
       "7    OXYMORPHONE    OH       452     142.20     131.54       273.74\n",
       "8     TAPENTADOL    OH       452    2185.00    2398.50      4583.50\n",
       "9  FENTANYL_BASE    OH       452     110.06     107.44       217.50"
      ]
     },
     "execution_count": 51,
     "metadata": {},
     "output_type": "execute_result"
    }
   ],
   "source": [
    "cin1_19 = rp1_19[rp1_19['ZIP_CODE']==452]\n",
    "cin1_19.reset_index(inplace=True)\n",
    "cin1_19.drop(['index'], axis=1, inplace=True)\n",
    "cin1_19.drop([2], axis=0, inplace=True)\n",
    "cin1_19.reset_index(inplace=True)\n",
    "cin1_19.drop(['index'], axis=1, inplace=True)\n",
    "cin1_19"
   ]
  },
  {
   "cell_type": "code",
   "execution_count": 52,
   "metadata": {},
   "outputs": [
    {
     "name": "stdout",
     "output_type": "stream",
     "text": [
      "Cincinnati 2019 Q1\n",
      "count       10.000000\n",
      "mean      4088.556000\n",
      "std       4478.614489\n",
      "min        110.060000\n",
      "25%        429.292500\n",
      "50%       3122.240000\n",
      "75%       6074.327500\n",
      "max      13795.370000\n",
      "Name: QUARTER_1, dtype: float64\n",
      "Cincinnati 2019 Q2\n",
      "count       10.000000\n",
      "mean      4007.088000\n",
      "std       4440.326828\n",
      "min        107.440000\n",
      "25%        408.655000\n",
      "50%       3089.265000\n",
      "75%       5787.740000\n",
      "max      13783.690000\n",
      "Name: QUARTER_2, dtype: float64\n",
      "(0.8621445298194885, 0.08087917417287827)\n",
      "(0.8564711809158325, 0.06932464241981506)\n"
     ]
    },
    {
     "data": {
      "text/plain": [
       "LeveneResult(statistic=0.00615599497652303, pvalue=0.9383276744974902)"
      ]
     },
     "execution_count": 52,
     "metadata": {},
     "output_type": "execute_result"
    }
   ],
   "source": [
    "print(\"Cincinnati 2019 Q1\")\n",
    "print(cin1_19.QUARTER_1.describe())\n",
    "print(\"Cincinnati 2019 Q2\")\n",
    "print(cin1_19.QUARTER_2.describe())\n",
    "print(stats.shapiro(cin1_19.QUARTER_1))\n",
    "print(stats.shapiro(cin1_19.QUARTER_2))\n",
    "stats.levene(cin1_19.QUARTER_1,cin1_19.QUARTER_2)"
   ]
  },
  {
   "cell_type": "code",
   "execution_count": 53,
   "metadata": {},
   "outputs": [
    {
     "data": {
      "text/plain": [
       "Ttest_indResult(statistic=0.04084931181697876, pvalue=0.9678657213112931)"
      ]
     },
     "execution_count": 53,
     "metadata": {},
     "output_type": "execute_result"
    }
   ],
   "source": [
    "cin1_19t = stats.ttest_ind(cin1_19.QUARTER_1,cin1_19.QUARTER_2)\n",
    "cin1_19t"
   ]
  },
  {
   "cell_type": "code",
   "execution_count": 54,
   "metadata": {},
   "outputs": [
    {
     "name": "stdout",
     "output_type": "stream",
     "text": [
      "(0.887789785861969, 0.16010808944702148)\n",
      "(0.8621445298194885, 0.08087917417287827)\n",
      "LeveneResult(statistic=0.09722548742942837, pvalue=0.7587677334822909)\n"
     ]
    },
    {
     "data": {
      "text/plain": [
       "Ttest_indResult(statistic=0.275686486373585, pvalue=0.7859288900953336)"
      ]
     },
     "execution_count": 54,
     "metadata": {},
     "output_type": "execute_result"
    }
   ],
   "source": [
    "print(stats.shapiro(cin1_18.QUARTER_1))\n",
    "print(stats.shapiro(cin1_19.QUARTER_1))\n",
    "print(stats.levene(cin1_18.QUARTER_1,cin1_19.QUARTER_1))\n",
    "stats.ttest_ind(cin1_18.QUARTER_1,cin1_19.QUARTER_1)"
   ]
  },
  {
   "cell_type": "code",
   "execution_count": 55,
   "metadata": {},
   "outputs": [
    {
     "name": "stdout",
     "output_type": "stream",
     "text": [
      "(0.8745236396789551, 0.1128290593624115)\n",
      "(0.8564711809158325, 0.06932464241981506)\n",
      "LeveneResult(statistic=0.08490027174418519, pvalue=0.7740945124784012)\n"
     ]
    },
    {
     "data": {
      "text/plain": [
       "Ttest_indResult(statistic=0.22545428465214162, pvalue=0.8241658088762999)"
      ]
     },
     "execution_count": 55,
     "metadata": {},
     "output_type": "execute_result"
    }
   ],
   "source": [
    "print(stats.shapiro(cin1_18.QUARTER_2))\n",
    "print(stats.shapiro(cin1_19.QUARTER_2))\n",
    "print(stats.levene(cin1_18.QUARTER_2,cin1_19.QUARTER_2))\n",
    "stats.ttest_ind(cin1_18.QUARTER_2,cin1_19.QUARTER_2)"
   ]
  },
  {
   "cell_type": "code",
   "execution_count": 56,
   "metadata": {},
   "outputs": [
    {
     "data": {
      "text/plain": [
       "<matplotlib.legend.Legend at 0x1a1e052d68>"
      ]
     },
     "execution_count": 56,
     "metadata": {},
     "output_type": "execute_result"
    },
    {
     "data": {
      "image/png": "[encoded data removed]",
      "text/plain": [
       "<Figure size 720x720 with 1 Axes>"
      ]
     },
     "metadata": {
      "needs_background": "light"
     },
     "output_type": "display_data"
    }
   ],
   "source": [
    "fig, ax = plt.subplots(figsize=(10,10))\n",
    "labels = cin1_18['DRUG']\n",
    "ax.plot(cin1_18['DRUG'], cin1_18['QUARTER_1'],color='red',label='18Q1')\n",
    "ax.plot(cin1_18['DRUG'], cin1_18['QUARTER_2'],color='black',label='18Q2')\n",
    "ax.plot(cin1_19['DRUG'], cin1_19['QUARTER_1'],color='purple',label='19Q1')\n",
    "ax.plot(cin1_19['DRUG'], cin1_19['QUARTER_2'],color='blue',label='19Q2')\n",
    "\n",
    "for tick in ax.get_xticklabels():\n",
    "    tick.set_rotation(-55)\n",
    "    \n",
    "ax.legend()"
   ]
  },
  {
   "cell_type": "code",
   "execution_count": null,
   "metadata": {},
   "outputs": [],
   "source": []
  }
 ],
 "metadata": {
  "kernelspec": {
   "display_name": "Python 3",
   "language": "python",
   "name": "python3"
  },
  "language_info": {
   "codemirror_mode": {
    "name": "ipython",
    "version": 3
   },
   "file_extension": ".py",
   "mimetype": "text/x-python",
   "name": "python",
   "nbconvert_exporter": "python",
   "pygments_lexer": "ipython3",
   "version": "3.6.8"
  }
 },
 "nbformat": 4,
 "nbformat_minor": 2
}
