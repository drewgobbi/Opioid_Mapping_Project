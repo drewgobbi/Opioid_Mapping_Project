{
 "cells": [
  {
   "cell_type": "code",
   "execution_count": 1,
   "metadata": {},
   "outputs": [],
   "source": [
    "import pandas as pd \n",
    "import numpy as np \n",
    "import matplotlib.pyplot as plt \n",
    "import seaborn as sns \n",
    "import geopandas as gpd \n",
    "import statsmodels.api as sm\n",
    "import statsmodels.formula.api as smf\n",
    "from time import strptime\n",
    "import os \n",
    "import patsy \n",
    "from shapely.wkt import loads\n",
    "import statsmodels.api as sm\n",
    "import statsmodels.formula.api as smf\n",
    "import pickle\n",
    "import statsmodels.api as sm\n",
    "import statsmodels.formula.api as smf\n",
    "import requests "
   ]
  },
  {
   "cell_type": "code",
   "execution_count": 2,
   "metadata": {},
   "outputs": [],
   "source": [
    "pnml = pd.read_csv('https://opendata.arcgis.com/datasets/93ee24cbf945405c8469742555670fc5_1.csv')"
   ]
  },
  {
   "cell_type": "code",
   "execution_count": 3,
   "metadata": {},
   "outputs": [
    {
     "data": {
      "text/html": [
       "<div>\n",
       "<style scoped>\n",
       "    .dataframe tbody tr th:only-of-type {\n",
       "        vertical-align: middle;\n",
       "    }\n",
       "\n",
       "    .dataframe tbody tr th {\n",
       "        vertical-align: top;\n",
       "    }\n",
       "\n",
       "    .dataframe thead th {\n",
       "        text-align: right;\n",
       "    }\n",
       "</style>\n",
       "<table border=\"1\" class=\"dataframe\">\n",
       "  <thead>\n",
       "    <tr style=\"text-align: right;\">\n",
       "      <th></th>\n",
       "      <th>OBJECTID</th>\n",
       "      <th>Site</th>\n",
       "      <th>Sample_Date</th>\n",
       "      <th>Day</th>\n",
       "      <th>Month</th>\n",
       "      <th>Chemical</th>\n",
       "      <th>Concentration__ng_L__Value</th>\n",
       "      <th>Concentration__ng_L__Error</th>\n",
       "      <th>Mass_Load__g_d__Value</th>\n",
       "      <th>Mass_Load__g_d__Error</th>\n",
       "      <th>Population_Normalized_Mass_Load</th>\n",
       "      <th>Population_Normalized_Mass_Lo_1</th>\n",
       "    </tr>\n",
       "  </thead>\n",
       "  <tbody>\n",
       "    <tr>\n",
       "      <th>0</th>\n",
       "      <td>4001</td>\n",
       "      <td>TP04</td>\n",
       "      <td>2019-12-04T07:00:00.000Z</td>\n",
       "      <td>(3) Wed</td>\n",
       "      <td>(12) Dec</td>\n",
       "      <td>Norfentanyl</td>\n",
       "      <td>14.02</td>\n",
       "      <td>0.37</td>\n",
       "      <td>0.08</td>\n",
       "      <td>0.00</td>\n",
       "      <td>15.07</td>\n",
       "      <td>0.0</td>\n",
       "    </tr>\n",
       "    <tr>\n",
       "      <th>1</th>\n",
       "      <td>4002</td>\n",
       "      <td>TP04</td>\n",
       "      <td>2019-12-05T07:00:00.000Z</td>\n",
       "      <td>(4) Thu</td>\n",
       "      <td>(12) Dec</td>\n",
       "      <td>Norfentanyl</td>\n",
       "      <td>9999.99</td>\n",
       "      <td>9999.99</td>\n",
       "      <td>9999.99</td>\n",
       "      <td>9999.99</td>\n",
       "      <td>9999.99</td>\n",
       "      <td>10000.0</td>\n",
       "    </tr>\n",
       "    <tr>\n",
       "      <th>2</th>\n",
       "      <td>4003</td>\n",
       "      <td>TP04</td>\n",
       "      <td>2019-12-06T07:00:00.000Z</td>\n",
       "      <td>(5) Fri</td>\n",
       "      <td>(12) Dec</td>\n",
       "      <td>Norfentanyl</td>\n",
       "      <td>11.06</td>\n",
       "      <td>0.46</td>\n",
       "      <td>0.07</td>\n",
       "      <td>0.00</td>\n",
       "      <td>12.06</td>\n",
       "      <td>0.0</td>\n",
       "    </tr>\n",
       "    <tr>\n",
       "      <th>3</th>\n",
       "      <td>4004</td>\n",
       "      <td>TP04</td>\n",
       "      <td>2019-12-07T07:00:00.000Z</td>\n",
       "      <td>(6) Sat</td>\n",
       "      <td>(12) Dec</td>\n",
       "      <td>Norfentanyl</td>\n",
       "      <td>9999.99</td>\n",
       "      <td>9999.99</td>\n",
       "      <td>9999.99</td>\n",
       "      <td>9999.99</td>\n",
       "      <td>9999.99</td>\n",
       "      <td>10000.0</td>\n",
       "    </tr>\n",
       "    <tr>\n",
       "      <th>4</th>\n",
       "      <td>4005</td>\n",
       "      <td>TP04</td>\n",
       "      <td>2019-12-08T07:00:00.000Z</td>\n",
       "      <td>(7) Sun</td>\n",
       "      <td>(12) Dec</td>\n",
       "      <td>Norfentanyl</td>\n",
       "      <td>13.62</td>\n",
       "      <td>1.13</td>\n",
       "      <td>0.07</td>\n",
       "      <td>0.01</td>\n",
       "      <td>12.78</td>\n",
       "      <td>1.0</td>\n",
       "    </tr>\n",
       "  </tbody>\n",
       "</table>\n",
       "</div>"
      ],
      "text/plain": [
       "   OBJECTID  Site               Sample_Date      Day     Month     Chemical  \\\n",
       "0      4001  TP04  2019-12-04T07:00:00.000Z  (3) Wed  (12) Dec  Norfentanyl   \n",
       "1      4002  TP04  2019-12-05T07:00:00.000Z  (4) Thu  (12) Dec  Norfentanyl   \n",
       "2      4003  TP04  2019-12-06T07:00:00.000Z  (5) Fri  (12) Dec  Norfentanyl   \n",
       "3      4004  TP04  2019-12-07T07:00:00.000Z  (6) Sat  (12) Dec  Norfentanyl   \n",
       "4      4005  TP04  2019-12-08T07:00:00.000Z  (7) Sun  (12) Dec  Norfentanyl   \n",
       "\n",
       "   Concentration__ng_L__Value  Concentration__ng_L__Error  \\\n",
       "0                       14.02                        0.37   \n",
       "1                     9999.99                     9999.99   \n",
       "2                       11.06                        0.46   \n",
       "3                     9999.99                     9999.99   \n",
       "4                       13.62                        1.13   \n",
       "\n",
       "   Mass_Load__g_d__Value  Mass_Load__g_d__Error  \\\n",
       "0                   0.08                   0.00   \n",
       "1                9999.99                9999.99   \n",
       "2                   0.07                   0.00   \n",
       "3                9999.99                9999.99   \n",
       "4                   0.07                   0.01   \n",
       "\n",
       "   Population_Normalized_Mass_Load  Population_Normalized_Mass_Lo_1  \n",
       "0                            15.07                              0.0  \n",
       "1                          9999.99                          10000.0  \n",
       "2                            12.06                              0.0  \n",
       "3                          9999.99                          10000.0  \n",
       "4                            12.78                              1.0  "
      ]
     },
     "execution_count": 3,
     "metadata": {},
     "output_type": "execute_result"
    }
   ],
   "source": [
    "pnml.head()"
   ]
  },
  {
   "cell_type": "code",
   "execution_count": 4,
   "metadata": {},
   "outputs": [
    {
     "data": {
      "text/html": [
       "<div>\n",
       "<style scoped>\n",
       "    .dataframe tbody tr th:only-of-type {\n",
       "        vertical-align: middle;\n",
       "    }\n",
       "\n",
       "    .dataframe tbody tr th {\n",
       "        vertical-align: top;\n",
       "    }\n",
       "\n",
       "    .dataframe thead th {\n",
       "        text-align: right;\n",
       "    }\n",
       "</style>\n",
       "<table border=\"1\" class=\"dataframe\">\n",
       "  <thead>\n",
       "    <tr style=\"text-align: right;\">\n",
       "      <th></th>\n",
       "      <th>Site</th>\n",
       "      <th>Shape__Area</th>\n",
       "      <th>Shape__Length</th>\n",
       "      <th>geometry</th>\n",
       "    </tr>\n",
       "  </thead>\n",
       "  <tbody>\n",
       "    <tr>\n",
       "      <th>0</th>\n",
       "      <td>TP03</td>\n",
       "      <td>1.989449e+08</td>\n",
       "      <td>83586.032009</td>\n",
       "      <td>POLYGON ((-111.956618962565 33.3860358074912, ...</td>\n",
       "    </tr>\n",
       "    <tr>\n",
       "      <th>1</th>\n",
       "      <td>TP04</td>\n",
       "      <td>4.853687e+07</td>\n",
       "      <td>35098.199997</td>\n",
       "      <td>POLYGON ((-111.960998549983 33.4304846143592, ...</td>\n",
       "    </tr>\n",
       "    <tr>\n",
       "      <th>2</th>\n",
       "      <td>TP05</td>\n",
       "      <td>3.438203e+07</td>\n",
       "      <td>29061.713553</td>\n",
       "      <td>POLYGON ((-111.954649070029 33.4446795745982, ...</td>\n",
       "    </tr>\n",
       "    <tr>\n",
       "      <th>3</th>\n",
       "      <td>TP01</td>\n",
       "      <td>6.272759e+08</td>\n",
       "      <td>209850.301918</td>\n",
       "      <td>POLYGON ((-111.943688201543 33.4352797966878, ...</td>\n",
       "    </tr>\n",
       "    <tr>\n",
       "      <th>4</th>\n",
       "      <td>TP02</td>\n",
       "      <td>1.995787e+08</td>\n",
       "      <td>111025.980804</td>\n",
       "      <td>POLYGON ((-111.939381200832 33.4584705122271, ...</td>\n",
       "    </tr>\n",
       "  </tbody>\n",
       "</table>\n",
       "</div>"
      ],
      "text/plain": [
       "   Site   Shape__Area  Shape__Length  \\\n",
       "0  TP03  1.989449e+08   83586.032009   \n",
       "1  TP04  4.853687e+07   35098.199997   \n",
       "2  TP05  3.438203e+07   29061.713553   \n",
       "3  TP01  6.272759e+08  209850.301918   \n",
       "4  TP02  1.995787e+08  111025.980804   \n",
       "\n",
       "                                            geometry  \n",
       "0  POLYGON ((-111.956618962565 33.3860358074912, ...  \n",
       "1  POLYGON ((-111.960998549983 33.4304846143592, ...  \n",
       "2  POLYGON ((-111.954649070029 33.4446795745982, ...  \n",
       "3  POLYGON ((-111.943688201543 33.4352797966878, ...  \n",
       "4  POLYGON ((-111.939381200832 33.4584705122271, ...  "
      ]
     },
     "execution_count": 4,
     "metadata": {},
     "output_type": "execute_result"
    }
   ],
   "source": [
    "sa = pd.read_csv('sa.csv')\n",
    "sa.drop(columns = ['Unnamed: 0', 'OBJECTID'], inplace=True)\n",
    "sa.head()"
   ]
  },
  {
   "cell_type": "code",
   "execution_count": 5,
   "metadata": {},
   "outputs": [],
   "source": [
    "from shapely.wkt import loads\n",
    "sa['geometry'] = sa['geometry'].apply(loads)\n",
    "sa = gpd.GeoDataFrame(sa, geometry=sa.geometry)"
   ]
  },
  {
   "cell_type": "code",
   "execution_count": 6,
   "metadata": {},
   "outputs": [
    {
     "data": {
      "text/html": [
       "<div>\n",
       "<style scoped>\n",
       "    .dataframe tbody tr th:only-of-type {\n",
       "        vertical-align: middle;\n",
       "    }\n",
       "\n",
       "    .dataframe tbody tr th {\n",
       "        vertical-align: top;\n",
       "    }\n",
       "\n",
       "    .dataframe thead th {\n",
       "        text-align: right;\n",
       "    }\n",
       "</style>\n",
       "<table border=\"1\" class=\"dataframe\">\n",
       "  <thead>\n",
       "    <tr style=\"text-align: right;\">\n",
       "      <th></th>\n",
       "      <th>OBJECTID</th>\n",
       "      <th>Site</th>\n",
       "      <th>Sample_Date</th>\n",
       "      <th>Day</th>\n",
       "      <th>Month</th>\n",
       "      <th>Chemical</th>\n",
       "      <th>Concentration__ng_L__Value</th>\n",
       "      <th>Concentration__ng_L__Error</th>\n",
       "      <th>Mass_Load__g_d__Value</th>\n",
       "      <th>Mass_Load__g_d__Error</th>\n",
       "      <th>Population_Normalized_Mass_Load</th>\n",
       "      <th>Population_Normalized_Mass_Lo_1</th>\n",
       "      <th>Shape__Area</th>\n",
       "      <th>Shape__Length</th>\n",
       "      <th>geometry</th>\n",
       "    </tr>\n",
       "  </thead>\n",
       "  <tbody>\n",
       "    <tr>\n",
       "      <th>0</th>\n",
       "      <td>4001</td>\n",
       "      <td>TP04</td>\n",
       "      <td>2019-12-04T07:00:00.000Z</td>\n",
       "      <td>(3) Wed</td>\n",
       "      <td>(12) Dec</td>\n",
       "      <td>Norfentanyl</td>\n",
       "      <td>14.02</td>\n",
       "      <td>0.37</td>\n",
       "      <td>0.08</td>\n",
       "      <td>0.00</td>\n",
       "      <td>15.07</td>\n",
       "      <td>0.0</td>\n",
       "      <td>4.853687e+07</td>\n",
       "      <td>35098.199997</td>\n",
       "      <td>POLYGON ((-111.96100 33.43048, -111.96089 33.4...</td>\n",
       "    </tr>\n",
       "    <tr>\n",
       "      <th>1</th>\n",
       "      <td>4002</td>\n",
       "      <td>TP04</td>\n",
       "      <td>2019-12-05T07:00:00.000Z</td>\n",
       "      <td>(4) Thu</td>\n",
       "      <td>(12) Dec</td>\n",
       "      <td>Norfentanyl</td>\n",
       "      <td>9999.99</td>\n",
       "      <td>9999.99</td>\n",
       "      <td>9999.99</td>\n",
       "      <td>9999.99</td>\n",
       "      <td>9999.99</td>\n",
       "      <td>10000.0</td>\n",
       "      <td>4.853687e+07</td>\n",
       "      <td>35098.199997</td>\n",
       "      <td>POLYGON ((-111.96100 33.43048, -111.96089 33.4...</td>\n",
       "    </tr>\n",
       "    <tr>\n",
       "      <th>2</th>\n",
       "      <td>4003</td>\n",
       "      <td>TP04</td>\n",
       "      <td>2019-12-06T07:00:00.000Z</td>\n",
       "      <td>(5) Fri</td>\n",
       "      <td>(12) Dec</td>\n",
       "      <td>Norfentanyl</td>\n",
       "      <td>11.06</td>\n",
       "      <td>0.46</td>\n",
       "      <td>0.07</td>\n",
       "      <td>0.00</td>\n",
       "      <td>12.06</td>\n",
       "      <td>0.0</td>\n",
       "      <td>4.853687e+07</td>\n",
       "      <td>35098.199997</td>\n",
       "      <td>POLYGON ((-111.96100 33.43048, -111.96089 33.4...</td>\n",
       "    </tr>\n",
       "    <tr>\n",
       "      <th>3</th>\n",
       "      <td>4004</td>\n",
       "      <td>TP04</td>\n",
       "      <td>2019-12-07T07:00:00.000Z</td>\n",
       "      <td>(6) Sat</td>\n",
       "      <td>(12) Dec</td>\n",
       "      <td>Norfentanyl</td>\n",
       "      <td>9999.99</td>\n",
       "      <td>9999.99</td>\n",
       "      <td>9999.99</td>\n",
       "      <td>9999.99</td>\n",
       "      <td>9999.99</td>\n",
       "      <td>10000.0</td>\n",
       "      <td>4.853687e+07</td>\n",
       "      <td>35098.199997</td>\n",
       "      <td>POLYGON ((-111.96100 33.43048, -111.96089 33.4...</td>\n",
       "    </tr>\n",
       "    <tr>\n",
       "      <th>4</th>\n",
       "      <td>4005</td>\n",
       "      <td>TP04</td>\n",
       "      <td>2019-12-08T07:00:00.000Z</td>\n",
       "      <td>(7) Sun</td>\n",
       "      <td>(12) Dec</td>\n",
       "      <td>Norfentanyl</td>\n",
       "      <td>13.62</td>\n",
       "      <td>1.13</td>\n",
       "      <td>0.07</td>\n",
       "      <td>0.01</td>\n",
       "      <td>12.78</td>\n",
       "      <td>1.0</td>\n",
       "      <td>4.853687e+07</td>\n",
       "      <td>35098.199997</td>\n",
       "      <td>POLYGON ((-111.96100 33.43048, -111.96089 33.4...</td>\n",
       "    </tr>\n",
       "  </tbody>\n",
       "</table>\n",
       "</div>"
      ],
      "text/plain": [
       "   OBJECTID  Site               Sample_Date      Day     Month     Chemical  \\\n",
       "0      4001  TP04  2019-12-04T07:00:00.000Z  (3) Wed  (12) Dec  Norfentanyl   \n",
       "1      4002  TP04  2019-12-05T07:00:00.000Z  (4) Thu  (12) Dec  Norfentanyl   \n",
       "2      4003  TP04  2019-12-06T07:00:00.000Z  (5) Fri  (12) Dec  Norfentanyl   \n",
       "3      4004  TP04  2019-12-07T07:00:00.000Z  (6) Sat  (12) Dec  Norfentanyl   \n",
       "4      4005  TP04  2019-12-08T07:00:00.000Z  (7) Sun  (12) Dec  Norfentanyl   \n",
       "\n",
       "   Concentration__ng_L__Value  Concentration__ng_L__Error  \\\n",
       "0                       14.02                        0.37   \n",
       "1                     9999.99                     9999.99   \n",
       "2                       11.06                        0.46   \n",
       "3                     9999.99                     9999.99   \n",
       "4                       13.62                        1.13   \n",
       "\n",
       "   Mass_Load__g_d__Value  Mass_Load__g_d__Error  \\\n",
       "0                   0.08                   0.00   \n",
       "1                9999.99                9999.99   \n",
       "2                   0.07                   0.00   \n",
       "3                9999.99                9999.99   \n",
       "4                   0.07                   0.01   \n",
       "\n",
       "   Population_Normalized_Mass_Load  Population_Normalized_Mass_Lo_1  \\\n",
       "0                            15.07                              0.0   \n",
       "1                          9999.99                          10000.0   \n",
       "2                            12.06                              0.0   \n",
       "3                          9999.99                          10000.0   \n",
       "4                            12.78                              1.0   \n",
       "\n",
       "    Shape__Area  Shape__Length  \\\n",
       "0  4.853687e+07   35098.199997   \n",
       "1  4.853687e+07   35098.199997   \n",
       "2  4.853687e+07   35098.199997   \n",
       "3  4.853687e+07   35098.199997   \n",
       "4  4.853687e+07   35098.199997   \n",
       "\n",
       "                                            geometry  \n",
       "0  POLYGON ((-111.96100 33.43048, -111.96089 33.4...  \n",
       "1  POLYGON ((-111.96100 33.43048, -111.96089 33.4...  \n",
       "2  POLYGON ((-111.96100 33.43048, -111.96089 33.4...  \n",
       "3  POLYGON ((-111.96100 33.43048, -111.96089 33.4...  \n",
       "4  POLYGON ((-111.96100 33.43048, -111.96089 33.4...  "
      ]
     },
     "execution_count": 6,
     "metadata": {},
     "output_type": "execute_result"
    }
   ],
   "source": [
    "pnml = pnml.merge(sa, on='Site')\n",
    "pnml.head()"
   ]
  },
  {
   "cell_type": "code",
   "execution_count": 7,
   "metadata": {},
   "outputs": [],
   "source": [
    "pnml = gpd.GeoDataFrame(pnml, geometry=pnml.geometry)"
   ]
  },
  {
   "cell_type": "code",
   "execution_count": 8,
   "metadata": {},
   "outputs": [
    {
     "data": {
      "text/plain": [
       "<matplotlib.axes._subplots.AxesSubplot at 0x1c272d5da0>"
      ]
     },
     "execution_count": 8,
     "metadata": {},
     "output_type": "execute_result"
    },
    {
     "data": {
      "image/png": "[encoded data removed]",
      "text/plain": [
       "<Figure size 432x288 with 1 Axes>"
      ]
     },
     "metadata": {
      "needs_background": "light"
     },
     "output_type": "display_data"
    }
   ],
   "source": [
    "pnml.boundary.plot()"
   ]
  },
  {
   "cell_type": "markdown",
   "metadata": {},
   "source": [
    "### Load in EMS Data Frame for same covariates and geometries"
   ]
  },
  {
   "cell_type": "code",
   "execution_count": 9,
   "metadata": {},
   "outputs": [],
   "source": [
    "bg_pkl = open('tempems_bg_pkl_030820', 'rb')\n",
    "\n",
    "df = pickle.load(bg_pkl)"
   ]
  },
  {
   "cell_type": "code",
   "execution_count": 10,
   "metadata": {},
   "outputs": [
    {
     "data": {
      "text/plain": [
       "<matplotlib.axes._subplots.AxesSubplot at 0x1c27f6b8d0>"
      ]
     },
     "execution_count": 10,
     "metadata": {},
     "output_type": "execute_result"
    },
    {
     "data": {
      "image/png": "[encoded data removed]",
      "text/plain": [
       "<Figure size 504x504 with 1 Axes>"
      ]
     },
     "metadata": {
      "needs_background": "light"
     },
     "output_type": "display_data"
    }
   ],
   "source": [
    "fig, ax = plt.subplots(figsize=(7,7))\n",
    "df.boundary.plot(ax=ax, color='red')\n",
    "pnml.plot(ax=ax, color='grey')"
   ]
  },
  {
   "cell_type": "code",
   "execution_count": 11,
   "metadata": {},
   "outputs": [
    {
     "name": "stderr",
     "output_type": "stream",
     "text": [
      "/Users/drewgobbi/anaconda3/lib/python3.7/site-packages/ipykernel_launcher.py:4: SettingWithCopyWarning: \n",
      "A value is trying to be set on a copy of a slice from a DataFrame.\n",
      "Try using .loc[row_indexer,col_indexer] = value instead\n",
      "\n",
      "See the caveats in the documentation: http://pandas.pydata.org/pandas-docs/stable/indexing.html#indexing-view-versus-copy\n",
      "  after removing the cwd from sys.path.\n"
     ]
    }
   ],
   "source": [
    "sites = pd.DataFrame()\n",
    "for i in range(len(df)):\n",
    "    out = pnml[pnml.intersects(df.loc[i,'geometry'])]\n",
    "    out['GIDBG'] = df.loc[i,'GIDBG']\n",
    "    sites = pd.concat([sites, out], axis=0)\n",
    "    "
   ]
  },
  {
   "cell_type": "code",
   "execution_count": 12,
   "metadata": {},
   "outputs": [
    {
     "data": {
      "text/html": [
       "<div>\n",
       "<style scoped>\n",
       "    .dataframe tbody tr th:only-of-type {\n",
       "        vertical-align: middle;\n",
       "    }\n",
       "\n",
       "    .dataframe tbody tr th {\n",
       "        vertical-align: top;\n",
       "    }\n",
       "\n",
       "    .dataframe thead th {\n",
       "        text-align: right;\n",
       "    }\n",
       "</style>\n",
       "<table border=\"1\" class=\"dataframe\">\n",
       "  <thead>\n",
       "    <tr style=\"text-align: right;\">\n",
       "      <th></th>\n",
       "      <th>OBJECTID</th>\n",
       "      <th>Site</th>\n",
       "      <th>Sample_Date</th>\n",
       "      <th>Day</th>\n",
       "      <th>Month</th>\n",
       "      <th>Chemical</th>\n",
       "      <th>Concentration__ng_L__Value</th>\n",
       "      <th>Concentration__ng_L__Error</th>\n",
       "      <th>Mass_Load__g_d__Value</th>\n",
       "      <th>Mass_Load__g_d__Error</th>\n",
       "      <th>Population_Normalized_Mass_Load</th>\n",
       "      <th>Population_Normalized_Mass_Lo_1</th>\n",
       "      <th>Shape__Area</th>\n",
       "      <th>Shape__Length</th>\n",
       "      <th>geometry</th>\n",
       "      <th>GIDBG</th>\n",
       "    </tr>\n",
       "  </thead>\n",
       "  <tbody>\n",
       "    <tr>\n",
       "      <th>1862</th>\n",
       "      <td>1030</td>\n",
       "      <td>TP02</td>\n",
       "      <td>2019-01-07T07:00:00.000Z</td>\n",
       "      <td>(1) Mon</td>\n",
       "      <td>(01) January</td>\n",
       "      <td>Oxycodone</td>\n",
       "      <td>67.38</td>\n",
       "      <td>0.19</td>\n",
       "      <td>1.30</td>\n",
       "      <td>0.0</td>\n",
       "      <td>21.28</td>\n",
       "      <td>0.0</td>\n",
       "      <td>1.995787e+08</td>\n",
       "      <td>111025.980804</td>\n",
       "      <td>POLYGON ((-111.93938 33.45847, -111.93502 33.4...</td>\n",
       "      <td>4.013318e+10</td>\n",
       "    </tr>\n",
       "    <tr>\n",
       "      <th>1863</th>\n",
       "      <td>1031</td>\n",
       "      <td>TP02</td>\n",
       "      <td>2019-01-08T07:00:00.000Z</td>\n",
       "      <td>(2) Tue</td>\n",
       "      <td>(01) January</td>\n",
       "      <td>Oxycodone</td>\n",
       "      <td>87.79</td>\n",
       "      <td>0.25</td>\n",
       "      <td>1.72</td>\n",
       "      <td>0.0</td>\n",
       "      <td>28.24</td>\n",
       "      <td>0.0</td>\n",
       "      <td>1.995787e+08</td>\n",
       "      <td>111025.980804</td>\n",
       "      <td>POLYGON ((-111.93938 33.45847, -111.93502 33.4...</td>\n",
       "      <td>4.013318e+10</td>\n",
       "    </tr>\n",
       "    <tr>\n",
       "      <th>1864</th>\n",
       "      <td>1032</td>\n",
       "      <td>TP02</td>\n",
       "      <td>2019-01-09T07:00:00.000Z</td>\n",
       "      <td>(3) Wed</td>\n",
       "      <td>(01) January</td>\n",
       "      <td>Oxycodone</td>\n",
       "      <td>75.13</td>\n",
       "      <td>0.22</td>\n",
       "      <td>1.41</td>\n",
       "      <td>0.0</td>\n",
       "      <td>23.18</td>\n",
       "      <td>0.0</td>\n",
       "      <td>1.995787e+08</td>\n",
       "      <td>111025.980804</td>\n",
       "      <td>POLYGON ((-111.93938 33.45847, -111.93502 33.4...</td>\n",
       "      <td>4.013318e+10</td>\n",
       "    </tr>\n",
       "    <tr>\n",
       "      <th>1865</th>\n",
       "      <td>1033</td>\n",
       "      <td>TP02</td>\n",
       "      <td>2019-01-10T07:00:00.000Z</td>\n",
       "      <td>(4) Thu</td>\n",
       "      <td>(01) January</td>\n",
       "      <td>Oxycodone</td>\n",
       "      <td>78.57</td>\n",
       "      <td>0.23</td>\n",
       "      <td>1.44</td>\n",
       "      <td>0.0</td>\n",
       "      <td>23.61</td>\n",
       "      <td>0.0</td>\n",
       "      <td>1.995787e+08</td>\n",
       "      <td>111025.980804</td>\n",
       "      <td>POLYGON ((-111.93938 33.45847, -111.93502 33.4...</td>\n",
       "      <td>4.013318e+10</td>\n",
       "    </tr>\n",
       "    <tr>\n",
       "      <th>1866</th>\n",
       "      <td>1034</td>\n",
       "      <td>TP02</td>\n",
       "      <td>2019-01-11T07:00:00.000Z</td>\n",
       "      <td>(5) Fri</td>\n",
       "      <td>(01) January</td>\n",
       "      <td>Oxycodone</td>\n",
       "      <td>95.10</td>\n",
       "      <td>0.27</td>\n",
       "      <td>1.72</td>\n",
       "      <td>0.0</td>\n",
       "      <td>28.28</td>\n",
       "      <td>0.0</td>\n",
       "      <td>1.995787e+08</td>\n",
       "      <td>111025.980804</td>\n",
       "      <td>POLYGON ((-111.93938 33.45847, -111.93502 33.4...</td>\n",
       "      <td>4.013318e+10</td>\n",
       "    </tr>\n",
       "  </tbody>\n",
       "</table>\n",
       "</div>"
      ],
      "text/plain": [
       "      OBJECTID  Site               Sample_Date      Day         Month  \\\n",
       "1862      1030  TP02  2019-01-07T07:00:00.000Z  (1) Mon  (01) January   \n",
       "1863      1031  TP02  2019-01-08T07:00:00.000Z  (2) Tue  (01) January   \n",
       "1864      1032  TP02  2019-01-09T07:00:00.000Z  (3) Wed  (01) January   \n",
       "1865      1033  TP02  2019-01-10T07:00:00.000Z  (4) Thu  (01) January   \n",
       "1866      1034  TP02  2019-01-11T07:00:00.000Z  (5) Fri  (01) January   \n",
       "\n",
       "       Chemical  Concentration__ng_L__Value  Concentration__ng_L__Error  \\\n",
       "1862  Oxycodone                       67.38                        0.19   \n",
       "1863  Oxycodone                       87.79                        0.25   \n",
       "1864  Oxycodone                       75.13                        0.22   \n",
       "1865  Oxycodone                       78.57                        0.23   \n",
       "1866  Oxycodone                       95.10                        0.27   \n",
       "\n",
       "      Mass_Load__g_d__Value  Mass_Load__g_d__Error  \\\n",
       "1862                   1.30                    0.0   \n",
       "1863                   1.72                    0.0   \n",
       "1864                   1.41                    0.0   \n",
       "1865                   1.44                    0.0   \n",
       "1866                   1.72                    0.0   \n",
       "\n",
       "      Population_Normalized_Mass_Load  Population_Normalized_Mass_Lo_1  \\\n",
       "1862                            21.28                              0.0   \n",
       "1863                            28.24                              0.0   \n",
       "1864                            23.18                              0.0   \n",
       "1865                            23.61                              0.0   \n",
       "1866                            28.28                              0.0   \n",
       "\n",
       "       Shape__Area  Shape__Length  \\\n",
       "1862  1.995787e+08  111025.980804   \n",
       "1863  1.995787e+08  111025.980804   \n",
       "1864  1.995787e+08  111025.980804   \n",
       "1865  1.995787e+08  111025.980804   \n",
       "1866  1.995787e+08  111025.980804   \n",
       "\n",
       "                                               geometry         GIDBG  \n",
       "1862  POLYGON ((-111.93938 33.45847, -111.93502 33.4...  4.013318e+10  \n",
       "1863  POLYGON ((-111.93938 33.45847, -111.93502 33.4...  4.013318e+10  \n",
       "1864  POLYGON ((-111.93938 33.45847, -111.93502 33.4...  4.013318e+10  \n",
       "1865  POLYGON ((-111.93938 33.45847, -111.93502 33.4...  4.013318e+10  \n",
       "1866  POLYGON ((-111.93938 33.45847, -111.93502 33.4...  4.013318e+10  "
      ]
     },
     "execution_count": 12,
     "metadata": {},
     "output_type": "execute_result"
    }
   ],
   "source": [
    "sites.head()"
   ]
  },
  {
   "cell_type": "code",
   "execution_count": 13,
   "metadata": {},
   "outputs": [],
   "source": [
    "sites.Sample_Date = pd.to_datetime(sites.Sample_Date)"
   ]
  },
  {
   "cell_type": "code",
   "execution_count": 14,
   "metadata": {},
   "outputs": [],
   "source": [
    "sites['year_month'] = sites.Sample_Date.dt.year + sites.Sample_Date.dt.month/100"
   ]
  },
  {
   "cell_type": "code",
   "execution_count": 15,
   "metadata": {},
   "outputs": [],
   "source": [
    "test = df.merge(sites, on=['year_month', 'GIDBG'], how='left')"
   ]
  },
  {
   "cell_type": "code",
   "execution_count": 16,
   "metadata": {},
   "outputs": [
    {
     "data": {
      "text/plain": [
       "0     2017.01\n",
       "79    2017.01\n",
       "78    2017.01\n",
       "77    2017.01\n",
       "76    2017.01\n",
       "Name: year_month, dtype: float64"
      ]
     },
     "execution_count": 16,
     "metadata": {},
     "output_type": "execute_result"
    }
   ],
   "source": [
    "df.year_month.head()"
   ]
  },
  {
   "cell_type": "code",
   "execution_count": 17,
   "metadata": {},
   "outputs": [
    {
     "data": {
      "text/plain": [
       "1862    2019.01\n",
       "1863    2019.01\n",
       "1864    2019.01\n",
       "1865    2019.01\n",
       "1866    2019.01\n",
       "Name: year_month, dtype: float64"
      ]
     },
     "execution_count": 17,
     "metadata": {},
     "output_type": "execute_result"
    }
   ],
   "source": [
    "sites.year_month.head()"
   ]
  },
  {
   "cell_type": "code",
   "execution_count": 18,
   "metadata": {},
   "outputs": [
    {
     "data": {
      "text/plain": [
       "1862    4.013318e+10\n",
       "1863    4.013318e+10\n",
       "1864    4.013318e+10\n",
       "1865    4.013318e+10\n",
       "1866    4.013318e+10\n",
       "Name: GIDBG, dtype: float64"
      ]
     },
     "execution_count": 18,
     "metadata": {},
     "output_type": "execute_result"
    }
   ],
   "source": [
    "sites.GIDBG.head()"
   ]
  },
  {
   "cell_type": "code",
   "execution_count": 19,
   "metadata": {},
   "outputs": [
    {
     "data": {
      "text/plain": [
       "0     4.013318e+10\n",
       "79    4.013320e+10\n",
       "78    4.013320e+10\n",
       "77    4.013320e+10\n",
       "76    4.013320e+10\n",
       "Name: GIDBG, dtype: float64"
      ]
     },
     "execution_count": 19,
     "metadata": {},
     "output_type": "execute_result"
    }
   ],
   "source": [
    "df.GIDBG.head()"
   ]
  },
  {
   "cell_type": "code",
   "execution_count": 20,
   "metadata": {},
   "outputs": [],
   "source": [
    "df = df.merge(sites, on=['GIDBG', 'year_month'], how='left')"
   ]
  },
  {
   "cell_type": "code",
   "execution_count": 21,
   "metadata": {},
   "outputs": [],
   "source": [
    "df.dropna(inplace=True)"
   ]
  },
  {
   "cell_type": "code",
   "execution_count": 22,
   "metadata": {},
   "outputs": [
    {
     "data": {
      "text/plain": [
       "1862    POLYGON ((-111.93938 33.45847, -111.93502 33.4...\n",
       "1863    POLYGON ((-111.93938 33.45847, -111.93502 33.4...\n",
       "1864    POLYGON ((-111.93938 33.45847, -111.93502 33.4...\n",
       "1865    POLYGON ((-111.93938 33.45847, -111.93502 33.4...\n",
       "1866    POLYGON ((-111.93938 33.45847, -111.93502 33.4...\n",
       "Name: geometry, dtype: geometry"
      ]
     },
     "execution_count": 22,
     "metadata": {},
     "output_type": "execute_result"
    }
   ],
   "source": [
    "sites.geometry.head()"
   ]
  },
  {
   "cell_type": "code",
   "execution_count": 23,
   "metadata": {
    "scrolled": true
   },
   "outputs": [],
   "source": [
    "df.drop(columns=['geometry_x'], inplace=True)"
   ]
  },
  {
   "cell_type": "code",
   "execution_count": 25,
   "metadata": {},
   "outputs": [],
   "source": [
    "df.rename(columns={'geometry_y':'geometry'}, inplace=True)"
   ]
  },
  {
   "cell_type": "code",
   "execution_count": 26,
   "metadata": {},
   "outputs": [],
   "source": [
    "df = gpd.GeoDataFrame(df, geometry=df.geometry)"
   ]
  },
  {
   "cell_type": "code",
   "execution_count": 27,
   "metadata": {},
   "outputs": [
    {
     "data": {
      "text/plain": [
       "array(['Oxycodone', 'Noroxycodone', 'Codeine', 'Fentanyl', 'Norfentanyl',\n",
       "       'Heroin', '6-Acetylmorphine'], dtype=object)"
      ]
     },
     "execution_count": 27,
     "metadata": {},
     "output_type": "execute_result"
    }
   ],
   "source": [
    "df.Chemical.unique()"
   ]
  },
  {
   "cell_type": "code",
   "execution_count": 28,
   "metadata": {},
   "outputs": [],
   "source": [
    "df.rename(columns={'Population_Normalized_Mass_Load':'pnml'},inplace=True)"
   ]
  },
  {
   "cell_type": "code",
   "execution_count": 29,
   "metadata": {},
   "outputs": [],
   "source": [
    "df.pnml.replace(9999.99, np.NaN, inplace=True)\n",
    "df.pnml.replace(-9999.99, np.NaN, inplace=True)\n"
   ]
  },
  {
   "cell_type": "code",
   "execution_count": 30,
   "metadata": {},
   "outputs": [
    {
     "data": {
      "text/plain": [
       "count    2.073687e+06\n",
       "mean    -5.226664e+02\n",
       "std      1.912018e+03\n",
       "min     -8.888880e+03\n",
       "25%      3.240000e+00\n",
       "50%      1.821000e+01\n",
       "75%      4.121000e+01\n",
       "max      2.915700e+02\n",
       "Name: pnml, dtype: float64"
      ]
     },
     "execution_count": 30,
     "metadata": {},
     "output_type": "execute_result"
    }
   ],
   "source": [
    "df.pnml.describe().T"
   ]
  },
  {
   "cell_type": "code",
   "execution_count": 31,
   "metadata": {},
   "outputs": [
    {
     "data": {
      "text/plain": [
       "1760    47.26\n",
       "1761      NaN\n",
       "1762    58.30\n",
       "1763    60.19\n",
       "1764    40.99\n",
       "Name: pnml, dtype: float64"
      ]
     },
     "execution_count": 31,
     "metadata": {},
     "output_type": "execute_result"
    }
   ],
   "source": [
    "df.pnml.head()"
   ]
  },
  {
   "cell_type": "code",
   "execution_count": 34,
   "metadata": {},
   "outputs": [
    {
     "data": {
      "text/plain": [
       "array([-5555.55, -7777.77, -8888.88, -6666.66])"
      ]
     },
     "execution_count": 34,
     "metadata": {},
     "output_type": "execute_result"
    }
   ],
   "source": [
    "df.pnml[df.pnml <0].unique()"
   ]
  },
  {
   "cell_type": "code",
   "execution_count": null,
   "metadata": {},
   "outputs": [],
   "source": []
  },
  {
   "cell_type": "code",
   "execution_count": null,
   "metadata": {},
   "outputs": [],
   "source": []
  },
  {
   "cell_type": "code",
   "execution_count": null,
   "metadata": {},
   "outputs": [],
   "source": []
  },
  {
   "cell_type": "code",
   "execution_count": 35,
   "metadata": {},
   "outputs": [],
   "source": [
    "her = df[df['Chemical'] == 'Heroin']\n",
    "oxy = df[df['Chemical'] == 'Oxycodone']\n",
    "noxy = df[df['Chemical'] == 'Noroxycodone']\n",
    "cod = df[df['Chemical'] == 'Codeine']\n",
    "fent = df[df['Chemical'] == 'Fentanyl']\n",
    "norf = df[df['Chemical'] == 'Norfentanyl']\n",
    "ace6 = df[df['Chemical'] == '6-Acetylmorphine']\n",
    "\n"
   ]
  },
  {
   "cell_type": "markdown",
   "metadata": {},
   "source": [
    "### Partion and Make Pickles by Drugs"
   ]
  },
  {
   "cell_type": "markdown",
   "metadata": {},
   "source": [
    "#### heroin"
   ]
  },
  {
   "cell_type": "code",
   "execution_count": 36,
   "metadata": {},
   "outputs": [],
   "source": [
    "gb = her.groupby(['Site', 'year_month']).mean()"
   ]
  },
  {
   "cell_type": "code",
   "execution_count": 37,
   "metadata": {},
   "outputs": [],
   "source": [
    "gb.reset_index(inplace=True)"
   ]
  },
  {
   "cell_type": "code",
   "execution_count": 38,
   "metadata": {},
   "outputs": [
    {
     "data": {
      "text/plain": [
       "Index(['Site', 'year_month', 'GIDBG', 'pct_Males_ACS_13_17',\n",
       "       'pct_Pop_18_24_ACS_13_17', 'pct_Pop_25_44_ACS_13_17',\n",
       "       'pct_Pop_45_64_ACS_13_17', 'pct_Pop_65plus_ACS_13_17',\n",
       "       'pct_Hispanic_ACS_13_17', 'pct_NH_White_alone_CEN_2010',\n",
       "       'pct_NH_Blk_alone_ACS_13_17', 'pct_NH_Asian_alone_ACS_13_17',\n",
       "       'Med_HHD_Inc_BG_ACS_13_17', 'pct_Prs_Blw_Pov_Lev_ACS_13_17',\n",
       "       'Med_House_Value_BG_ACS_13_17', 'pct_College_ACS_13_17', 'ems_calls',\n",
       "       'log_pop', 'OBJECTID', 'Concentration__ng_L__Value',\n",
       "       'Concentration__ng_L__Error', 'Mass_Load__g_d__Value',\n",
       "       'Mass_Load__g_d__Error', 'pnml', 'Population_Normalized_Mass_Lo_1',\n",
       "       'Shape__Area', 'Shape__Length'],\n",
       "      dtype='object')"
      ]
     },
     "execution_count": 38,
     "metadata": {},
     "output_type": "execute_result"
    }
   ],
   "source": [
    "gb.columns"
   ]
  },
  {
   "cell_type": "code",
   "execution_count": 39,
   "metadata": {
    "scrolled": true
   },
   "outputs": [
    {
     "data": {
      "text/plain": [
       "(68, 27)"
      ]
     },
     "execution_count": 39,
     "metadata": {},
     "output_type": "execute_result"
    }
   ],
   "source": [
    "gb.shape"
   ]
  },
  {
   "cell_type": "code",
   "execution_count": 40,
   "metadata": {},
   "outputs": [
    {
     "data": {
      "text/html": [
       "<div>\n",
       "<style scoped>\n",
       "    .dataframe tbody tr th:only-of-type {\n",
       "        vertical-align: middle;\n",
       "    }\n",
       "\n",
       "    .dataframe tbody tr th {\n",
       "        vertical-align: top;\n",
       "    }\n",
       "\n",
       "    .dataframe thead th {\n",
       "        text-align: right;\n",
       "    }\n",
       "</style>\n",
       "<table border=\"1\" class=\"dataframe\">\n",
       "  <thead>\n",
       "    <tr style=\"text-align: right;\">\n",
       "      <th></th>\n",
       "      <th>Site</th>\n",
       "      <th>year_month</th>\n",
       "      <th>GIDBG</th>\n",
       "      <th>pct_Males_ACS_13_17</th>\n",
       "      <th>pct_Pop_18_24_ACS_13_17</th>\n",
       "      <th>pct_Pop_25_44_ACS_13_17</th>\n",
       "      <th>pct_Pop_45_64_ACS_13_17</th>\n",
       "      <th>pct_Pop_65plus_ACS_13_17</th>\n",
       "      <th>pct_Hispanic_ACS_13_17</th>\n",
       "      <th>pct_NH_White_alone_CEN_2010</th>\n",
       "      <th>...</th>\n",
       "      <th>log_pop</th>\n",
       "      <th>OBJECTID</th>\n",
       "      <th>Concentration__ng_L__Value</th>\n",
       "      <th>Concentration__ng_L__Error</th>\n",
       "      <th>Mass_Load__g_d__Value</th>\n",
       "      <th>Mass_Load__g_d__Error</th>\n",
       "      <th>pnml</th>\n",
       "      <th>Population_Normalized_Mass_Lo_1</th>\n",
       "      <th>Shape__Area</th>\n",
       "      <th>Shape__Length</th>\n",
       "    </tr>\n",
       "  </thead>\n",
       "  <tbody>\n",
       "    <tr>\n",
       "      <th>0</th>\n",
       "      <td>TP01</td>\n",
       "      <td>2018.12</td>\n",
       "      <td>4.013353e+10</td>\n",
       "      <td>0.535081</td>\n",
       "      <td>0.189228</td>\n",
       "      <td>0.287736</td>\n",
       "      <td>0.228043</td>\n",
       "      <td>0.13347</td>\n",
       "      <td>0.194681</td>\n",
       "      <td>0.681981</td>\n",
       "      <td>...</td>\n",
       "      <td>7.295777</td>\n",
       "      <td>2539.0</td>\n",
       "      <td>-7122.428571</td>\n",
       "      <td>-7142.071429</td>\n",
       "      <td>-7141.698571</td>\n",
       "      <td>-7142.765714</td>\n",
       "      <td>36.050000</td>\n",
       "      <td>-7142.142857</td>\n",
       "      <td>6.272759e+08</td>\n",
       "      <td>209850.301918</td>\n",
       "    </tr>\n",
       "    <tr>\n",
       "      <th>1</th>\n",
       "      <td>TP01</td>\n",
       "      <td>2019.01</td>\n",
       "      <td>4.013353e+10</td>\n",
       "      <td>0.535081</td>\n",
       "      <td>0.189228</td>\n",
       "      <td>0.287736</td>\n",
       "      <td>0.228043</td>\n",
       "      <td>0.13347</td>\n",
       "      <td>0.194681</td>\n",
       "      <td>0.681981</td>\n",
       "      <td>...</td>\n",
       "      <td>7.295777</td>\n",
       "      <td>2637.0</td>\n",
       "      <td>29.017143</td>\n",
       "      <td>2.380000</td>\n",
       "      <td>1.134286</td>\n",
       "      <td>0.185714</td>\n",
       "      <td>10.150000</td>\n",
       "      <td>1.714286</td>\n",
       "      <td>6.272759e+08</td>\n",
       "      <td>209850.301918</td>\n",
       "    </tr>\n",
       "    <tr>\n",
       "      <th>2</th>\n",
       "      <td>TP01</td>\n",
       "      <td>2019.02</td>\n",
       "      <td>4.013353e+10</td>\n",
       "      <td>0.535081</td>\n",
       "      <td>0.189228</td>\n",
       "      <td>0.287736</td>\n",
       "      <td>0.228043</td>\n",
       "      <td>0.13347</td>\n",
       "      <td>0.194681</td>\n",
       "      <td>0.681981</td>\n",
       "      <td>...</td>\n",
       "      <td>7.295777</td>\n",
       "      <td>2735.0</td>\n",
       "      <td>16.935714</td>\n",
       "      <td>1.901429</td>\n",
       "      <td>-3174.284286</td>\n",
       "      <td>-3174.535714</td>\n",
       "      <td>-3171.775714</td>\n",
       "      <td>-3174.142857</td>\n",
       "      <td>6.272759e+08</td>\n",
       "      <td>209850.301918</td>\n",
       "    </tr>\n",
       "    <tr>\n",
       "      <th>3</th>\n",
       "      <td>TP01</td>\n",
       "      <td>2019.03</td>\n",
       "      <td>4.013353e+10</td>\n",
       "      <td>0.535081</td>\n",
       "      <td>0.189228</td>\n",
       "      <td>0.287736</td>\n",
       "      <td>0.228043</td>\n",
       "      <td>0.13347</td>\n",
       "      <td>0.194681</td>\n",
       "      <td>0.681981</td>\n",
       "      <td>...</td>\n",
       "      <td>7.295777</td>\n",
       "      <td>2833.0</td>\n",
       "      <td>-1416.335714</td>\n",
       "      <td>-1427.644286</td>\n",
       "      <td>-3015.631429</td>\n",
       "      <td>-3015.824286</td>\n",
       "      <td>-1849.370000</td>\n",
       "      <td>-3015.571429</td>\n",
       "      <td>6.272759e+08</td>\n",
       "      <td>209850.301918</td>\n",
       "    </tr>\n",
       "    <tr>\n",
       "      <th>4</th>\n",
       "      <td>TP01</td>\n",
       "      <td>2019.04</td>\n",
       "      <td>4.013353e+10</td>\n",
       "      <td>0.535081</td>\n",
       "      <td>0.189228</td>\n",
       "      <td>0.287736</td>\n",
       "      <td>0.228043</td>\n",
       "      <td>0.13347</td>\n",
       "      <td>0.194681</td>\n",
       "      <td>0.681981</td>\n",
       "      <td>...</td>\n",
       "      <td>7.295777</td>\n",
       "      <td>2931.0</td>\n",
       "      <td>-5710.871429</td>\n",
       "      <td>-5714.028571</td>\n",
       "      <td>-7777.770000</td>\n",
       "      <td>-7777.770000</td>\n",
       "      <td>-6111.105000</td>\n",
       "      <td>-7778.000000</td>\n",
       "      <td>6.272759e+08</td>\n",
       "      <td>209850.301918</td>\n",
       "    </tr>\n",
       "  </tbody>\n",
       "</table>\n",
       "<p>5 rows × 27 columns</p>\n",
       "</div>"
      ],
      "text/plain": [
       "   Site  year_month         GIDBG  pct_Males_ACS_13_17  \\\n",
       "0  TP01     2018.12  4.013353e+10             0.535081   \n",
       "1  TP01     2019.01  4.013353e+10             0.535081   \n",
       "2  TP01     2019.02  4.013353e+10             0.535081   \n",
       "3  TP01     2019.03  4.013353e+10             0.535081   \n",
       "4  TP01     2019.04  4.013353e+10             0.535081   \n",
       "\n",
       "   pct_Pop_18_24_ACS_13_17  pct_Pop_25_44_ACS_13_17  pct_Pop_45_64_ACS_13_17  \\\n",
       "0                 0.189228                 0.287736                 0.228043   \n",
       "1                 0.189228                 0.287736                 0.228043   \n",
       "2                 0.189228                 0.287736                 0.228043   \n",
       "3                 0.189228                 0.287736                 0.228043   \n",
       "4                 0.189228                 0.287736                 0.228043   \n",
       "\n",
       "   pct_Pop_65plus_ACS_13_17  pct_Hispanic_ACS_13_17  \\\n",
       "0                   0.13347                0.194681   \n",
       "1                   0.13347                0.194681   \n",
       "2                   0.13347                0.194681   \n",
       "3                   0.13347                0.194681   \n",
       "4                   0.13347                0.194681   \n",
       "\n",
       "   pct_NH_White_alone_CEN_2010  ...   log_pop  OBJECTID  \\\n",
       "0                     0.681981  ...  7.295777    2539.0   \n",
       "1                     0.681981  ...  7.295777    2637.0   \n",
       "2                     0.681981  ...  7.295777    2735.0   \n",
       "3                     0.681981  ...  7.295777    2833.0   \n",
       "4                     0.681981  ...  7.295777    2931.0   \n",
       "\n",
       "   Concentration__ng_L__Value  Concentration__ng_L__Error  \\\n",
       "0                -7122.428571                -7142.071429   \n",
       "1                   29.017143                    2.380000   \n",
       "2                   16.935714                    1.901429   \n",
       "3                -1416.335714                -1427.644286   \n",
       "4                -5710.871429                -5714.028571   \n",
       "\n",
       "   Mass_Load__g_d__Value  Mass_Load__g_d__Error         pnml  \\\n",
       "0           -7141.698571           -7142.765714    36.050000   \n",
       "1               1.134286               0.185714    10.150000   \n",
       "2           -3174.284286           -3174.535714 -3171.775714   \n",
       "3           -3015.631429           -3015.824286 -1849.370000   \n",
       "4           -7777.770000           -7777.770000 -6111.105000   \n",
       "\n",
       "   Population_Normalized_Mass_Lo_1   Shape__Area  Shape__Length  \n",
       "0                     -7142.142857  6.272759e+08  209850.301918  \n",
       "1                         1.714286  6.272759e+08  209850.301918  \n",
       "2                     -3174.142857  6.272759e+08  209850.301918  \n",
       "3                     -3015.571429  6.272759e+08  209850.301918  \n",
       "4                     -7778.000000  6.272759e+08  209850.301918  \n",
       "\n",
       "[5 rows x 27 columns]"
      ]
     },
     "execution_count": 40,
     "metadata": {},
     "output_type": "execute_result"
    }
   ],
   "source": [
    "gb.head()"
   ]
  },
  {
   "cell_type": "code",
   "execution_count": 41,
   "metadata": {},
   "outputs": [],
   "source": [
    "pickle_out = open(\"her_pnml_pkl_030820\",\"wb\")\n",
    "pickle.dump(gb, pickle_out)\n",
    "pickle_out.close()"
   ]
  },
  {
   "cell_type": "markdown",
   "metadata": {},
   "source": [
    "#### oxy"
   ]
  },
  {
   "cell_type": "code",
   "execution_count": 42,
   "metadata": {},
   "outputs": [],
   "source": [
    "gb = oxy.groupby(['Site', 'year_month']).mean()"
   ]
  },
  {
   "cell_type": "code",
   "execution_count": 43,
   "metadata": {},
   "outputs": [],
   "source": [
    "gb.reset_index(inplace=True)"
   ]
  },
  {
   "cell_type": "code",
   "execution_count": 44,
   "metadata": {},
   "outputs": [
    {
     "data": {
      "text/plain": [
       "Index(['Site', 'year_month', 'GIDBG', 'pct_Males_ACS_13_17',\n",
       "       'pct_Pop_18_24_ACS_13_17', 'pct_Pop_25_44_ACS_13_17',\n",
       "       'pct_Pop_45_64_ACS_13_17', 'pct_Pop_65plus_ACS_13_17',\n",
       "       'pct_Hispanic_ACS_13_17', 'pct_NH_White_alone_CEN_2010',\n",
       "       'pct_NH_Blk_alone_ACS_13_17', 'pct_NH_Asian_alone_ACS_13_17',\n",
       "       'Med_HHD_Inc_BG_ACS_13_17', 'pct_Prs_Blw_Pov_Lev_ACS_13_17',\n",
       "       'Med_House_Value_BG_ACS_13_17', 'pct_College_ACS_13_17', 'ems_calls',\n",
       "       'log_pop', 'OBJECTID', 'Concentration__ng_L__Value',\n",
       "       'Concentration__ng_L__Error', 'Mass_Load__g_d__Value',\n",
       "       'Mass_Load__g_d__Error', 'pnml', 'Population_Normalized_Mass_Lo_1',\n",
       "       'Shape__Area', 'Shape__Length'],\n",
       "      dtype='object')"
      ]
     },
     "execution_count": 44,
     "metadata": {},
     "output_type": "execute_result"
    }
   ],
   "source": [
    "gb.columns"
   ]
  },
  {
   "cell_type": "code",
   "execution_count": 45,
   "metadata": {
    "scrolled": true
   },
   "outputs": [
    {
     "data": {
      "text/plain": [
       "(68, 27)"
      ]
     },
     "execution_count": 45,
     "metadata": {},
     "output_type": "execute_result"
    }
   ],
   "source": [
    "gb.shape"
   ]
  },
  {
   "cell_type": "code",
   "execution_count": 46,
   "metadata": {},
   "outputs": [
    {
     "data": {
      "text/html": [
       "<div>\n",
       "<style scoped>\n",
       "    .dataframe tbody tr th:only-of-type {\n",
       "        vertical-align: middle;\n",
       "    }\n",
       "\n",
       "    .dataframe tbody tr th {\n",
       "        vertical-align: top;\n",
       "    }\n",
       "\n",
       "    .dataframe thead th {\n",
       "        text-align: right;\n",
       "    }\n",
       "</style>\n",
       "<table border=\"1\" class=\"dataframe\">\n",
       "  <thead>\n",
       "    <tr style=\"text-align: right;\">\n",
       "      <th></th>\n",
       "      <th>Site</th>\n",
       "      <th>year_month</th>\n",
       "      <th>GIDBG</th>\n",
       "      <th>pct_Males_ACS_13_17</th>\n",
       "      <th>pct_Pop_18_24_ACS_13_17</th>\n",
       "      <th>pct_Pop_25_44_ACS_13_17</th>\n",
       "      <th>pct_Pop_45_64_ACS_13_17</th>\n",
       "      <th>pct_Pop_65plus_ACS_13_17</th>\n",
       "      <th>pct_Hispanic_ACS_13_17</th>\n",
       "      <th>pct_NH_White_alone_CEN_2010</th>\n",
       "      <th>...</th>\n",
       "      <th>log_pop</th>\n",
       "      <th>OBJECTID</th>\n",
       "      <th>Concentration__ng_L__Value</th>\n",
       "      <th>Concentration__ng_L__Error</th>\n",
       "      <th>Mass_Load__g_d__Value</th>\n",
       "      <th>Mass_Load__g_d__Error</th>\n",
       "      <th>pnml</th>\n",
       "      <th>Population_Normalized_Mass_Lo_1</th>\n",
       "      <th>Shape__Area</th>\n",
       "      <th>Shape__Length</th>\n",
       "    </tr>\n",
       "  </thead>\n",
       "  <tbody>\n",
       "    <tr>\n",
       "      <th>0</th>\n",
       "      <td>TP01</td>\n",
       "      <td>2018.12</td>\n",
       "      <td>4.013353e+10</td>\n",
       "      <td>0.535081</td>\n",
       "      <td>0.189228</td>\n",
       "      <td>0.287736</td>\n",
       "      <td>0.228043</td>\n",
       "      <td>0.13347</td>\n",
       "      <td>0.194681</td>\n",
       "      <td>0.681981</td>\n",
       "      <td>...</td>\n",
       "      <td>7.295777</td>\n",
       "      <td>2504.0</td>\n",
       "      <td>175.851429</td>\n",
       "      <td>6.161429</td>\n",
       "      <td>6.337143</td>\n",
       "      <td>0.455714</td>\n",
       "      <td>56.747143</td>\n",
       "      <td>3.857143</td>\n",
       "      <td>6.272759e+08</td>\n",
       "      <td>209850.301918</td>\n",
       "    </tr>\n",
       "    <tr>\n",
       "      <th>1</th>\n",
       "      <td>TP01</td>\n",
       "      <td>2019.01</td>\n",
       "      <td>4.013353e+10</td>\n",
       "      <td>0.535081</td>\n",
       "      <td>0.189228</td>\n",
       "      <td>0.287736</td>\n",
       "      <td>0.228043</td>\n",
       "      <td>0.13347</td>\n",
       "      <td>0.194681</td>\n",
       "      <td>0.681981</td>\n",
       "      <td>...</td>\n",
       "      <td>7.295777</td>\n",
       "      <td>2602.0</td>\n",
       "      <td>147.204286</td>\n",
       "      <td>0.572857</td>\n",
       "      <td>5.084286</td>\n",
       "      <td>0.654286</td>\n",
       "      <td>45.534286</td>\n",
       "      <td>5.857143</td>\n",
       "      <td>6.272759e+08</td>\n",
       "      <td>209850.301918</td>\n",
       "    </tr>\n",
       "    <tr>\n",
       "      <th>2</th>\n",
       "      <td>TP01</td>\n",
       "      <td>2019.02</td>\n",
       "      <td>4.013353e+10</td>\n",
       "      <td>0.535081</td>\n",
       "      <td>0.189228</td>\n",
       "      <td>0.287736</td>\n",
       "      <td>0.228043</td>\n",
       "      <td>0.13347</td>\n",
       "      <td>0.194681</td>\n",
       "      <td>0.681981</td>\n",
       "      <td>...</td>\n",
       "      <td>7.295777</td>\n",
       "      <td>2700.0</td>\n",
       "      <td>202.925714</td>\n",
       "      <td>5.500000</td>\n",
       "      <td>-2375.832857</td>\n",
       "      <td>-2380.821429</td>\n",
       "      <td>-2335.135714</td>\n",
       "      <td>-2379.857143</td>\n",
       "      <td>6.272759e+08</td>\n",
       "      <td>209850.301918</td>\n",
       "    </tr>\n",
       "    <tr>\n",
       "      <th>3</th>\n",
       "      <td>TP01</td>\n",
       "      <td>2019.03</td>\n",
       "      <td>4.013353e+10</td>\n",
       "      <td>0.535081</td>\n",
       "      <td>0.189228</td>\n",
       "      <td>0.287736</td>\n",
       "      <td>0.228043</td>\n",
       "      <td>0.13347</td>\n",
       "      <td>0.194681</td>\n",
       "      <td>0.681981</td>\n",
       "      <td>...</td>\n",
       "      <td>7.295777</td>\n",
       "      <td>2798.0</td>\n",
       "      <td>253.511429</td>\n",
       "      <td>17.037143</td>\n",
       "      <td>8.564286</td>\n",
       "      <td>1.198571</td>\n",
       "      <td>76.682857</td>\n",
       "      <td>10.714286</td>\n",
       "      <td>6.272759e+08</td>\n",
       "      <td>209850.301918</td>\n",
       "    </tr>\n",
       "    <tr>\n",
       "      <th>4</th>\n",
       "      <td>TP01</td>\n",
       "      <td>2019.04</td>\n",
       "      <td>4.013353e+10</td>\n",
       "      <td>0.535081</td>\n",
       "      <td>0.189228</td>\n",
       "      <td>0.287736</td>\n",
       "      <td>0.228043</td>\n",
       "      <td>0.13347</td>\n",
       "      <td>0.194681</td>\n",
       "      <td>0.681981</td>\n",
       "      <td>...</td>\n",
       "      <td>7.295777</td>\n",
       "      <td>2896.0</td>\n",
       "      <td>157.917143</td>\n",
       "      <td>5.902857</td>\n",
       "      <td>-1107.442857</td>\n",
       "      <td>-1110.874286</td>\n",
       "      <td>-1078.267143</td>\n",
       "      <td>-1109.000000</td>\n",
       "      <td>6.272759e+08</td>\n",
       "      <td>209850.301918</td>\n",
       "    </tr>\n",
       "  </tbody>\n",
       "</table>\n",
       "<p>5 rows × 27 columns</p>\n",
       "</div>"
      ],
      "text/plain": [
       "   Site  year_month         GIDBG  pct_Males_ACS_13_17  \\\n",
       "0  TP01     2018.12  4.013353e+10             0.535081   \n",
       "1  TP01     2019.01  4.013353e+10             0.535081   \n",
       "2  TP01     2019.02  4.013353e+10             0.535081   \n",
       "3  TP01     2019.03  4.013353e+10             0.535081   \n",
       "4  TP01     2019.04  4.013353e+10             0.535081   \n",
       "\n",
       "   pct_Pop_18_24_ACS_13_17  pct_Pop_25_44_ACS_13_17  pct_Pop_45_64_ACS_13_17  \\\n",
       "0                 0.189228                 0.287736                 0.228043   \n",
       "1                 0.189228                 0.287736                 0.228043   \n",
       "2                 0.189228                 0.287736                 0.228043   \n",
       "3                 0.189228                 0.287736                 0.228043   \n",
       "4                 0.189228                 0.287736                 0.228043   \n",
       "\n",
       "   pct_Pop_65plus_ACS_13_17  pct_Hispanic_ACS_13_17  \\\n",
       "0                   0.13347                0.194681   \n",
       "1                   0.13347                0.194681   \n",
       "2                   0.13347                0.194681   \n",
       "3                   0.13347                0.194681   \n",
       "4                   0.13347                0.194681   \n",
       "\n",
       "   pct_NH_White_alone_CEN_2010  ...   log_pop  OBJECTID  \\\n",
       "0                     0.681981  ...  7.295777    2504.0   \n",
       "1                     0.681981  ...  7.295777    2602.0   \n",
       "2                     0.681981  ...  7.295777    2700.0   \n",
       "3                     0.681981  ...  7.295777    2798.0   \n",
       "4                     0.681981  ...  7.295777    2896.0   \n",
       "\n",
       "   Concentration__ng_L__Value  Concentration__ng_L__Error  \\\n",
       "0                  175.851429                    6.161429   \n",
       "1                  147.204286                    0.572857   \n",
       "2                  202.925714                    5.500000   \n",
       "3                  253.511429                   17.037143   \n",
       "4                  157.917143                    5.902857   \n",
       "\n",
       "   Mass_Load__g_d__Value  Mass_Load__g_d__Error         pnml  \\\n",
       "0               6.337143               0.455714    56.747143   \n",
       "1               5.084286               0.654286    45.534286   \n",
       "2           -2375.832857           -2380.821429 -2335.135714   \n",
       "3               8.564286               1.198571    76.682857   \n",
       "4           -1107.442857           -1110.874286 -1078.267143   \n",
       "\n",
       "   Population_Normalized_Mass_Lo_1   Shape__Area  Shape__Length  \n",
       "0                         3.857143  6.272759e+08  209850.301918  \n",
       "1                         5.857143  6.272759e+08  209850.301918  \n",
       "2                     -2379.857143  6.272759e+08  209850.301918  \n",
       "3                        10.714286  6.272759e+08  209850.301918  \n",
       "4                     -1109.000000  6.272759e+08  209850.301918  \n",
       "\n",
       "[5 rows x 27 columns]"
      ]
     },
     "execution_count": 46,
     "metadata": {},
     "output_type": "execute_result"
    }
   ],
   "source": [
    "gb.head()"
   ]
  },
  {
   "cell_type": "code",
   "execution_count": 47,
   "metadata": {},
   "outputs": [],
   "source": [
    "pickle_out = open(\"oxy_pnml_pkl_030820\",\"wb\")\n",
    "pickle.dump(gb, pickle_out)\n",
    "pickle_out.close()"
   ]
  },
  {
   "cell_type": "markdown",
   "metadata": {},
   "source": [
    "#### noxy"
   ]
  },
  {
   "cell_type": "code",
   "execution_count": 48,
   "metadata": {},
   "outputs": [],
   "source": [
    "gb = noxy.groupby(['Site', 'year_month']).mean()"
   ]
  },
  {
   "cell_type": "code",
   "execution_count": 49,
   "metadata": {},
   "outputs": [],
   "source": [
    "gb.reset_index(inplace=True)"
   ]
  },
  {
   "cell_type": "code",
   "execution_count": 50,
   "metadata": {},
   "outputs": [
    {
     "data": {
      "text/plain": [
       "Index(['Site', 'year_month', 'GIDBG', 'pct_Males_ACS_13_17',\n",
       "       'pct_Pop_18_24_ACS_13_17', 'pct_Pop_25_44_ACS_13_17',\n",
       "       'pct_Pop_45_64_ACS_13_17', 'pct_Pop_65plus_ACS_13_17',\n",
       "       'pct_Hispanic_ACS_13_17', 'pct_NH_White_alone_CEN_2010',\n",
       "       'pct_NH_Blk_alone_ACS_13_17', 'pct_NH_Asian_alone_ACS_13_17',\n",
       "       'Med_HHD_Inc_BG_ACS_13_17', 'pct_Prs_Blw_Pov_Lev_ACS_13_17',\n",
       "       'Med_House_Value_BG_ACS_13_17', 'pct_College_ACS_13_17', 'ems_calls',\n",
       "       'log_pop', 'OBJECTID', 'Concentration__ng_L__Value',\n",
       "       'Concentration__ng_L__Error', 'Mass_Load__g_d__Value',\n",
       "       'Mass_Load__g_d__Error', 'pnml', 'Population_Normalized_Mass_Lo_1',\n",
       "       'Shape__Area', 'Shape__Length'],\n",
       "      dtype='object')"
      ]
     },
     "execution_count": 50,
     "metadata": {},
     "output_type": "execute_result"
    }
   ],
   "source": [
    "gb.columns"
   ]
  },
  {
   "cell_type": "code",
   "execution_count": 51,
   "metadata": {
    "scrolled": true
   },
   "outputs": [
    {
     "data": {
      "text/plain": [
       "(68, 27)"
      ]
     },
     "execution_count": 51,
     "metadata": {},
     "output_type": "execute_result"
    }
   ],
   "source": [
    "gb.shape"
   ]
  },
  {
   "cell_type": "code",
   "execution_count": 52,
   "metadata": {},
   "outputs": [
    {
     "data": {
      "text/html": [
       "<div>\n",
       "<style scoped>\n",
       "    .dataframe tbody tr th:only-of-type {\n",
       "        vertical-align: middle;\n",
       "    }\n",
       "\n",
       "    .dataframe tbody tr th {\n",
       "        vertical-align: top;\n",
       "    }\n",
       "\n",
       "    .dataframe thead th {\n",
       "        text-align: right;\n",
       "    }\n",
       "</style>\n",
       "<table border=\"1\" class=\"dataframe\">\n",
       "  <thead>\n",
       "    <tr style=\"text-align: right;\">\n",
       "      <th></th>\n",
       "      <th>Site</th>\n",
       "      <th>year_month</th>\n",
       "      <th>GIDBG</th>\n",
       "      <th>pct_Males_ACS_13_17</th>\n",
       "      <th>pct_Pop_18_24_ACS_13_17</th>\n",
       "      <th>pct_Pop_25_44_ACS_13_17</th>\n",
       "      <th>pct_Pop_45_64_ACS_13_17</th>\n",
       "      <th>pct_Pop_65plus_ACS_13_17</th>\n",
       "      <th>pct_Hispanic_ACS_13_17</th>\n",
       "      <th>pct_NH_White_alone_CEN_2010</th>\n",
       "      <th>...</th>\n",
       "      <th>log_pop</th>\n",
       "      <th>OBJECTID</th>\n",
       "      <th>Concentration__ng_L__Value</th>\n",
       "      <th>Concentration__ng_L__Error</th>\n",
       "      <th>Mass_Load__g_d__Value</th>\n",
       "      <th>Mass_Load__g_d__Error</th>\n",
       "      <th>pnml</th>\n",
       "      <th>Population_Normalized_Mass_Lo_1</th>\n",
       "      <th>Shape__Area</th>\n",
       "      <th>Shape__Length</th>\n",
       "    </tr>\n",
       "  </thead>\n",
       "  <tbody>\n",
       "    <tr>\n",
       "      <th>0</th>\n",
       "      <td>TP01</td>\n",
       "      <td>2018.12</td>\n",
       "      <td>4.013353e+10</td>\n",
       "      <td>0.535081</td>\n",
       "      <td>0.189228</td>\n",
       "      <td>0.287736</td>\n",
       "      <td>0.228043</td>\n",
       "      <td>0.13347</td>\n",
       "      <td>0.194681</td>\n",
       "      <td>0.681981</td>\n",
       "      <td>...</td>\n",
       "      <td>7.295777</td>\n",
       "      <td>2511.0</td>\n",
       "      <td>220.895714</td>\n",
       "      <td>8.461429</td>\n",
       "      <td>6.670000</td>\n",
       "      <td>0.535714</td>\n",
       "      <td>59.731429</td>\n",
       "      <td>4.857143</td>\n",
       "      <td>6.272759e+08</td>\n",
       "      <td>209850.301918</td>\n",
       "    </tr>\n",
       "    <tr>\n",
       "      <th>1</th>\n",
       "      <td>TP01</td>\n",
       "      <td>2019.01</td>\n",
       "      <td>4.013353e+10</td>\n",
       "      <td>0.535081</td>\n",
       "      <td>0.189228</td>\n",
       "      <td>0.287736</td>\n",
       "      <td>0.228043</td>\n",
       "      <td>0.13347</td>\n",
       "      <td>0.194681</td>\n",
       "      <td>0.681981</td>\n",
       "      <td>...</td>\n",
       "      <td>7.295777</td>\n",
       "      <td>2609.0</td>\n",
       "      <td>174.080000</td>\n",
       "      <td>8.427143</td>\n",
       "      <td>5.507143</td>\n",
       "      <td>0.532857</td>\n",
       "      <td>49.315714</td>\n",
       "      <td>4.714286</td>\n",
       "      <td>6.272759e+08</td>\n",
       "      <td>209850.301918</td>\n",
       "    </tr>\n",
       "    <tr>\n",
       "      <th>2</th>\n",
       "      <td>TP01</td>\n",
       "      <td>2019.02</td>\n",
       "      <td>4.013353e+10</td>\n",
       "      <td>0.535081</td>\n",
       "      <td>0.189228</td>\n",
       "      <td>0.287736</td>\n",
       "      <td>0.228043</td>\n",
       "      <td>0.13347</td>\n",
       "      <td>0.194681</td>\n",
       "      <td>0.681981</td>\n",
       "      <td>...</td>\n",
       "      <td>7.295777</td>\n",
       "      <td>2707.0</td>\n",
       "      <td>225.742857</td>\n",
       "      <td>8.468571</td>\n",
       "      <td>-2376.074286</td>\n",
       "      <td>-2380.501429</td>\n",
       "      <td>-2337.298571</td>\n",
       "      <td>-2376.857143</td>\n",
       "      <td>6.272759e+08</td>\n",
       "      <td>209850.301918</td>\n",
       "    </tr>\n",
       "    <tr>\n",
       "      <th>3</th>\n",
       "      <td>TP01</td>\n",
       "      <td>2019.03</td>\n",
       "      <td>4.013353e+10</td>\n",
       "      <td>0.535081</td>\n",
       "      <td>0.189228</td>\n",
       "      <td>0.287736</td>\n",
       "      <td>0.228043</td>\n",
       "      <td>0.13347</td>\n",
       "      <td>0.194681</td>\n",
       "      <td>0.681981</td>\n",
       "      <td>...</td>\n",
       "      <td>7.295777</td>\n",
       "      <td>2805.0</td>\n",
       "      <td>241.904286</td>\n",
       "      <td>10.885714</td>\n",
       "      <td>7.571429</td>\n",
       "      <td>0.718571</td>\n",
       "      <td>67.782857</td>\n",
       "      <td>6.571429</td>\n",
       "      <td>6.272759e+08</td>\n",
       "      <td>209850.301918</td>\n",
       "    </tr>\n",
       "    <tr>\n",
       "      <th>4</th>\n",
       "      <td>TP01</td>\n",
       "      <td>2019.04</td>\n",
       "      <td>4.013353e+10</td>\n",
       "      <td>0.535081</td>\n",
       "      <td>0.189228</td>\n",
       "      <td>0.287736</td>\n",
       "      <td>0.228043</td>\n",
       "      <td>0.13347</td>\n",
       "      <td>0.194681</td>\n",
       "      <td>0.681981</td>\n",
       "      <td>...</td>\n",
       "      <td>7.295777</td>\n",
       "      <td>2903.0</td>\n",
       "      <td>191.341429</td>\n",
       "      <td>12.122857</td>\n",
       "      <td>-1106.647143</td>\n",
       "      <td>-1110.568571</td>\n",
       "      <td>-1071.138571</td>\n",
       "      <td>-1106.285714</td>\n",
       "      <td>6.272759e+08</td>\n",
       "      <td>209850.301918</td>\n",
       "    </tr>\n",
       "  </tbody>\n",
       "</table>\n",
       "<p>5 rows × 27 columns</p>\n",
       "</div>"
      ],
      "text/plain": [
       "   Site  year_month         GIDBG  pct_Males_ACS_13_17  \\\n",
       "0  TP01     2018.12  4.013353e+10             0.535081   \n",
       "1  TP01     2019.01  4.013353e+10             0.535081   \n",
       "2  TP01     2019.02  4.013353e+10             0.535081   \n",
       "3  TP01     2019.03  4.013353e+10             0.535081   \n",
       "4  TP01     2019.04  4.013353e+10             0.535081   \n",
       "\n",
       "   pct_Pop_18_24_ACS_13_17  pct_Pop_25_44_ACS_13_17  pct_Pop_45_64_ACS_13_17  \\\n",
       "0                 0.189228                 0.287736                 0.228043   \n",
       "1                 0.189228                 0.287736                 0.228043   \n",
       "2                 0.189228                 0.287736                 0.228043   \n",
       "3                 0.189228                 0.287736                 0.228043   \n",
       "4                 0.189228                 0.287736                 0.228043   \n",
       "\n",
       "   pct_Pop_65plus_ACS_13_17  pct_Hispanic_ACS_13_17  \\\n",
       "0                   0.13347                0.194681   \n",
       "1                   0.13347                0.194681   \n",
       "2                   0.13347                0.194681   \n",
       "3                   0.13347                0.194681   \n",
       "4                   0.13347                0.194681   \n",
       "\n",
       "   pct_NH_White_alone_CEN_2010  ...   log_pop  OBJECTID  \\\n",
       "0                     0.681981  ...  7.295777    2511.0   \n",
       "1                     0.681981  ...  7.295777    2609.0   \n",
       "2                     0.681981  ...  7.295777    2707.0   \n",
       "3                     0.681981  ...  7.295777    2805.0   \n",
       "4                     0.681981  ...  7.295777    2903.0   \n",
       "\n",
       "   Concentration__ng_L__Value  Concentration__ng_L__Error  \\\n",
       "0                  220.895714                    8.461429   \n",
       "1                  174.080000                    8.427143   \n",
       "2                  225.742857                    8.468571   \n",
       "3                  241.904286                   10.885714   \n",
       "4                  191.341429                   12.122857   \n",
       "\n",
       "   Mass_Load__g_d__Value  Mass_Load__g_d__Error         pnml  \\\n",
       "0               6.670000               0.535714    59.731429   \n",
       "1               5.507143               0.532857    49.315714   \n",
       "2           -2376.074286           -2380.501429 -2337.298571   \n",
       "3               7.571429               0.718571    67.782857   \n",
       "4           -1106.647143           -1110.568571 -1071.138571   \n",
       "\n",
       "   Population_Normalized_Mass_Lo_1   Shape__Area  Shape__Length  \n",
       "0                         4.857143  6.272759e+08  209850.301918  \n",
       "1                         4.714286  6.272759e+08  209850.301918  \n",
       "2                     -2376.857143  6.272759e+08  209850.301918  \n",
       "3                         6.571429  6.272759e+08  209850.301918  \n",
       "4                     -1106.285714  6.272759e+08  209850.301918  \n",
       "\n",
       "[5 rows x 27 columns]"
      ]
     },
     "execution_count": 52,
     "metadata": {},
     "output_type": "execute_result"
    }
   ],
   "source": [
    "gb.head()"
   ]
  },
  {
   "cell_type": "code",
   "execution_count": 53,
   "metadata": {},
   "outputs": [],
   "source": [
    "pickle_out = open(\"noxy_pnml_pkl_030820\",\"wb\")\n",
    "pickle.dump(gb, pickle_out)\n",
    "pickle_out.close()"
   ]
  },
  {
   "cell_type": "code",
   "execution_count": null,
   "metadata": {},
   "outputs": [],
   "source": []
  },
  {
   "cell_type": "markdown",
   "metadata": {},
   "source": [
    "#### cod"
   ]
  },
  {
   "cell_type": "code",
   "execution_count": 54,
   "metadata": {},
   "outputs": [],
   "source": [
    "gb = cod.groupby(['Site', 'year_month']).mean()"
   ]
  },
  {
   "cell_type": "code",
   "execution_count": 55,
   "metadata": {},
   "outputs": [],
   "source": [
    "gb.reset_index(inplace=True)"
   ]
  },
  {
   "cell_type": "code",
   "execution_count": 56,
   "metadata": {},
   "outputs": [
    {
     "data": {
      "text/plain": [
       "Index(['Site', 'year_month', 'GIDBG', 'pct_Males_ACS_13_17',\n",
       "       'pct_Pop_18_24_ACS_13_17', 'pct_Pop_25_44_ACS_13_17',\n",
       "       'pct_Pop_45_64_ACS_13_17', 'pct_Pop_65plus_ACS_13_17',\n",
       "       'pct_Hispanic_ACS_13_17', 'pct_NH_White_alone_CEN_2010',\n",
       "       'pct_NH_Blk_alone_ACS_13_17', 'pct_NH_Asian_alone_ACS_13_17',\n",
       "       'Med_HHD_Inc_BG_ACS_13_17', 'pct_Prs_Blw_Pov_Lev_ACS_13_17',\n",
       "       'Med_House_Value_BG_ACS_13_17', 'pct_College_ACS_13_17', 'ems_calls',\n",
       "       'log_pop', 'OBJECTID', 'Concentration__ng_L__Value',\n",
       "       'Concentration__ng_L__Error', 'Mass_Load__g_d__Value',\n",
       "       'Mass_Load__g_d__Error', 'pnml', 'Population_Normalized_Mass_Lo_1',\n",
       "       'Shape__Area', 'Shape__Length'],\n",
       "      dtype='object')"
      ]
     },
     "execution_count": 56,
     "metadata": {},
     "output_type": "execute_result"
    }
   ],
   "source": [
    "gb.columns"
   ]
  },
  {
   "cell_type": "code",
   "execution_count": 57,
   "metadata": {
    "scrolled": true
   },
   "outputs": [
    {
     "data": {
      "text/plain": [
       "(68, 27)"
      ]
     },
     "execution_count": 57,
     "metadata": {},
     "output_type": "execute_result"
    }
   ],
   "source": [
    "gb.shape"
   ]
  },
  {
   "cell_type": "code",
   "execution_count": 58,
   "metadata": {},
   "outputs": [
    {
     "data": {
      "text/html": [
       "<div>\n",
       "<style scoped>\n",
       "    .dataframe tbody tr th:only-of-type {\n",
       "        vertical-align: middle;\n",
       "    }\n",
       "\n",
       "    .dataframe tbody tr th {\n",
       "        vertical-align: top;\n",
       "    }\n",
       "\n",
       "    .dataframe thead th {\n",
       "        text-align: right;\n",
       "    }\n",
       "</style>\n",
       "<table border=\"1\" class=\"dataframe\">\n",
       "  <thead>\n",
       "    <tr style=\"text-align: right;\">\n",
       "      <th></th>\n",
       "      <th>Site</th>\n",
       "      <th>year_month</th>\n",
       "      <th>GIDBG</th>\n",
       "      <th>pct_Males_ACS_13_17</th>\n",
       "      <th>pct_Pop_18_24_ACS_13_17</th>\n",
       "      <th>pct_Pop_25_44_ACS_13_17</th>\n",
       "      <th>pct_Pop_45_64_ACS_13_17</th>\n",
       "      <th>pct_Pop_65plus_ACS_13_17</th>\n",
       "      <th>pct_Hispanic_ACS_13_17</th>\n",
       "      <th>pct_NH_White_alone_CEN_2010</th>\n",
       "      <th>...</th>\n",
       "      <th>log_pop</th>\n",
       "      <th>OBJECTID</th>\n",
       "      <th>Concentration__ng_L__Value</th>\n",
       "      <th>Concentration__ng_L__Error</th>\n",
       "      <th>Mass_Load__g_d__Value</th>\n",
       "      <th>Mass_Load__g_d__Error</th>\n",
       "      <th>pnml</th>\n",
       "      <th>Population_Normalized_Mass_Lo_1</th>\n",
       "      <th>Shape__Area</th>\n",
       "      <th>Shape__Length</th>\n",
       "    </tr>\n",
       "  </thead>\n",
       "  <tbody>\n",
       "    <tr>\n",
       "      <th>0</th>\n",
       "      <td>TP01</td>\n",
       "      <td>2018.12</td>\n",
       "      <td>4.013353e+10</td>\n",
       "      <td>0.535081</td>\n",
       "      <td>0.189228</td>\n",
       "      <td>0.287736</td>\n",
       "      <td>0.228043</td>\n",
       "      <td>0.13347</td>\n",
       "      <td>0.194681</td>\n",
       "      <td>0.681981</td>\n",
       "      <td>...</td>\n",
       "      <td>7.295777</td>\n",
       "      <td>2518.0</td>\n",
       "      <td>190.657143</td>\n",
       "      <td>8.231429</td>\n",
       "      <td>7.728571</td>\n",
       "      <td>0.648571</td>\n",
       "      <td>69.192857</td>\n",
       "      <td>5.857143</td>\n",
       "      <td>6.272759e+08</td>\n",
       "      <td>209850.301918</td>\n",
       "    </tr>\n",
       "    <tr>\n",
       "      <th>1</th>\n",
       "      <td>TP01</td>\n",
       "      <td>2019.01</td>\n",
       "      <td>4.013353e+10</td>\n",
       "      <td>0.535081</td>\n",
       "      <td>0.189228</td>\n",
       "      <td>0.287736</td>\n",
       "      <td>0.228043</td>\n",
       "      <td>0.13347</td>\n",
       "      <td>0.194681</td>\n",
       "      <td>0.681981</td>\n",
       "      <td>...</td>\n",
       "      <td>7.295777</td>\n",
       "      <td>2616.0</td>\n",
       "      <td>182.005714</td>\n",
       "      <td>6.971429</td>\n",
       "      <td>7.704286</td>\n",
       "      <td>0.591429</td>\n",
       "      <td>68.967143</td>\n",
       "      <td>5.285714</td>\n",
       "      <td>6.272759e+08</td>\n",
       "      <td>209850.301918</td>\n",
       "    </tr>\n",
       "    <tr>\n",
       "      <th>2</th>\n",
       "      <td>TP01</td>\n",
       "      <td>2019.02</td>\n",
       "      <td>4.013353e+10</td>\n",
       "      <td>0.535081</td>\n",
       "      <td>0.189228</td>\n",
       "      <td>0.287736</td>\n",
       "      <td>0.228043</td>\n",
       "      <td>0.13347</td>\n",
       "      <td>0.194681</td>\n",
       "      <td>0.681981</td>\n",
       "      <td>...</td>\n",
       "      <td>7.295777</td>\n",
       "      <td>2714.0</td>\n",
       "      <td>304.871429</td>\n",
       "      <td>20.320000</td>\n",
       "      <td>-2373.378571</td>\n",
       "      <td>-2380.075714</td>\n",
       "      <td>-2313.175714</td>\n",
       "      <td>-2373.142857</td>\n",
       "      <td>6.272759e+08</td>\n",
       "      <td>209850.301918</td>\n",
       "    </tr>\n",
       "    <tr>\n",
       "      <th>3</th>\n",
       "      <td>TP01</td>\n",
       "      <td>2019.03</td>\n",
       "      <td>4.013353e+10</td>\n",
       "      <td>0.535081</td>\n",
       "      <td>0.189228</td>\n",
       "      <td>0.287736</td>\n",
       "      <td>0.228043</td>\n",
       "      <td>0.13347</td>\n",
       "      <td>0.194681</td>\n",
       "      <td>0.681981</td>\n",
       "      <td>...</td>\n",
       "      <td>7.295777</td>\n",
       "      <td>2812.0</td>\n",
       "      <td>260.932857</td>\n",
       "      <td>21.908571</td>\n",
       "      <td>9.711429</td>\n",
       "      <td>1.631429</td>\n",
       "      <td>86.954286</td>\n",
       "      <td>14.571429</td>\n",
       "      <td>6.272759e+08</td>\n",
       "      <td>209850.301918</td>\n",
       "    </tr>\n",
       "    <tr>\n",
       "      <th>4</th>\n",
       "      <td>TP01</td>\n",
       "      <td>2019.04</td>\n",
       "      <td>4.013353e+10</td>\n",
       "      <td>0.535081</td>\n",
       "      <td>0.189228</td>\n",
       "      <td>0.287736</td>\n",
       "      <td>0.228043</td>\n",
       "      <td>0.13347</td>\n",
       "      <td>0.194681</td>\n",
       "      <td>0.681981</td>\n",
       "      <td>...</td>\n",
       "      <td>7.295777</td>\n",
       "      <td>2910.0</td>\n",
       "      <td>227.395714</td>\n",
       "      <td>12.918571</td>\n",
       "      <td>-1104.921429</td>\n",
       "      <td>-1110.492857</td>\n",
       "      <td>-1055.704286</td>\n",
       "      <td>-1105.571429</td>\n",
       "      <td>6.272759e+08</td>\n",
       "      <td>209850.301918</td>\n",
       "    </tr>\n",
       "  </tbody>\n",
       "</table>\n",
       "<p>5 rows × 27 columns</p>\n",
       "</div>"
      ],
      "text/plain": [
       "   Site  year_month         GIDBG  pct_Males_ACS_13_17  \\\n",
       "0  TP01     2018.12  4.013353e+10             0.535081   \n",
       "1  TP01     2019.01  4.013353e+10             0.535081   \n",
       "2  TP01     2019.02  4.013353e+10             0.535081   \n",
       "3  TP01     2019.03  4.013353e+10             0.535081   \n",
       "4  TP01     2019.04  4.013353e+10             0.535081   \n",
       "\n",
       "   pct_Pop_18_24_ACS_13_17  pct_Pop_25_44_ACS_13_17  pct_Pop_45_64_ACS_13_17  \\\n",
       "0                 0.189228                 0.287736                 0.228043   \n",
       "1                 0.189228                 0.287736                 0.228043   \n",
       "2                 0.189228                 0.287736                 0.228043   \n",
       "3                 0.189228                 0.287736                 0.228043   \n",
       "4                 0.189228                 0.287736                 0.228043   \n",
       "\n",
       "   pct_Pop_65plus_ACS_13_17  pct_Hispanic_ACS_13_17  \\\n",
       "0                   0.13347                0.194681   \n",
       "1                   0.13347                0.194681   \n",
       "2                   0.13347                0.194681   \n",
       "3                   0.13347                0.194681   \n",
       "4                   0.13347                0.194681   \n",
       "\n",
       "   pct_NH_White_alone_CEN_2010  ...   log_pop  OBJECTID  \\\n",
       "0                     0.681981  ...  7.295777    2518.0   \n",
       "1                     0.681981  ...  7.295777    2616.0   \n",
       "2                     0.681981  ...  7.295777    2714.0   \n",
       "3                     0.681981  ...  7.295777    2812.0   \n",
       "4                     0.681981  ...  7.295777    2910.0   \n",
       "\n",
       "   Concentration__ng_L__Value  Concentration__ng_L__Error  \\\n",
       "0                  190.657143                    8.231429   \n",
       "1                  182.005714                    6.971429   \n",
       "2                  304.871429                   20.320000   \n",
       "3                  260.932857                   21.908571   \n",
       "4                  227.395714                   12.918571   \n",
       "\n",
       "   Mass_Load__g_d__Value  Mass_Load__g_d__Error         pnml  \\\n",
       "0               7.728571               0.648571    69.192857   \n",
       "1               7.704286               0.591429    68.967143   \n",
       "2           -2373.378571           -2380.075714 -2313.175714   \n",
       "3               9.711429               1.631429    86.954286   \n",
       "4           -1104.921429           -1110.492857 -1055.704286   \n",
       "\n",
       "   Population_Normalized_Mass_Lo_1   Shape__Area  Shape__Length  \n",
       "0                         5.857143  6.272759e+08  209850.301918  \n",
       "1                         5.285714  6.272759e+08  209850.301918  \n",
       "2                     -2373.142857  6.272759e+08  209850.301918  \n",
       "3                        14.571429  6.272759e+08  209850.301918  \n",
       "4                     -1105.571429  6.272759e+08  209850.301918  \n",
       "\n",
       "[5 rows x 27 columns]"
      ]
     },
     "execution_count": 58,
     "metadata": {},
     "output_type": "execute_result"
    }
   ],
   "source": [
    "gb.head()"
   ]
  },
  {
   "cell_type": "code",
   "execution_count": 59,
   "metadata": {},
   "outputs": [],
   "source": [
    "pickle_out = open(\"cod_pnml_pkl_030820\",\"wb\")\n",
    "pickle.dump(gb, pickle_out)\n",
    "pickle_out.close()"
   ]
  },
  {
   "cell_type": "markdown",
   "metadata": {},
   "source": [
    "#### fent"
   ]
  },
  {
   "cell_type": "code",
   "execution_count": 60,
   "metadata": {},
   "outputs": [],
   "source": [
    "gb = fent.groupby(['Site', 'year_month']).mean()"
   ]
  },
  {
   "cell_type": "code",
   "execution_count": 61,
   "metadata": {},
   "outputs": [],
   "source": [
    "gb.reset_index(inplace=True)"
   ]
  },
  {
   "cell_type": "code",
   "execution_count": 62,
   "metadata": {},
   "outputs": [
    {
     "data": {
      "text/plain": [
       "Index(['Site', 'year_month', 'GIDBG', 'pct_Males_ACS_13_17',\n",
       "       'pct_Pop_18_24_ACS_13_17', 'pct_Pop_25_44_ACS_13_17',\n",
       "       'pct_Pop_45_64_ACS_13_17', 'pct_Pop_65plus_ACS_13_17',\n",
       "       'pct_Hispanic_ACS_13_17', 'pct_NH_White_alone_CEN_2010',\n",
       "       'pct_NH_Blk_alone_ACS_13_17', 'pct_NH_Asian_alone_ACS_13_17',\n",
       "       'Med_HHD_Inc_BG_ACS_13_17', 'pct_Prs_Blw_Pov_Lev_ACS_13_17',\n",
       "       'Med_House_Value_BG_ACS_13_17', 'pct_College_ACS_13_17', 'ems_calls',\n",
       "       'log_pop', 'OBJECTID', 'Concentration__ng_L__Value',\n",
       "       'Concentration__ng_L__Error', 'Mass_Load__g_d__Value',\n",
       "       'Mass_Load__g_d__Error', 'pnml', 'Population_Normalized_Mass_Lo_1',\n",
       "       'Shape__Area', 'Shape__Length'],\n",
       "      dtype='object')"
      ]
     },
     "execution_count": 62,
     "metadata": {},
     "output_type": "execute_result"
    }
   ],
   "source": [
    "gb.columns"
   ]
  },
  {
   "cell_type": "code",
   "execution_count": 63,
   "metadata": {
    "scrolled": true
   },
   "outputs": [
    {
     "data": {
      "text/plain": [
       "(68, 27)"
      ]
     },
     "execution_count": 63,
     "metadata": {},
     "output_type": "execute_result"
    }
   ],
   "source": [
    "gb.shape"
   ]
  },
  {
   "cell_type": "code",
   "execution_count": 64,
   "metadata": {},
   "outputs": [
    {
     "data": {
      "text/html": [
       "<div>\n",
       "<style scoped>\n",
       "    .dataframe tbody tr th:only-of-type {\n",
       "        vertical-align: middle;\n",
       "    }\n",
       "\n",
       "    .dataframe tbody tr th {\n",
       "        vertical-align: top;\n",
       "    }\n",
       "\n",
       "    .dataframe thead th {\n",
       "        text-align: right;\n",
       "    }\n",
       "</style>\n",
       "<table border=\"1\" class=\"dataframe\">\n",
       "  <thead>\n",
       "    <tr style=\"text-align: right;\">\n",
       "      <th></th>\n",
       "      <th>Site</th>\n",
       "      <th>year_month</th>\n",
       "      <th>GIDBG</th>\n",
       "      <th>pct_Males_ACS_13_17</th>\n",
       "      <th>pct_Pop_18_24_ACS_13_17</th>\n",
       "      <th>pct_Pop_25_44_ACS_13_17</th>\n",
       "      <th>pct_Pop_45_64_ACS_13_17</th>\n",
       "      <th>pct_Pop_65plus_ACS_13_17</th>\n",
       "      <th>pct_Hispanic_ACS_13_17</th>\n",
       "      <th>pct_NH_White_alone_CEN_2010</th>\n",
       "      <th>...</th>\n",
       "      <th>log_pop</th>\n",
       "      <th>OBJECTID</th>\n",
       "      <th>Concentration__ng_L__Value</th>\n",
       "      <th>Concentration__ng_L__Error</th>\n",
       "      <th>Mass_Load__g_d__Value</th>\n",
       "      <th>Mass_Load__g_d__Error</th>\n",
       "      <th>pnml</th>\n",
       "      <th>Population_Normalized_Mass_Lo_1</th>\n",
       "      <th>Shape__Area</th>\n",
       "      <th>Shape__Length</th>\n",
       "    </tr>\n",
       "  </thead>\n",
       "  <tbody>\n",
       "    <tr>\n",
       "      <th>0</th>\n",
       "      <td>TP01</td>\n",
       "      <td>2018.12</td>\n",
       "      <td>4.013353e+10</td>\n",
       "      <td>0.535081</td>\n",
       "      <td>0.189228</td>\n",
       "      <td>0.287736</td>\n",
       "      <td>0.228043</td>\n",
       "      <td>0.13347</td>\n",
       "      <td>0.194681</td>\n",
       "      <td>0.681981</td>\n",
       "      <td>...</td>\n",
       "      <td>7.295777</td>\n",
       "      <td>2525.0</td>\n",
       "      <td>3.397143</td>\n",
       "      <td>0.141429</td>\n",
       "      <td>0.102857</td>\n",
       "      <td>0.008571</td>\n",
       "      <td>0.908571</td>\n",
       "      <td>0.000000</td>\n",
       "      <td>6.272759e+08</td>\n",
       "      <td>209850.301918</td>\n",
       "    </tr>\n",
       "    <tr>\n",
       "      <th>1</th>\n",
       "      <td>TP01</td>\n",
       "      <td>2019.01</td>\n",
       "      <td>4.013353e+10</td>\n",
       "      <td>0.535081</td>\n",
       "      <td>0.189228</td>\n",
       "      <td>0.287736</td>\n",
       "      <td>0.228043</td>\n",
       "      <td>0.13347</td>\n",
       "      <td>0.194681</td>\n",
       "      <td>0.681981</td>\n",
       "      <td>...</td>\n",
       "      <td>7.295777</td>\n",
       "      <td>2623.0</td>\n",
       "      <td>3.455714</td>\n",
       "      <td>0.371429</td>\n",
       "      <td>0.111429</td>\n",
       "      <td>0.022857</td>\n",
       "      <td>1.002857</td>\n",
       "      <td>0.000000</td>\n",
       "      <td>6.272759e+08</td>\n",
       "      <td>209850.301918</td>\n",
       "    </tr>\n",
       "    <tr>\n",
       "      <th>2</th>\n",
       "      <td>TP01</td>\n",
       "      <td>2019.02</td>\n",
       "      <td>4.013353e+10</td>\n",
       "      <td>0.535081</td>\n",
       "      <td>0.189228</td>\n",
       "      <td>0.287736</td>\n",
       "      <td>0.228043</td>\n",
       "      <td>0.13347</td>\n",
       "      <td>0.194681</td>\n",
       "      <td>0.681981</td>\n",
       "      <td>...</td>\n",
       "      <td>7.295777</td>\n",
       "      <td>2721.0</td>\n",
       "      <td>4.841429</td>\n",
       "      <td>0.224286</td>\n",
       "      <td>-2380.811429</td>\n",
       "      <td>-2380.940000</td>\n",
       "      <td>-2379.715714</td>\n",
       "      <td>-2381.000000</td>\n",
       "      <td>6.272759e+08</td>\n",
       "      <td>209850.301918</td>\n",
       "    </tr>\n",
       "    <tr>\n",
       "      <th>3</th>\n",
       "      <td>TP01</td>\n",
       "      <td>2019.03</td>\n",
       "      <td>4.013353e+10</td>\n",
       "      <td>0.535081</td>\n",
       "      <td>0.189228</td>\n",
       "      <td>0.287736</td>\n",
       "      <td>0.228043</td>\n",
       "      <td>0.13347</td>\n",
       "      <td>0.194681</td>\n",
       "      <td>0.681981</td>\n",
       "      <td>...</td>\n",
       "      <td>7.295777</td>\n",
       "      <td>2819.0</td>\n",
       "      <td>5.574286</td>\n",
       "      <td>0.340000</td>\n",
       "      <td>0.170000</td>\n",
       "      <td>0.021429</td>\n",
       "      <td>1.515714</td>\n",
       "      <td>0.142857</td>\n",
       "      <td>6.272759e+08</td>\n",
       "      <td>209850.301918</td>\n",
       "    </tr>\n",
       "    <tr>\n",
       "      <th>4</th>\n",
       "      <td>TP01</td>\n",
       "      <td>2019.04</td>\n",
       "      <td>4.013353e+10</td>\n",
       "      <td>0.535081</td>\n",
       "      <td>0.189228</td>\n",
       "      <td>0.287736</td>\n",
       "      <td>0.228043</td>\n",
       "      <td>0.13347</td>\n",
       "      <td>0.194681</td>\n",
       "      <td>0.681981</td>\n",
       "      <td>...</td>\n",
       "      <td>7.295777</td>\n",
       "      <td>2917.0</td>\n",
       "      <td>5.305714</td>\n",
       "      <td>0.251429</td>\n",
       "      <td>-1110.988571</td>\n",
       "      <td>-1111.097143</td>\n",
       "      <td>-1110.018571</td>\n",
       "      <td>-1111.142857</td>\n",
       "      <td>6.272759e+08</td>\n",
       "      <td>209850.301918</td>\n",
       "    </tr>\n",
       "  </tbody>\n",
       "</table>\n",
       "<p>5 rows × 27 columns</p>\n",
       "</div>"
      ],
      "text/plain": [
       "   Site  year_month         GIDBG  pct_Males_ACS_13_17  \\\n",
       "0  TP01     2018.12  4.013353e+10             0.535081   \n",
       "1  TP01     2019.01  4.013353e+10             0.535081   \n",
       "2  TP01     2019.02  4.013353e+10             0.535081   \n",
       "3  TP01     2019.03  4.013353e+10             0.535081   \n",
       "4  TP01     2019.04  4.013353e+10             0.535081   \n",
       "\n",
       "   pct_Pop_18_24_ACS_13_17  pct_Pop_25_44_ACS_13_17  pct_Pop_45_64_ACS_13_17  \\\n",
       "0                 0.189228                 0.287736                 0.228043   \n",
       "1                 0.189228                 0.287736                 0.228043   \n",
       "2                 0.189228                 0.287736                 0.228043   \n",
       "3                 0.189228                 0.287736                 0.228043   \n",
       "4                 0.189228                 0.287736                 0.228043   \n",
       "\n",
       "   pct_Pop_65plus_ACS_13_17  pct_Hispanic_ACS_13_17  \\\n",
       "0                   0.13347                0.194681   \n",
       "1                   0.13347                0.194681   \n",
       "2                   0.13347                0.194681   \n",
       "3                   0.13347                0.194681   \n",
       "4                   0.13347                0.194681   \n",
       "\n",
       "   pct_NH_White_alone_CEN_2010  ...   log_pop  OBJECTID  \\\n",
       "0                     0.681981  ...  7.295777    2525.0   \n",
       "1                     0.681981  ...  7.295777    2623.0   \n",
       "2                     0.681981  ...  7.295777    2721.0   \n",
       "3                     0.681981  ...  7.295777    2819.0   \n",
       "4                     0.681981  ...  7.295777    2917.0   \n",
       "\n",
       "   Concentration__ng_L__Value  Concentration__ng_L__Error  \\\n",
       "0                    3.397143                    0.141429   \n",
       "1                    3.455714                    0.371429   \n",
       "2                    4.841429                    0.224286   \n",
       "3                    5.574286                    0.340000   \n",
       "4                    5.305714                    0.251429   \n",
       "\n",
       "   Mass_Load__g_d__Value  Mass_Load__g_d__Error         pnml  \\\n",
       "0               0.102857               0.008571     0.908571   \n",
       "1               0.111429               0.022857     1.002857   \n",
       "2           -2380.811429           -2380.940000 -2379.715714   \n",
       "3               0.170000               0.021429     1.515714   \n",
       "4           -1110.988571           -1111.097143 -1110.018571   \n",
       "\n",
       "   Population_Normalized_Mass_Lo_1   Shape__Area  Shape__Length  \n",
       "0                         0.000000  6.272759e+08  209850.301918  \n",
       "1                         0.000000  6.272759e+08  209850.301918  \n",
       "2                     -2381.000000  6.272759e+08  209850.301918  \n",
       "3                         0.142857  6.272759e+08  209850.301918  \n",
       "4                     -1111.142857  6.272759e+08  209850.301918  \n",
       "\n",
       "[5 rows x 27 columns]"
      ]
     },
     "execution_count": 64,
     "metadata": {},
     "output_type": "execute_result"
    }
   ],
   "source": [
    "gb.head()"
   ]
  },
  {
   "cell_type": "code",
   "execution_count": 65,
   "metadata": {},
   "outputs": [],
   "source": [
    "pickle_out = open(\"fent_pnml_pkl_030820\",\"wb\")\n",
    "pickle.dump(gb, pickle_out)\n",
    "pickle_out.close()"
   ]
  },
  {
   "cell_type": "code",
   "execution_count": null,
   "metadata": {},
   "outputs": [],
   "source": []
  },
  {
   "cell_type": "code",
   "execution_count": null,
   "metadata": {},
   "outputs": [],
   "source": []
  },
  {
   "cell_type": "markdown",
   "metadata": {},
   "source": [
    "#### norf"
   ]
  },
  {
   "cell_type": "code",
   "execution_count": 66,
   "metadata": {},
   "outputs": [],
   "source": [
    "gb = norf.groupby(['Site', 'year_month']).mean()"
   ]
  },
  {
   "cell_type": "code",
   "execution_count": 67,
   "metadata": {},
   "outputs": [],
   "source": [
    "gb.reset_index(inplace=True)"
   ]
  },
  {
   "cell_type": "code",
   "execution_count": 68,
   "metadata": {},
   "outputs": [
    {
     "data": {
      "text/plain": [
       "Index(['Site', 'year_month', 'GIDBG', 'pct_Males_ACS_13_17',\n",
       "       'pct_Pop_18_24_ACS_13_17', 'pct_Pop_25_44_ACS_13_17',\n",
       "       'pct_Pop_45_64_ACS_13_17', 'pct_Pop_65plus_ACS_13_17',\n",
       "       'pct_Hispanic_ACS_13_17', 'pct_NH_White_alone_CEN_2010',\n",
       "       'pct_NH_Blk_alone_ACS_13_17', 'pct_NH_Asian_alone_ACS_13_17',\n",
       "       'Med_HHD_Inc_BG_ACS_13_17', 'pct_Prs_Blw_Pov_Lev_ACS_13_17',\n",
       "       'Med_House_Value_BG_ACS_13_17', 'pct_College_ACS_13_17', 'ems_calls',\n",
       "       'log_pop', 'OBJECTID', 'Concentration__ng_L__Value',\n",
       "       'Concentration__ng_L__Error', 'Mass_Load__g_d__Value',\n",
       "       'Mass_Load__g_d__Error', 'pnml', 'Population_Normalized_Mass_Lo_1',\n",
       "       'Shape__Area', 'Shape__Length'],\n",
       "      dtype='object')"
      ]
     },
     "execution_count": 68,
     "metadata": {},
     "output_type": "execute_result"
    }
   ],
   "source": [
    "gb.columns"
   ]
  },
  {
   "cell_type": "code",
   "execution_count": 69,
   "metadata": {
    "scrolled": true
   },
   "outputs": [
    {
     "data": {
      "text/plain": [
       "(68, 27)"
      ]
     },
     "execution_count": 69,
     "metadata": {},
     "output_type": "execute_result"
    }
   ],
   "source": [
    "gb.shape"
   ]
  },
  {
   "cell_type": "code",
   "execution_count": 70,
   "metadata": {},
   "outputs": [
    {
     "data": {
      "text/html": [
       "<div>\n",
       "<style scoped>\n",
       "    .dataframe tbody tr th:only-of-type {\n",
       "        vertical-align: middle;\n",
       "    }\n",
       "\n",
       "    .dataframe tbody tr th {\n",
       "        vertical-align: top;\n",
       "    }\n",
       "\n",
       "    .dataframe thead th {\n",
       "        text-align: right;\n",
       "    }\n",
       "</style>\n",
       "<table border=\"1\" class=\"dataframe\">\n",
       "  <thead>\n",
       "    <tr style=\"text-align: right;\">\n",
       "      <th></th>\n",
       "      <th>Site</th>\n",
       "      <th>year_month</th>\n",
       "      <th>GIDBG</th>\n",
       "      <th>pct_Males_ACS_13_17</th>\n",
       "      <th>pct_Pop_18_24_ACS_13_17</th>\n",
       "      <th>pct_Pop_25_44_ACS_13_17</th>\n",
       "      <th>pct_Pop_45_64_ACS_13_17</th>\n",
       "      <th>pct_Pop_65plus_ACS_13_17</th>\n",
       "      <th>pct_Hispanic_ACS_13_17</th>\n",
       "      <th>pct_NH_White_alone_CEN_2010</th>\n",
       "      <th>...</th>\n",
       "      <th>log_pop</th>\n",
       "      <th>OBJECTID</th>\n",
       "      <th>Concentration__ng_L__Value</th>\n",
       "      <th>Concentration__ng_L__Error</th>\n",
       "      <th>Mass_Load__g_d__Value</th>\n",
       "      <th>Mass_Load__g_d__Error</th>\n",
       "      <th>pnml</th>\n",
       "      <th>Population_Normalized_Mass_Lo_1</th>\n",
       "      <th>Shape__Area</th>\n",
       "      <th>Shape__Length</th>\n",
       "    </tr>\n",
       "  </thead>\n",
       "  <tbody>\n",
       "    <tr>\n",
       "      <th>0</th>\n",
       "      <td>TP01</td>\n",
       "      <td>2018.12</td>\n",
       "      <td>4.013353e+10</td>\n",
       "      <td>0.535081</td>\n",
       "      <td>0.189228</td>\n",
       "      <td>0.287736</td>\n",
       "      <td>0.228043</td>\n",
       "      <td>0.13347</td>\n",
       "      <td>0.194681</td>\n",
       "      <td>0.681981</td>\n",
       "      <td>...</td>\n",
       "      <td>7.295777</td>\n",
       "      <td>2532.0</td>\n",
       "      <td>54.505714</td>\n",
       "      <td>2.018571</td>\n",
       "      <td>-793.014286</td>\n",
       "      <td>-793.598571</td>\n",
       "      <td>-787.958571</td>\n",
       "      <td>-793.285714</td>\n",
       "      <td>6.272759e+08</td>\n",
       "      <td>209850.301918</td>\n",
       "    </tr>\n",
       "    <tr>\n",
       "      <th>1</th>\n",
       "      <td>TP01</td>\n",
       "      <td>2019.01</td>\n",
       "      <td>4.013353e+10</td>\n",
       "      <td>0.535081</td>\n",
       "      <td>0.189228</td>\n",
       "      <td>0.287736</td>\n",
       "      <td>0.228043</td>\n",
       "      <td>0.13347</td>\n",
       "      <td>0.194681</td>\n",
       "      <td>0.681981</td>\n",
       "      <td>...</td>\n",
       "      <td>7.295777</td>\n",
       "      <td>2630.0</td>\n",
       "      <td>115.707143</td>\n",
       "      <td>5.141429</td>\n",
       "      <td>6.558571</td>\n",
       "      <td>0.584286</td>\n",
       "      <td>58.730000</td>\n",
       "      <td>5.142857</td>\n",
       "      <td>6.272759e+08</td>\n",
       "      <td>209850.301918</td>\n",
       "    </tr>\n",
       "    <tr>\n",
       "      <th>2</th>\n",
       "      <td>TP01</td>\n",
       "      <td>2019.02</td>\n",
       "      <td>4.013353e+10</td>\n",
       "      <td>0.535081</td>\n",
       "      <td>0.189228</td>\n",
       "      <td>0.287736</td>\n",
       "      <td>0.228043</td>\n",
       "      <td>0.13347</td>\n",
       "      <td>0.194681</td>\n",
       "      <td>0.681981</td>\n",
       "      <td>...</td>\n",
       "      <td>7.295777</td>\n",
       "      <td>2728.0</td>\n",
       "      <td>94.187143</td>\n",
       "      <td>4.895714</td>\n",
       "      <td>-2377.330000</td>\n",
       "      <td>-2380.567143</td>\n",
       "      <td>-2348.540000</td>\n",
       "      <td>-2377.714286</td>\n",
       "      <td>6.272759e+08</td>\n",
       "      <td>209850.301918</td>\n",
       "    </tr>\n",
       "    <tr>\n",
       "      <th>3</th>\n",
       "      <td>TP01</td>\n",
       "      <td>2019.03</td>\n",
       "      <td>4.013353e+10</td>\n",
       "      <td>0.535081</td>\n",
       "      <td>0.189228</td>\n",
       "      <td>0.287736</td>\n",
       "      <td>0.228043</td>\n",
       "      <td>0.13347</td>\n",
       "      <td>0.194681</td>\n",
       "      <td>0.681981</td>\n",
       "      <td>...</td>\n",
       "      <td>7.295777</td>\n",
       "      <td>2826.0</td>\n",
       "      <td>89.855714</td>\n",
       "      <td>5.027143</td>\n",
       "      <td>4.134286</td>\n",
       "      <td>0.462857</td>\n",
       "      <td>37.034286</td>\n",
       "      <td>4.142857</td>\n",
       "      <td>6.272759e+08</td>\n",
       "      <td>209850.301918</td>\n",
       "    </tr>\n",
       "    <tr>\n",
       "      <th>4</th>\n",
       "      <td>TP01</td>\n",
       "      <td>2019.04</td>\n",
       "      <td>4.013353e+10</td>\n",
       "      <td>0.535081</td>\n",
       "      <td>0.189228</td>\n",
       "      <td>0.287736</td>\n",
       "      <td>0.228043</td>\n",
       "      <td>0.13347</td>\n",
       "      <td>0.194681</td>\n",
       "      <td>0.681981</td>\n",
       "      <td>...</td>\n",
       "      <td>7.295777</td>\n",
       "      <td>2924.0</td>\n",
       "      <td>69.204286</td>\n",
       "      <td>4.772857</td>\n",
       "      <td>-1109.158571</td>\n",
       "      <td>-1110.850000</td>\n",
       "      <td>-1093.645714</td>\n",
       "      <td>-1108.857143</td>\n",
       "      <td>6.272759e+08</td>\n",
       "      <td>209850.301918</td>\n",
       "    </tr>\n",
       "  </tbody>\n",
       "</table>\n",
       "<p>5 rows × 27 columns</p>\n",
       "</div>"
      ],
      "text/plain": [
       "   Site  year_month         GIDBG  pct_Males_ACS_13_17  \\\n",
       "0  TP01     2018.12  4.013353e+10             0.535081   \n",
       "1  TP01     2019.01  4.013353e+10             0.535081   \n",
       "2  TP01     2019.02  4.013353e+10             0.535081   \n",
       "3  TP01     2019.03  4.013353e+10             0.535081   \n",
       "4  TP01     2019.04  4.013353e+10             0.535081   \n",
       "\n",
       "   pct_Pop_18_24_ACS_13_17  pct_Pop_25_44_ACS_13_17  pct_Pop_45_64_ACS_13_17  \\\n",
       "0                 0.189228                 0.287736                 0.228043   \n",
       "1                 0.189228                 0.287736                 0.228043   \n",
       "2                 0.189228                 0.287736                 0.228043   \n",
       "3                 0.189228                 0.287736                 0.228043   \n",
       "4                 0.189228                 0.287736                 0.228043   \n",
       "\n",
       "   pct_Pop_65plus_ACS_13_17  pct_Hispanic_ACS_13_17  \\\n",
       "0                   0.13347                0.194681   \n",
       "1                   0.13347                0.194681   \n",
       "2                   0.13347                0.194681   \n",
       "3                   0.13347                0.194681   \n",
       "4                   0.13347                0.194681   \n",
       "\n",
       "   pct_NH_White_alone_CEN_2010  ...   log_pop  OBJECTID  \\\n",
       "0                     0.681981  ...  7.295777    2532.0   \n",
       "1                     0.681981  ...  7.295777    2630.0   \n",
       "2                     0.681981  ...  7.295777    2728.0   \n",
       "3                     0.681981  ...  7.295777    2826.0   \n",
       "4                     0.681981  ...  7.295777    2924.0   \n",
       "\n",
       "   Concentration__ng_L__Value  Concentration__ng_L__Error  \\\n",
       "0                   54.505714                    2.018571   \n",
       "1                  115.707143                    5.141429   \n",
       "2                   94.187143                    4.895714   \n",
       "3                   89.855714                    5.027143   \n",
       "4                   69.204286                    4.772857   \n",
       "\n",
       "   Mass_Load__g_d__Value  Mass_Load__g_d__Error         pnml  \\\n",
       "0            -793.014286            -793.598571  -787.958571   \n",
       "1               6.558571               0.584286    58.730000   \n",
       "2           -2377.330000           -2380.567143 -2348.540000   \n",
       "3               4.134286               0.462857    37.034286   \n",
       "4           -1109.158571           -1110.850000 -1093.645714   \n",
       "\n",
       "   Population_Normalized_Mass_Lo_1   Shape__Area  Shape__Length  \n",
       "0                      -793.285714  6.272759e+08  209850.301918  \n",
       "1                         5.142857  6.272759e+08  209850.301918  \n",
       "2                     -2377.714286  6.272759e+08  209850.301918  \n",
       "3                         4.142857  6.272759e+08  209850.301918  \n",
       "4                     -1108.857143  6.272759e+08  209850.301918  \n",
       "\n",
       "[5 rows x 27 columns]"
      ]
     },
     "execution_count": 70,
     "metadata": {},
     "output_type": "execute_result"
    }
   ],
   "source": [
    "gb.head()"
   ]
  },
  {
   "cell_type": "code",
   "execution_count": 71,
   "metadata": {},
   "outputs": [],
   "source": [
    "pickle_out = open(\"norf_pnml_pkl_030820\",\"wb\")\n",
    "pickle.dump(gb, pickle_out)\n",
    "pickle_out.close()"
   ]
  },
  {
   "cell_type": "code",
   "execution_count": null,
   "metadata": {},
   "outputs": [],
   "source": []
  },
  {
   "cell_type": "markdown",
   "metadata": {},
   "source": [
    "#### ace6"
   ]
  },
  {
   "cell_type": "code",
   "execution_count": 72,
   "metadata": {},
   "outputs": [],
   "source": [
    "gb = ace6.groupby(['Site', 'year_month']).mean()"
   ]
  },
  {
   "cell_type": "code",
   "execution_count": 73,
   "metadata": {},
   "outputs": [],
   "source": [
    "gb.reset_index(inplace=True)"
   ]
  },
  {
   "cell_type": "code",
   "execution_count": 74,
   "metadata": {},
   "outputs": [
    {
     "data": {
      "text/plain": [
       "Index(['Site', 'year_month', 'GIDBG', 'pct_Males_ACS_13_17',\n",
       "       'pct_Pop_18_24_ACS_13_17', 'pct_Pop_25_44_ACS_13_17',\n",
       "       'pct_Pop_45_64_ACS_13_17', 'pct_Pop_65plus_ACS_13_17',\n",
       "       'pct_Hispanic_ACS_13_17', 'pct_NH_White_alone_CEN_2010',\n",
       "       'pct_NH_Blk_alone_ACS_13_17', 'pct_NH_Asian_alone_ACS_13_17',\n",
       "       'Med_HHD_Inc_BG_ACS_13_17', 'pct_Prs_Blw_Pov_Lev_ACS_13_17',\n",
       "       'Med_House_Value_BG_ACS_13_17', 'pct_College_ACS_13_17', 'ems_calls',\n",
       "       'log_pop', 'OBJECTID', 'Concentration__ng_L__Value',\n",
       "       'Concentration__ng_L__Error', 'Mass_Load__g_d__Value',\n",
       "       'Mass_Load__g_d__Error', 'pnml', 'Population_Normalized_Mass_Lo_1',\n",
       "       'Shape__Area', 'Shape__Length'],\n",
       "      dtype='object')"
      ]
     },
     "execution_count": 74,
     "metadata": {},
     "output_type": "execute_result"
    }
   ],
   "source": [
    "gb.columns"
   ]
  },
  {
   "cell_type": "code",
   "execution_count": 75,
   "metadata": {
    "scrolled": true
   },
   "outputs": [
    {
     "data": {
      "text/plain": [
       "(68, 27)"
      ]
     },
     "execution_count": 75,
     "metadata": {},
     "output_type": "execute_result"
    }
   ],
   "source": [
    "gb.shape"
   ]
  },
  {
   "cell_type": "code",
   "execution_count": 76,
   "metadata": {},
   "outputs": [
    {
     "data": {
      "text/html": [
       "<div>\n",
       "<style scoped>\n",
       "    .dataframe tbody tr th:only-of-type {\n",
       "        vertical-align: middle;\n",
       "    }\n",
       "\n",
       "    .dataframe tbody tr th {\n",
       "        vertical-align: top;\n",
       "    }\n",
       "\n",
       "    .dataframe thead th {\n",
       "        text-align: right;\n",
       "    }\n",
       "</style>\n",
       "<table border=\"1\" class=\"dataframe\">\n",
       "  <thead>\n",
       "    <tr style=\"text-align: right;\">\n",
       "      <th></th>\n",
       "      <th>Site</th>\n",
       "      <th>year_month</th>\n",
       "      <th>GIDBG</th>\n",
       "      <th>pct_Males_ACS_13_17</th>\n",
       "      <th>pct_Pop_18_24_ACS_13_17</th>\n",
       "      <th>pct_Pop_25_44_ACS_13_17</th>\n",
       "      <th>pct_Pop_45_64_ACS_13_17</th>\n",
       "      <th>pct_Pop_65plus_ACS_13_17</th>\n",
       "      <th>pct_Hispanic_ACS_13_17</th>\n",
       "      <th>pct_NH_White_alone_CEN_2010</th>\n",
       "      <th>...</th>\n",
       "      <th>log_pop</th>\n",
       "      <th>OBJECTID</th>\n",
       "      <th>Concentration__ng_L__Value</th>\n",
       "      <th>Concentration__ng_L__Error</th>\n",
       "      <th>Mass_Load__g_d__Value</th>\n",
       "      <th>Mass_Load__g_d__Error</th>\n",
       "      <th>pnml</th>\n",
       "      <th>Population_Normalized_Mass_Lo_1</th>\n",
       "      <th>Shape__Area</th>\n",
       "      <th>Shape__Length</th>\n",
       "    </tr>\n",
       "  </thead>\n",
       "  <tbody>\n",
       "    <tr>\n",
       "      <th>0</th>\n",
       "      <td>TP01</td>\n",
       "      <td>2018.12</td>\n",
       "      <td>4.013353e+10</td>\n",
       "      <td>0.535081</td>\n",
       "      <td>0.189228</td>\n",
       "      <td>0.287736</td>\n",
       "      <td>0.228043</td>\n",
       "      <td>0.13347</td>\n",
       "      <td>0.194681</td>\n",
       "      <td>0.681981</td>\n",
       "      <td>...</td>\n",
       "      <td>7.295777</td>\n",
       "      <td>2546.0</td>\n",
       "      <td>103.044286</td>\n",
       "      <td>5.822857</td>\n",
       "      <td>-789.830000</td>\n",
       "      <td>-793.132857</td>\n",
       "      <td>-759.452857</td>\n",
       "      <td>-789.000000</td>\n",
       "      <td>6.272759e+08</td>\n",
       "      <td>209850.301918</td>\n",
       "    </tr>\n",
       "    <tr>\n",
       "      <th>1</th>\n",
       "      <td>TP01</td>\n",
       "      <td>2019.01</td>\n",
       "      <td>4.013353e+10</td>\n",
       "      <td>0.535081</td>\n",
       "      <td>0.189228</td>\n",
       "      <td>0.287736</td>\n",
       "      <td>0.228043</td>\n",
       "      <td>0.13347</td>\n",
       "      <td>0.194681</td>\n",
       "      <td>0.681981</td>\n",
       "      <td>...</td>\n",
       "      <td>7.295777</td>\n",
       "      <td>2644.0</td>\n",
       "      <td>53.091429</td>\n",
       "      <td>2.650000</td>\n",
       "      <td>1.644286</td>\n",
       "      <td>0.162857</td>\n",
       "      <td>14.712857</td>\n",
       "      <td>1.285714</td>\n",
       "      <td>6.272759e+08</td>\n",
       "      <td>209850.301918</td>\n",
       "    </tr>\n",
       "    <tr>\n",
       "      <th>2</th>\n",
       "      <td>TP01</td>\n",
       "      <td>2019.02</td>\n",
       "      <td>4.013353e+10</td>\n",
       "      <td>0.535081</td>\n",
       "      <td>0.189228</td>\n",
       "      <td>0.287736</td>\n",
       "      <td>0.228043</td>\n",
       "      <td>0.13347</td>\n",
       "      <td>0.194681</td>\n",
       "      <td>0.681981</td>\n",
       "      <td>...</td>\n",
       "      <td>7.295777</td>\n",
       "      <td>2742.0</td>\n",
       "      <td>59.722857</td>\n",
       "      <td>3.150000</td>\n",
       "      <td>-2379.587143</td>\n",
       "      <td>-2380.817143</td>\n",
       "      <td>-2368.747143</td>\n",
       "      <td>-2379.857143</td>\n",
       "      <td>6.272759e+08</td>\n",
       "      <td>209850.301918</td>\n",
       "    </tr>\n",
       "    <tr>\n",
       "      <th>3</th>\n",
       "      <td>TP01</td>\n",
       "      <td>2019.03</td>\n",
       "      <td>4.013353e+10</td>\n",
       "      <td>0.535081</td>\n",
       "      <td>0.189228</td>\n",
       "      <td>0.287736</td>\n",
       "      <td>0.228043</td>\n",
       "      <td>0.13347</td>\n",
       "      <td>0.194681</td>\n",
       "      <td>0.681981</td>\n",
       "      <td>...</td>\n",
       "      <td>7.295777</td>\n",
       "      <td>2840.0</td>\n",
       "      <td>59.744286</td>\n",
       "      <td>8.638571</td>\n",
       "      <td>-1587.007143</td>\n",
       "      <td>-1587.274286</td>\n",
       "      <td>-1584.682857</td>\n",
       "      <td>-1587.285714</td>\n",
       "      <td>6.272759e+08</td>\n",
       "      <td>209850.301918</td>\n",
       "    </tr>\n",
       "    <tr>\n",
       "      <th>4</th>\n",
       "      <td>TP01</td>\n",
       "      <td>2019.04</td>\n",
       "      <td>4.013353e+10</td>\n",
       "      <td>0.535081</td>\n",
       "      <td>0.189228</td>\n",
       "      <td>0.287736</td>\n",
       "      <td>0.228043</td>\n",
       "      <td>0.13347</td>\n",
       "      <td>0.194681</td>\n",
       "      <td>0.681981</td>\n",
       "      <td>...</td>\n",
       "      <td>7.295777</td>\n",
       "      <td>2938.0</td>\n",
       "      <td>55.597143</td>\n",
       "      <td>2.784286</td>\n",
       "      <td>-1109.975714</td>\n",
       "      <td>-1111.021429</td>\n",
       "      <td>-1100.945714</td>\n",
       "      <td>-1110.428571</td>\n",
       "      <td>6.272759e+08</td>\n",
       "      <td>209850.301918</td>\n",
       "    </tr>\n",
       "  </tbody>\n",
       "</table>\n",
       "<p>5 rows × 27 columns</p>\n",
       "</div>"
      ],
      "text/plain": [
       "   Site  year_month         GIDBG  pct_Males_ACS_13_17  \\\n",
       "0  TP01     2018.12  4.013353e+10             0.535081   \n",
       "1  TP01     2019.01  4.013353e+10             0.535081   \n",
       "2  TP01     2019.02  4.013353e+10             0.535081   \n",
       "3  TP01     2019.03  4.013353e+10             0.535081   \n",
       "4  TP01     2019.04  4.013353e+10             0.535081   \n",
       "\n",
       "   pct_Pop_18_24_ACS_13_17  pct_Pop_25_44_ACS_13_17  pct_Pop_45_64_ACS_13_17  \\\n",
       "0                 0.189228                 0.287736                 0.228043   \n",
       "1                 0.189228                 0.287736                 0.228043   \n",
       "2                 0.189228                 0.287736                 0.228043   \n",
       "3                 0.189228                 0.287736                 0.228043   \n",
       "4                 0.189228                 0.287736                 0.228043   \n",
       "\n",
       "   pct_Pop_65plus_ACS_13_17  pct_Hispanic_ACS_13_17  \\\n",
       "0                   0.13347                0.194681   \n",
       "1                   0.13347                0.194681   \n",
       "2                   0.13347                0.194681   \n",
       "3                   0.13347                0.194681   \n",
       "4                   0.13347                0.194681   \n",
       "\n",
       "   pct_NH_White_alone_CEN_2010  ...   log_pop  OBJECTID  \\\n",
       "0                     0.681981  ...  7.295777    2546.0   \n",
       "1                     0.681981  ...  7.295777    2644.0   \n",
       "2                     0.681981  ...  7.295777    2742.0   \n",
       "3                     0.681981  ...  7.295777    2840.0   \n",
       "4                     0.681981  ...  7.295777    2938.0   \n",
       "\n",
       "   Concentration__ng_L__Value  Concentration__ng_L__Error  \\\n",
       "0                  103.044286                    5.822857   \n",
       "1                   53.091429                    2.650000   \n",
       "2                   59.722857                    3.150000   \n",
       "3                   59.744286                    8.638571   \n",
       "4                   55.597143                    2.784286   \n",
       "\n",
       "   Mass_Load__g_d__Value  Mass_Load__g_d__Error         pnml  \\\n",
       "0            -789.830000            -793.132857  -759.452857   \n",
       "1               1.644286               0.162857    14.712857   \n",
       "2           -2379.587143           -2380.817143 -2368.747143   \n",
       "3           -1587.007143           -1587.274286 -1584.682857   \n",
       "4           -1109.975714           -1111.021429 -1100.945714   \n",
       "\n",
       "   Population_Normalized_Mass_Lo_1   Shape__Area  Shape__Length  \n",
       "0                      -789.000000  6.272759e+08  209850.301918  \n",
       "1                         1.285714  6.272759e+08  209850.301918  \n",
       "2                     -2379.857143  6.272759e+08  209850.301918  \n",
       "3                     -1587.285714  6.272759e+08  209850.301918  \n",
       "4                     -1110.428571  6.272759e+08  209850.301918  \n",
       "\n",
       "[5 rows x 27 columns]"
      ]
     },
     "execution_count": 76,
     "metadata": {},
     "output_type": "execute_result"
    }
   ],
   "source": [
    "gb.head()"
   ]
  },
  {
   "cell_type": "code",
   "execution_count": 77,
   "metadata": {},
   "outputs": [],
   "source": [
    "pickle_out = open(\"ace6_pnml_pkl_030820\",\"wb\")\n",
    "pickle.dump(gb, pickle_out)\n",
    "pickle_out.close()"
   ]
  },
  {
   "cell_type": "markdown",
   "metadata": {},
   "source": [
    "### Test on Heroin"
   ]
  },
  {
   "cell_type": "code",
   "execution_count": 78,
   "metadata": {},
   "outputs": [],
   "source": [
    "bg_pkl = open(\"her_pnml_pkl_030820\", 'rb')\n",
    "\n",
    "her = pickle.load(bg_pkl)"
   ]
  },
  {
   "cell_type": "code",
   "execution_count": 79,
   "metadata": {},
   "outputs": [
    {
     "data": {
      "text/plain": [
       "(68, 27)"
      ]
     },
     "execution_count": 79,
     "metadata": {},
     "output_type": "execute_result"
    }
   ],
   "source": [
    "her.shape"
   ]
  },
  {
   "cell_type": "code",
   "execution_count": 83,
   "metadata": {},
   "outputs": [
    {
     "data": {
      "text/plain": [
       "(41, 27)"
      ]
     },
     "execution_count": 83,
     "metadata": {},
     "output_type": "execute_result"
    }
   ],
   "source": [
    "her[her.pnml>0].shape"
   ]
  },
  {
   "cell_type": "code",
   "execution_count": 88,
   "metadata": {},
   "outputs": [],
   "source": [
    "#assuming the negative values are wrong\n",
    "her_df = her[her.pnml>0]"
   ]
  },
  {
   "cell_type": "code",
   "execution_count": 90,
   "metadata": {},
   "outputs": [
    {
     "name": "stderr",
     "output_type": "stream",
     "text": [
      "/Users/drewgobbi/anaconda3/lib/python3.7/site-packages/ipykernel_launcher.py:2: SettingWithCopyWarning: \n",
      "A value is trying to be set on a copy of a slice from a DataFrame.\n",
      "Try using .loc[row_indexer,col_indexer] = value instead\n",
      "\n",
      "See the caveats in the documentation: http://pandas.pydata.org/pandas-docs/stable/indexing.html#indexing-view-versus-copy\n",
      "  \n"
     ]
    }
   ],
   "source": [
    "#pnml = mg/day/1000, average heroin user consumes 50 mg/day\n",
    "her_df['est_users'] = her.pnml * 1/50"
   ]
  },
  {
   "cell_type": "code",
   "execution_count": 92,
   "metadata": {},
   "outputs": [
    {
     "data": {
      "text/plain": [
       "0     0.721000\n",
       "1     0.203000\n",
       "5     0.043800\n",
       "9     0.033150\n",
       "10    0.156567\n",
       "Name: est_users, dtype: float64"
      ]
     },
     "execution_count": 92,
     "metadata": {},
     "output_type": "execute_result"
    }
   ],
   "source": [
    "her_df['est_users'].head()"
   ]
  },
  {
   "cell_type": "code",
   "execution_count": 93,
   "metadata": {},
   "outputs": [
    {
     "data": {
      "text/plain": [
       "<matplotlib.axes._subplots.AxesSubplot at 0x10f442400>"
      ]
     },
     "execution_count": 93,
     "metadata": {},
     "output_type": "execute_result"
    },
    {
     "data": {
      "image/png": "[encoded data removed]",
      "text/plain": [
       "<Figure size 432x288 with 1 Axes>"
      ]
     },
     "metadata": {
      "needs_background": "light"
     },
     "output_type": "display_data"
    }
   ],
   "source": [
    "her_df['est_users'].hist()"
   ]
  },
  {
   "cell_type": "code",
   "execution_count": 94,
   "metadata": {},
   "outputs": [
    {
     "name": "stderr",
     "output_type": "stream",
     "text": [
      "/Users/drewgobbi/anaconda3/lib/python3.7/site-packages/ipykernel_launcher.py:2: SettingWithCopyWarning: \n",
      "A value is trying to be set on a copy of a slice from a DataFrame.\n",
      "Try using .loc[row_indexer,col_indexer] = value instead\n",
      "\n",
      "See the caveats in the documentation: http://pandas.pydata.org/pandas-docs/stable/indexing.html#indexing-view-versus-copy\n",
      "  \n"
     ]
    }
   ],
   "source": [
    "#convert to per 10,000 estimate\n",
    "her_df['est_users'] = her_df['est_users']*10"
   ]
  },
  {
   "cell_type": "code",
   "execution_count": 95,
   "metadata": {},
   "outputs": [
    {
     "data": {
      "text/plain": [
       "<matplotlib.axes._subplots.AxesSubplot at 0x1c26c10f60>"
      ]
     },
     "execution_count": 95,
     "metadata": {},
     "output_type": "execute_result"
    },
    {
     "data": {
      "image/png": "[encoded data removed]",
      "text/plain": [
       "<Figure size 432x288 with 1 Axes>"
      ]
     },
     "metadata": {
      "needs_background": "light"
     },
     "output_type": "display_data"
    }
   ],
   "source": [
    "her_df['est_users'].hist()"
   ]
  },
  {
   "cell_type": "code",
   "execution_count": 96,
   "metadata": {},
   "outputs": [
    {
     "data": {
      "text/plain": [
       "<matplotlib.axes._subplots.AxesSubplot at 0x1c26c6d128>"
      ]
     },
     "execution_count": 96,
     "metadata": {},
     "output_type": "execute_result"
    },
    {
     "data": {
      "image/png": "[encoded data removed]",
      "text/plain": [
       "<Figure size 432x288 with 1 Axes>"
      ]
     },
     "metadata": {
      "needs_background": "light"
     },
     "output_type": "display_data"
    }
   ],
   "source": [
    "np.log(her_df['est_users']).hist()"
   ]
  },
  {
   "cell_type": "code",
   "execution_count": 98,
   "metadata": {},
   "outputs": [
    {
     "data": {
      "text/plain": [
       "Index(['Site', 'year_month', 'GIDBG', 'pct_Males_ACS_13_17',\n",
       "       'pct_Pop_18_24_ACS_13_17', 'pct_Pop_25_44_ACS_13_17',\n",
       "       'pct_Pop_45_64_ACS_13_17', 'pct_Pop_65plus_ACS_13_17',\n",
       "       'pct_Hispanic_ACS_13_17', 'pct_NH_White_alone_CEN_2010',\n",
       "       'pct_NH_Blk_alone_ACS_13_17', 'pct_NH_Asian_alone_ACS_13_17',\n",
       "       'Med_HHD_Inc_BG_ACS_13_17', 'pct_Prs_Blw_Pov_Lev_ACS_13_17',\n",
       "       'Med_House_Value_BG_ACS_13_17', 'pct_College_ACS_13_17', 'ems_calls',\n",
       "       'log_pop', 'OBJECTID', 'Concentration__ng_L__Value',\n",
       "       'Concentration__ng_L__Error', 'Mass_Load__g_d__Value',\n",
       "       'Mass_Load__g_d__Error', 'pnml', 'Population_Normalized_Mass_Lo_1',\n",
       "       'Shape__Area', 'Shape__Length', 'est_users'],\n",
       "      dtype='object')"
      ]
     },
     "execution_count": 98,
     "metadata": {},
     "output_type": "execute_result"
    }
   ],
   "source": [
    "her_df.columns"
   ]
  },
  {
   "cell_type": "code",
   "execution_count": 101,
   "metadata": {},
   "outputs": [
    {
     "name": "stderr",
     "output_type": "stream",
     "text": [
      "/Users/drewgobbi/anaconda3/lib/python3.7/site-packages/pandas/core/frame.py:3940: SettingWithCopyWarning: \n",
      "A value is trying to be set on a copy of a slice from a DataFrame\n",
      "\n",
      "See the caveats in the documentation: http://pandas.pydata.org/pandas-docs/stable/indexing.html#indexing-view-versus-copy\n",
      "  errors=errors)\n"
     ]
    }
   ],
   "source": [
    "her_df.drop(['year_month', 'GIDBG', 'OBJECTID', 'Concentration__ng_L__Value',\n",
    "       'Concentration__ng_L__Error', 'Mass_Load__g_d__Value',\n",
    "       'Mass_Load__g_d__Error','pnml', 'Population_Normalized_Mass_Lo_1',\n",
    "       'Shape__Area', 'Shape__Length'] , axis=1, inplace=True)"
   ]
  },
  {
   "cell_type": "code",
   "execution_count": 106,
   "metadata": {},
   "outputs": [
    {
     "data": {
      "text/plain": [
       "Site                              object\n",
       "pct_Males_ACS_13_17              float64\n",
       "pct_Pop_18_24_ACS_13_17          float64\n",
       "pct_Pop_25_44_ACS_13_17          float64\n",
       "pct_Pop_45_64_ACS_13_17          float64\n",
       "pct_Pop_65plus_ACS_13_17         float64\n",
       "pct_Hispanic_ACS_13_17           float64\n",
       "pct_NH_White_alone_CEN_2010      float64\n",
       "pct_NH_Blk_alone_ACS_13_17       float64\n",
       "pct_NH_Asian_alone_ACS_13_17     float64\n",
       "Med_HHD_Inc_BG_ACS_13_17         float64\n",
       "pct_Prs_Blw_Pov_Lev_ACS_13_17    float64\n",
       "Med_House_Value_BG_ACS_13_17     float64\n",
       "pct_College_ACS_13_17            float64\n",
       "ems_calls                        float64\n",
       "log_pop                          float64\n",
       "est_users                        float64\n",
       "dtype: object"
      ]
     },
     "execution_count": 106,
     "metadata": {},
     "output_type": "execute_result"
    }
   ],
   "source": [
    "her_df.dtypes"
   ]
  },
  {
   "cell_type": "code",
   "execution_count": 108,
   "metadata": {},
   "outputs": [],
   "source": [
    "X, y = pd.get_dummies(her_df), her_df.est_users\n",
    "X.drop(columns='est_users', inplace=True)"
   ]
  },
  {
   "cell_type": "code",
   "execution_count": 109,
   "metadata": {},
   "outputs": [
    {
     "name": "stdout",
     "output_type": "stream",
     "text": [
      "                 Generalized Linear Model Regression Results                  \n",
      "==============================================================================\n",
      "Dep. Variable:              est_users   No. Observations:                   41\n",
      "Model:                            GLM   Df Residuals:                       35\n",
      "Model Family:                 Poisson   Df Model:                            5\n",
      "Link Function:                    log   Scale:                          1.0000\n",
      "Method:                          IRLS   Log-Likelihood:                -75.772\n",
      "Date:                Mon, 09 Mar 2020   Deviance:                       48.050\n",
      "Time:                        22:27:33   Pearson chi2:                     42.7\n",
      "No. Iterations:                   100   Covariance Type:             nonrobust\n",
      "=================================================================================================\n",
      "                                    coef    std err          z      P>|z|      [0.025      0.975]\n",
      "-------------------------------------------------------------------------------------------------\n",
      "pct_Males_ACS_13_17              -0.1189      0.043     -2.747      0.006      -0.204      -0.034\n",
      "pct_Pop_18_24_ACS_13_17          -0.4830      0.135     -3.586      0.000      -0.747      -0.219\n",
      "pct_Pop_25_44_ACS_13_17           0.0738      0.026      2.874      0.004       0.023       0.124\n",
      "pct_Pop_45_64_ACS_13_17           0.1654      0.045      3.647      0.000       0.076       0.254\n",
      "pct_Pop_65plus_ACS_13_17          0.0881      0.030      2.977      0.003       0.030       0.146\n",
      "pct_Hispanic_ACS_13_17            0.1186      0.043      2.754      0.006       0.034       0.203\n",
      "pct_NH_White_alone_CEN_2010      -0.0876      0.046     -1.891      0.059      -0.178       0.003\n",
      "pct_NH_Blk_alone_ACS_13_17        0.0302      0.013      2.300      0.021       0.004       0.056\n",
      "pct_NH_Asian_alone_ACS_13_17     -0.0182      0.012     -1.467      0.142      -0.042       0.006\n",
      "Med_HHD_Inc_BG_ACS_13_17         -0.2361      0.116     -2.040      0.041      -0.463      -0.009\n",
      "pct_Prs_Blw_Pov_Lev_ACS_13_17    -0.1553      0.038     -4.134      0.000      -0.229      -0.082\n",
      "Med_House_Value_BG_ACS_13_17     -0.0875      0.034     -2.563      0.010      -0.154      -0.021\n",
      "pct_College_ACS_13_17            -0.2923      0.103     -2.839      0.005      -0.494      -0.091\n",
      "ems_calls                         0.2601      0.112      2.326      0.020       0.041       0.479\n",
      "log_pop                           0.1497      0.019      7.898      0.000       0.113       0.187\n",
      "Site_TP01                         0.6943      0.288      2.415      0.016       0.131       1.258\n",
      "Site_TP02                        -0.1993      0.220     -0.904      0.366      -0.631       0.233\n",
      "Site_TP03                         0.5232      0.234      2.239      0.025       0.065       0.981\n",
      "Site_TP04                         0.4060      0.192      2.113      0.035       0.029       0.783\n",
      "Site_TP05                        -1.4193      0.467     -3.041      0.002      -2.334      -0.505\n",
      "=================================================================================================\n"
     ]
    }
   ],
   "source": [
    "res = sm.GLM(y, X, family=sm.families.Poisson()).fit()\n",
    "print(res.summary())"
   ]
  },
  {
   "cell_type": "code",
   "execution_count": 110,
   "metadata": {},
   "outputs": [
    {
     "data": {
      "text/plain": [
       "pct_Males_ACS_13_17              0.887912\n",
       "pct_Pop_18_24_ACS_13_17          0.616942\n",
       "pct_Pop_25_44_ACS_13_17          1.076638\n",
       "pct_Pop_45_64_ACS_13_17          1.179814\n",
       "pct_Pop_65plus_ACS_13_17         1.092048\n",
       "pct_Hispanic_ACS_13_17           1.125938\n",
       "pct_NH_White_alone_CEN_2010      0.916162\n",
       "pct_NH_Blk_alone_ACS_13_17       1.030615\n",
       "pct_NH_Asian_alone_ACS_13_17     0.981972\n",
       "Med_HHD_Inc_BG_ACS_13_17         0.789711\n",
       "pct_Prs_Blw_Pov_Lev_ACS_13_17    0.856132\n",
       "Med_House_Value_BG_ACS_13_17     0.916215\n",
       "pct_College_ACS_13_17            0.746522\n",
       "ems_calls                        1.297062\n",
       "log_pop                          1.161460\n",
       "Site_TP01                        2.002288\n",
       "Site_TP02                        0.819313\n",
       "Site_TP03                        1.687439\n",
       "Site_TP04                        1.500737\n",
       "Site_TP05                        0.241883\n",
       "dtype: float64"
      ]
     },
     "execution_count": 110,
     "metadata": {},
     "output_type": "execute_result"
    }
   ],
   "source": [
    "np.exp(res.params)"
   ]
  },
  {
   "cell_type": "code",
   "execution_count": null,
   "metadata": {},
   "outputs": [],
   "source": []
  },
  {
   "cell_type": "code",
   "execution_count": null,
   "metadata": {},
   "outputs": [],
   "source": []
  },
  {
   "cell_type": "code",
   "execution_count": null,
   "metadata": {},
   "outputs": [],
   "source": []
  }
 ],
 "metadata": {
  "kernelspec": {
   "display_name": "Python 3",
   "language": "python",
   "name": "python3"
  },
  "language_info": {
   "codemirror_mode": {
    "name": "ipython",
    "version": 3
   },
   "file_extension": ".py",
   "mimetype": "text/x-python",
   "name": "python",
   "nbconvert_exporter": "python",
   "pygments_lexer": "ipython3",
   "version": "3.7.3"
  }
 },
 "nbformat": 4,
 "nbformat_minor": 2
}
