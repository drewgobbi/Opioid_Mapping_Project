{
 "cells": [
  {
   "cell_type": "markdown",
   "metadata": {},
   "source": [
    "### Import Packages and Load"
   ]
  },
  {
   "cell_type": "code",
   "execution_count": 1,
   "metadata": {},
   "outputs": [],
   "source": [
    "import pandas as pd \n",
    "import numpy as np \n",
    "import matplotlib.pyplot as plt \n",
    "import seaborn as sns \n",
    "import geopandas as gpd \n",
    "import statsmodels.api as sm\n",
    "import statsmodels.formula.api as smf\n",
    "from time import strptime\n",
    "import os \n",
    "import patsy \n",
    "from shapely.wkt import loads\n",
    "import statsmodels.api as sm\n",
    "import statsmodels.formula.api as smf\n",
    "import pickle\n",
    "import statsmodels.api as sm\n",
    "import statsmodels.formula.api as smf"
   ]
  },
  {
   "cell_type": "code",
   "execution_count": 2,
   "metadata": {},
   "outputs": [],
   "source": [
    "pkl_in_temp = open('tempems_pkl_021120', 'rb')\n",
    "\n",
    "df = pickle.load(pkl_in_temp)"
   ]
  },
  {
   "cell_type": "markdown",
   "metadata": {},
   "source": [
    "### Using Covariates Listed in PLOS Model (p.11 in supplementary appendix)\n",
    "https://journals.plos.org/plosmedicine/article/file?id=info%3Adoi/10.1371/journal.pmed.1002956.s002&type=supplementary"
   ]
  },
  {
   "cell_type": "code",
   "execution_count": 3,
   "metadata": {},
   "outputs": [],
   "source": [
    "var = ['pdb2018trv4_us_csv_Tot_Populati', 'pdb2018trv4_us_csv_pct_Males_CE', 'pdb2018trv4_us_csv_pct_Pop_18_2'\n",
    "       'pdb2018trv4_us_csv_pct_Pop_25_4', 'pdb2018trv4_us_csv_pct_Pop_45_6', 'pdb2018trv4_us_csv_pct_Pop_65pl',\n",
    "       'pdb2018trv4_us_csv_NH_White_alo', 'pdb2018trv4_us_csv_NH_Blk_alone', 'pdb2018trv4_us_csv_NH_Asian_alo',\n",
    "      'pdb2018trv4_us_csv_pct_Hispanic', 'pdb2018trv4_us_csv_Med_HHD_Inc_', 'pdb2018trv4_us_csv_avg_Agg_HH_I',\n",
    "      'pdb2018trv4_us_csv_Prs_Blw_Pov_', 'pdb2018trv4_us_csv_pct_College_', 'pdb2018trv4_us_csv_Med_House_Va']"
   ]
  },
  {
   "cell_type": "code",
   "execution_count": 4,
   "metadata": {},
   "outputs": [],
   "source": [
    "var.append('ems_calls')"
   ]
  },
  {
   "cell_type": "code",
   "execution_count": 5,
   "metadata": {},
   "outputs": [
    {
     "data": {
      "text/plain": [
       "['pdb2018trv4_us_csv_Tot_Populati',\n",
       " 'pdb2018trv4_us_csv_pct_Males_CE',\n",
       " 'pdb2018trv4_us_csv_pct_Pop_18_2pdb2018trv4_us_csv_pct_Pop_25_4',\n",
       " 'pdb2018trv4_us_csv_pct_Pop_45_6',\n",
       " 'pdb2018trv4_us_csv_pct_Pop_65pl',\n",
       " 'pdb2018trv4_us_csv_NH_White_alo',\n",
       " 'pdb2018trv4_us_csv_NH_Blk_alone',\n",
       " 'pdb2018trv4_us_csv_NH_Asian_alo',\n",
       " 'pdb2018trv4_us_csv_pct_Hispanic',\n",
       " 'pdb2018trv4_us_csv_Med_HHD_Inc_',\n",
       " 'pdb2018trv4_us_csv_avg_Agg_HH_I',\n",
       " 'pdb2018trv4_us_csv_Prs_Blw_Pov_',\n",
       " 'pdb2018trv4_us_csv_pct_College_',\n",
       " 'pdb2018trv4_us_csv_Med_House_Va',\n",
       " 'ems_calls']"
      ]
     },
     "execution_count": 5,
     "metadata": {},
     "output_type": "execute_result"
    }
   ],
   "source": [
    "var"
   ]
  },
  {
   "cell_type": "code",
   "execution_count": 6,
   "metadata": {},
   "outputs": [],
   "source": [
    "plos = df.filter(var)"
   ]
  },
  {
   "cell_type": "code",
   "execution_count": 7,
   "metadata": {},
   "outputs": [],
   "source": [
    "plos['log_pop'] = np.log(plos['pdb2018trv4_us_csv_Tot_Populati'])"
   ]
  },
  {
   "cell_type": "code",
   "execution_count": 8,
   "metadata": {},
   "outputs": [],
   "source": [
    "plos['prop_pov'] = plos['pdb2018trv4_us_csv_Prs_Blw_Pov_']/plos['pdb2018trv4_us_csv_Tot_Populati']"
   ]
  },
  {
   "cell_type": "code",
   "execution_count": 9,
   "metadata": {},
   "outputs": [
    {
     "data": {
      "text/html": [
       "<div>\n",
       "<style scoped>\n",
       "    .dataframe tbody tr th:only-of-type {\n",
       "        vertical-align: middle;\n",
       "    }\n",
       "\n",
       "    .dataframe tbody tr th {\n",
       "        vertical-align: top;\n",
       "    }\n",
       "\n",
       "    .dataframe thead th {\n",
       "        text-align: right;\n",
       "    }\n",
       "</style>\n",
       "<table border=\"1\" class=\"dataframe\">\n",
       "  <thead>\n",
       "    <tr style=\"text-align: right;\">\n",
       "      <th></th>\n",
       "      <th>pdb2018trv4_us_csv_Tot_Populati</th>\n",
       "      <th>pdb2018trv4_us_csv_pct_Males_CE</th>\n",
       "      <th>pdb2018trv4_us_csv_pct_Pop_45_6</th>\n",
       "      <th>pdb2018trv4_us_csv_pct_Pop_65pl</th>\n",
       "      <th>pdb2018trv4_us_csv_NH_White_alo</th>\n",
       "      <th>pdb2018trv4_us_csv_NH_Blk_alone</th>\n",
       "      <th>pdb2018trv4_us_csv_NH_Asian_alo</th>\n",
       "      <th>pdb2018trv4_us_csv_pct_Hispanic</th>\n",
       "      <th>pdb2018trv4_us_csv_Med_HHD_Inc_</th>\n",
       "      <th>pdb2018trv4_us_csv_avg_Agg_HH_I</th>\n",
       "      <th>pdb2018trv4_us_csv_Prs_Blw_Pov_</th>\n",
       "      <th>pdb2018trv4_us_csv_pct_College_</th>\n",
       "      <th>pdb2018trv4_us_csv_Med_House_Va</th>\n",
       "      <th>ems_calls</th>\n",
       "      <th>log_pop</th>\n",
       "      <th>prop_pov</th>\n",
       "    </tr>\n",
       "  </thead>\n",
       "  <tbody>\n",
       "    <tr>\n",
       "      <th>0</th>\n",
       "      <td>4650.0</td>\n",
       "      <td>54.41</td>\n",
       "      <td>15.89</td>\n",
       "      <td>5.78</td>\n",
       "      <td>2577.0</td>\n",
       "      <td>148.0</td>\n",
       "      <td>159.0</td>\n",
       "      <td>32.97</td>\n",
       "      <td>43300.0</td>\n",
       "      <td>48725.0</td>\n",
       "      <td>1486.0</td>\n",
       "      <td>27.02</td>\n",
       "      <td>102500.0</td>\n",
       "      <td>3</td>\n",
       "      <td>8.444622</td>\n",
       "      <td>0.31957</td>\n",
       "    </tr>\n",
       "    <tr>\n",
       "      <th>1</th>\n",
       "      <td>4650.0</td>\n",
       "      <td>54.41</td>\n",
       "      <td>15.89</td>\n",
       "      <td>5.78</td>\n",
       "      <td>2577.0</td>\n",
       "      <td>148.0</td>\n",
       "      <td>159.0</td>\n",
       "      <td>32.97</td>\n",
       "      <td>43300.0</td>\n",
       "      <td>48725.0</td>\n",
       "      <td>1486.0</td>\n",
       "      <td>27.02</td>\n",
       "      <td>102500.0</td>\n",
       "      <td>5</td>\n",
       "      <td>8.444622</td>\n",
       "      <td>0.31957</td>\n",
       "    </tr>\n",
       "    <tr>\n",
       "      <th>2</th>\n",
       "      <td>4650.0</td>\n",
       "      <td>54.41</td>\n",
       "      <td>15.89</td>\n",
       "      <td>5.78</td>\n",
       "      <td>2577.0</td>\n",
       "      <td>148.0</td>\n",
       "      <td>159.0</td>\n",
       "      <td>32.97</td>\n",
       "      <td>43300.0</td>\n",
       "      <td>48725.0</td>\n",
       "      <td>1486.0</td>\n",
       "      <td>27.02</td>\n",
       "      <td>102500.0</td>\n",
       "      <td>6</td>\n",
       "      <td>8.444622</td>\n",
       "      <td>0.31957</td>\n",
       "    </tr>\n",
       "    <tr>\n",
       "      <th>3</th>\n",
       "      <td>4650.0</td>\n",
       "      <td>54.41</td>\n",
       "      <td>15.89</td>\n",
       "      <td>5.78</td>\n",
       "      <td>2577.0</td>\n",
       "      <td>148.0</td>\n",
       "      <td>159.0</td>\n",
       "      <td>32.97</td>\n",
       "      <td>43300.0</td>\n",
       "      <td>48725.0</td>\n",
       "      <td>1486.0</td>\n",
       "      <td>27.02</td>\n",
       "      <td>102500.0</td>\n",
       "      <td>2</td>\n",
       "      <td>8.444622</td>\n",
       "      <td>0.31957</td>\n",
       "    </tr>\n",
       "    <tr>\n",
       "      <th>4</th>\n",
       "      <td>4650.0</td>\n",
       "      <td>54.41</td>\n",
       "      <td>15.89</td>\n",
       "      <td>5.78</td>\n",
       "      <td>2577.0</td>\n",
       "      <td>148.0</td>\n",
       "      <td>159.0</td>\n",
       "      <td>32.97</td>\n",
       "      <td>43300.0</td>\n",
       "      <td>48725.0</td>\n",
       "      <td>1486.0</td>\n",
       "      <td>27.02</td>\n",
       "      <td>102500.0</td>\n",
       "      <td>5</td>\n",
       "      <td>8.444622</td>\n",
       "      <td>0.31957</td>\n",
       "    </tr>\n",
       "  </tbody>\n",
       "</table>\n",
       "</div>"
      ],
      "text/plain": [
       "   pdb2018trv4_us_csv_Tot_Populati  pdb2018trv4_us_csv_pct_Males_CE  \\\n",
       "0                           4650.0                            54.41   \n",
       "1                           4650.0                            54.41   \n",
       "2                           4650.0                            54.41   \n",
       "3                           4650.0                            54.41   \n",
       "4                           4650.0                            54.41   \n",
       "\n",
       "   pdb2018trv4_us_csv_pct_Pop_45_6  pdb2018trv4_us_csv_pct_Pop_65pl  \\\n",
       "0                            15.89                             5.78   \n",
       "1                            15.89                             5.78   \n",
       "2                            15.89                             5.78   \n",
       "3                            15.89                             5.78   \n",
       "4                            15.89                             5.78   \n",
       "\n",
       "   pdb2018trv4_us_csv_NH_White_alo  pdb2018trv4_us_csv_NH_Blk_alone  \\\n",
       "0                           2577.0                            148.0   \n",
       "1                           2577.0                            148.0   \n",
       "2                           2577.0                            148.0   \n",
       "3                           2577.0                            148.0   \n",
       "4                           2577.0                            148.0   \n",
       "\n",
       "   pdb2018trv4_us_csv_NH_Asian_alo  pdb2018trv4_us_csv_pct_Hispanic  \\\n",
       "0                            159.0                            32.97   \n",
       "1                            159.0                            32.97   \n",
       "2                            159.0                            32.97   \n",
       "3                            159.0                            32.97   \n",
       "4                            159.0                            32.97   \n",
       "\n",
       "   pdb2018trv4_us_csv_Med_HHD_Inc_  pdb2018trv4_us_csv_avg_Agg_HH_I  \\\n",
       "0                          43300.0                          48725.0   \n",
       "1                          43300.0                          48725.0   \n",
       "2                          43300.0                          48725.0   \n",
       "3                          43300.0                          48725.0   \n",
       "4                          43300.0                          48725.0   \n",
       "\n",
       "   pdb2018trv4_us_csv_Prs_Blw_Pov_  pdb2018trv4_us_csv_pct_College_  \\\n",
       "0                           1486.0                            27.02   \n",
       "1                           1486.0                            27.02   \n",
       "2                           1486.0                            27.02   \n",
       "3                           1486.0                            27.02   \n",
       "4                           1486.0                            27.02   \n",
       "\n",
       "   pdb2018trv4_us_csv_Med_House_Va  ems_calls   log_pop  prop_pov  \n",
       "0                         102500.0          3  8.444622   0.31957  \n",
       "1                         102500.0          5  8.444622   0.31957  \n",
       "2                         102500.0          6  8.444622   0.31957  \n",
       "3                         102500.0          2  8.444622   0.31957  \n",
       "4                         102500.0          5  8.444622   0.31957  "
      ]
     },
     "execution_count": 9,
     "metadata": {},
     "output_type": "execute_result"
    }
   ],
   "source": [
    "plos.head()"
   ]
  },
  {
   "cell_type": "code",
   "execution_count": 10,
   "metadata": {},
   "outputs": [],
   "source": [
    "plos.drop(['pdb2018trv4_us_csv_Tot_Populati', 'pdb2018trv4_us_csv_Prs_Blw_Pov_'], axis=1, inplace=True)"
   ]
  },
  {
   "cell_type": "code",
   "execution_count": 11,
   "metadata": {},
   "outputs": [
    {
     "data": {
      "text/plain": [
       "array([[<matplotlib.axes._subplots.AxesSubplot object at 0x1c286a2d30>,\n",
       "        <matplotlib.axes._subplots.AxesSubplot object at 0x1c28948748>,\n",
       "        <matplotlib.axes._subplots.AxesSubplot object at 0x1c28971cc0>,\n",
       "        <matplotlib.axes._subplots.AxesSubplot object at 0x1c289a3208>],\n",
       "       [<matplotlib.axes._subplots.AxesSubplot object at 0x1c289ca780>,\n",
       "        <matplotlib.axes._subplots.AxesSubplot object at 0x1c289f1cf8>,\n",
       "        <matplotlib.axes._subplots.AxesSubplot object at 0x1c28a202b0>,\n",
       "        <matplotlib.axes._subplots.AxesSubplot object at 0x1c28a4a860>],\n",
       "       [<matplotlib.axes._subplots.AxesSubplot object at 0x1c28a4a898>,\n",
       "        <matplotlib.axes._subplots.AxesSubplot object at 0x1c28aa2358>,\n",
       "        <matplotlib.axes._subplots.AxesSubplot object at 0x1c28aca8d0>,\n",
       "        <matplotlib.axes._subplots.AxesSubplot object at 0x1c28af2e48>],\n",
       "       [<matplotlib.axes._subplots.AxesSubplot object at 0x1c28b20400>,\n",
       "        <matplotlib.axes._subplots.AxesSubplot object at 0x1c28b47978>,\n",
       "        <matplotlib.axes._subplots.AxesSubplot object at 0x1c28b71ef0>,\n",
       "        <matplotlib.axes._subplots.AxesSubplot object at 0x1c28b9f4a8>]],\n",
       "      dtype=object)"
      ]
     },
     "execution_count": 11,
     "metadata": {},
     "output_type": "execute_result"
    },
    {
     "data": {
      "image/png": "[encoded data removed]",
      "text/plain": [
       "<Figure size 1440x1440 with 16 Axes>"
      ]
     },
     "metadata": {
      "needs_background": "light"
     },
     "output_type": "display_data"
    }
   ],
   "source": [
    "plos.hist(figsize=(20,20))"
   ]
  },
  {
   "cell_type": "code",
   "execution_count": 12,
   "metadata": {},
   "outputs": [],
   "source": [
    "plt.subplots?"
   ]
  },
  {
   "cell_type": "code",
   "execution_count": 13,
   "metadata": {},
   "outputs": [
    {
     "data": {
      "text/plain": [
       "(array([286.,   0.,   0., 103.,   0.,  33.,   0.,  10.,   5.,   3.]),\n",
       " array([0.        , 0.19459101, 0.38918203, 0.58377304, 0.77836406,\n",
       "        0.97295507, 1.16754609, 1.3621371 , 1.55672812, 1.75131913,\n",
       "        1.94591015]),\n",
       " <a list of 10 Patch objects>)"
      ]
     },
     "execution_count": 13,
     "metadata": {},
     "output_type": "execute_result"
    },
    {
     "data": {
      "image/png": "[encoded data removed]",
      "text/plain": [
       "<Figure size 432x288 with 1 Axes>"
      ]
     },
     "metadata": {
      "needs_background": "light"
     },
     "output_type": "display_data"
    }
   ],
   "source": [
    "plt.hist(np.log(plos.ems_calls))"
   ]
  },
  {
   "cell_type": "code",
   "execution_count": 14,
   "metadata": {},
   "outputs": [
    {
     "data": {
      "text/plain": [
       "(array([286., 103.,   0.,  33.,   0.,  10.,   5.,   0.,   2.,   1.]),\n",
       " array([1. , 1.6, 2.2, 2.8, 3.4, 4. , 4.6, 5.2, 5.8, 6.4, 7. ]),\n",
       " <a list of 10 Patch objects>)"
      ]
     },
     "execution_count": 14,
     "metadata": {},
     "output_type": "execute_result"
    },
    {
     "data": {
      "image/png": "[encoded data removed]",
      "text/plain": [
       "<Figure size 432x288 with 1 Axes>"
      ]
     },
     "metadata": {
      "needs_background": "light"
     },
     "output_type": "display_data"
    }
   ],
   "source": [
    "plt.hist(plos.ems_calls)"
   ]
  },
  {
   "cell_type": "code",
   "execution_count": 15,
   "metadata": {},
   "outputs": [
    {
     "data": {
      "text/plain": [
       "1    286\n",
       "2    103\n",
       "3     33\n",
       "4     10\n",
       "5      5\n",
       "6      2\n",
       "7      1\n",
       "Name: ems_calls, dtype: int64"
      ]
     },
     "execution_count": 15,
     "metadata": {},
     "output_type": "execute_result"
    }
   ],
   "source": [
    "plos.ems_calls.value_counts()"
   ]
  },
  {
   "cell_type": "code",
   "execution_count": 16,
   "metadata": {},
   "outputs": [
    {
     "data": {
      "text/plain": [
       "36"
      ]
     },
     "execution_count": 16,
     "metadata": {},
     "output_type": "execute_result"
    }
   ],
   "source": [
    "len(df.tract.unique())"
   ]
  },
  {
   "cell_type": "code",
   "execution_count": 17,
   "metadata": {},
   "outputs": [
    {
     "data": {
      "text/plain": [
       "440"
      ]
     },
     "execution_count": 17,
     "metadata": {},
     "output_type": "execute_result"
    }
   ],
   "source": [
    "len(plos.prop_pov)"
   ]
  },
  {
   "cell_type": "code",
   "execution_count": 18,
   "metadata": {},
   "outputs": [
    {
     "data": {
      "text/plain": [
       "36"
      ]
     },
     "execution_count": 18,
     "metadata": {},
     "output_type": "execute_result"
    }
   ],
   "source": [
    "len(plos.prop_pov.unique())"
   ]
  },
  {
   "cell_type": "code",
   "execution_count": 19,
   "metadata": {},
   "outputs": [],
   "source": [
    "plos.dropna(inplace=True)"
   ]
  },
  {
   "cell_type": "code",
   "execution_count": 20,
   "metadata": {},
   "outputs": [],
   "source": [
    "X, y = plos, plos.ems_calls\n",
    "X.drop(columns='ems_calls', inplace=True)"
   ]
  },
  {
   "cell_type": "code",
   "execution_count": 21,
   "metadata": {},
   "outputs": [],
   "source": [
    "from sklearn.model_selection import train_test_split\n",
    "X_train, X_test, y_train, y_test = train_test_split(X, y, test_size=0.2, random_state=42)"
   ]
  },
  {
   "cell_type": "code",
   "execution_count": 22,
   "metadata": {},
   "outputs": [
    {
     "name": "stdout",
     "output_type": "stream",
     "text": [
      "                 Generalized Linear Model Regression Results                  \n",
      "==============================================================================\n",
      "Dep. Variable:              ems_calls   No. Observations:                  347\n",
      "Model:                            GLM   Df Residuals:                      334\n",
      "Model Family:                 Poisson   Df Model:                           12\n",
      "Link Function:                    log   Scale:                          1.0000\n",
      "Method:                          IRLS   Log-Likelihood:                -458.88\n",
      "Date:                Thu, 20 Feb 2020   Deviance:                       127.94\n",
      "Time:                        19:27:46   Pearson chi2:                     148.\n",
      "No. Iterations:                     4   Covariance Type:             nonrobust\n",
      "===================================================================================================\n",
      "                                      coef    std err          z      P>|z|      [0.025      0.975]\n",
      "---------------------------------------------------------------------------------------------------\n",
      "pdb2018trv4_us_csv_pct_Males_CE     0.0593      0.035      1.710      0.087      -0.009       0.127\n",
      "pdb2018trv4_us_csv_pct_Pop_45_6    -0.0400      0.017     -2.369      0.018      -0.073      -0.007\n",
      "pdb2018trv4_us_csv_pct_Pop_65pl     0.0123      0.017      0.710      0.478      -0.022       0.046\n",
      "pdb2018trv4_us_csv_NH_White_alo     0.0003      0.000      1.637      0.102   -5.02e-05       0.001\n",
      "pdb2018trv4_us_csv_NH_Blk_alone     0.0001      0.000      0.254      0.799      -0.001       0.001\n",
      "pdb2018trv4_us_csv_NH_Asian_alo    -0.0006      0.001     -1.013      0.311      -0.002       0.001\n",
      "pdb2018trv4_us_csv_pct_Hispanic     0.0113      0.017      0.671      0.503      -0.022       0.044\n",
      "pdb2018trv4_us_csv_Med_HHD_Inc_  2.482e-05   1.42e-05      1.748      0.080   -3.01e-06    5.27e-05\n",
      "pdb2018trv4_us_csv_avg_Agg_HH_I -5.864e-06   1.04e-05     -0.564      0.573   -2.62e-05    1.45e-05\n",
      "pdb2018trv4_us_csv_pct_College_    -0.0172      0.011     -1.507      0.132      -0.039       0.005\n",
      "pdb2018trv4_us_csv_Med_House_Va  1.065e-09   1.65e-06      0.001      0.999   -3.24e-06    3.24e-06\n",
      "log_pop                            -0.3986      0.343     -1.161      0.246      -1.071       0.274\n",
      "prop_pov                            0.7595      1.062      0.715      0.475      -1.322       2.841\n",
      "===================================================================================================\n"
     ]
    }
   ],
   "source": [
    "res = sm.GLM(y_train, X_train, family=sm.families.Poisson()).fit()\n",
    "print(res.summary())"
   ]
  },
  {
   "cell_type": "code",
   "execution_count": null,
   "metadata": {},
   "outputs": [],
   "source": []
  },
  {
   "cell_type": "code",
   "execution_count": null,
   "metadata": {},
   "outputs": [],
   "source": []
  },
  {
   "cell_type": "code",
   "execution_count": null,
   "metadata": {},
   "outputs": [],
   "source": []
  },
  {
   "cell_type": "code",
   "execution_count": null,
   "metadata": {},
   "outputs": [],
   "source": []
  },
  {
   "cell_type": "code",
   "execution_count": null,
   "metadata": {},
   "outputs": [],
   "source": []
  },
  {
   "cell_type": "code",
   "execution_count": null,
   "metadata": {},
   "outputs": [],
   "source": []
  },
  {
   "cell_type": "code",
   "execution_count": null,
   "metadata": {},
   "outputs": [],
   "source": []
  },
  {
   "cell_type": "code",
   "execution_count": null,
   "metadata": {},
   "outputs": [],
   "source": []
  },
  {
   "cell_type": "code",
   "execution_count": null,
   "metadata": {},
   "outputs": [],
   "source": []
  },
  {
   "cell_type": "code",
   "execution_count": null,
   "metadata": {},
   "outputs": [],
   "source": []
  },
  {
   "cell_type": "code",
   "execution_count": null,
   "metadata": {},
   "outputs": [],
   "source": []
  },
  {
   "cell_type": "markdown",
   "metadata": {},
   "source": [
    "### Trim Variables"
   ]
  },
  {
   "cell_type": "code",
   "execution_count": null,
   "metadata": {},
   "outputs": [],
   "source": [
    "df.head()"
   ]
  },
  {
   "cell_type": "code",
   "execution_count": null,
   "metadata": {},
   "outputs": [],
   "source": [
    "for i in range(len(df.columns)):\n",
    "    print(df.columns[i])"
   ]
  },
  {
   "cell_type": "code",
   "execution_count": null,
   "metadata": {},
   "outputs": [],
   "source": [
    "var = ['pdb2018trv4_us_csv_pct_College_', 'pdb2018trv4_us_csv_pct_PUB_ASST','pdb2018trv4_us_csv_pct_Civ_unem',\n",
    "'pdb2018trv4_us_csv_pct_Pop_18_2', 'pdb2018trv4_us_csv_pct_Pop_25_6','pdb2018trv4_us_csv_pct_Pop_45_6',\n",
    "'pdb2018trv4_us_csv_pct_Pop_65pl','pdb2018trv4_us_csv_pct_Pop_Disa','ems_calls','pdb2018trv4_us_csv_Med_HHD_Inc_',\n",
    "     'pdb2018trv4_us_csv_pct_Owner__1', 'pdb2018trv4_us_csv_Med_House_Va']"
   ]
  },
  {
   "cell_type": "code",
   "execution_count": null,
   "metadata": {},
   "outputs": [],
   "source": [
    "exp1 = df.filter(var)"
   ]
  },
  {
   "cell_type": "code",
   "execution_count": null,
   "metadata": {},
   "outputs": [],
   "source": [
    "# Compute the correlation matrix\n",
    "corr = exp1.corr()\n",
    "\n",
    "# Generate a mask for the upper triangle\n",
    "mask = np.triu(np.ones_like(corr, dtype=np.bool))\n",
    "\n",
    "# Set up the matplotlib figure\n",
    "f, ax = plt.subplots(figsize=(11, 9))\n",
    "\n",
    "# Generate a custom diverging colormap\n",
    "cmap = sns.diverging_palette(220, 10, as_cmap=True)\n",
    "\n",
    "# Draw the heatmap with the mask and correct aspect ratio\n",
    "sns.heatmap(corr, mask=mask, cmap=cmap, vmax=.3, center=0,\n",
    "            square=True, linewidths=.5, cbar_kws={\"shrink\": .5})"
   ]
  },
  {
   "cell_type": "code",
   "execution_count": null,
   "metadata": {},
   "outputs": [],
   "source": []
  },
  {
   "cell_type": "code",
   "execution_count": null,
   "metadata": {},
   "outputs": [],
   "source": []
  },
  {
   "cell_type": "code",
   "execution_count": null,
   "metadata": {},
   "outputs": [],
   "source": []
  }
 ],
 "metadata": {
  "kernelspec": {
   "display_name": "Python 3",
   "language": "python",
   "name": "python3"
  },
  "language_info": {
   "codemirror_mode": {
    "name": "ipython",
    "version": 3
   },
   "file_extension": ".py",
   "mimetype": "text/x-python",
   "name": "python",
   "nbconvert_exporter": "python",
   "pygments_lexer": "ipython3",
   "version": "3.7.3"
  }
 },
 "nbformat": 4,
 "nbformat_minor": 2
}
