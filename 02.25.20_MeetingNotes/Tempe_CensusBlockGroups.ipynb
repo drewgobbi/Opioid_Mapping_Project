{
 "cells": [
  {
   "cell_type": "code",
   "execution_count": 2,
   "metadata": {},
   "outputs": [],
   "source": [
    "import pandas as pd \n",
    "import numpy as np \n",
    "import matplotlib.pyplot as plt \n",
    "import seaborn as sns \n",
    "import geopandas as gpd \n",
    "import statsmodels.api as sm\n",
    "import statsmodels.formula.api as smf\n",
    "from time import strptime\n",
    "import os \n",
    "import patsy \n",
    "from shapely.wkt import loads\n",
    "import statsmodels.api as sm\n",
    "import statsmodels.formula.api as smf\n",
    "import pickle\n",
    "import statsmodels.api as sm\n",
    "import statsmodels.formula.api as smf\n",
    "import requests "
   ]
  },
  {
   "cell_type": "markdown",
   "metadata": {},
   "source": [
    "### Get Block Group Geometries"
   ]
  },
  {
   "cell_type": "code",
   "execution_count": null,
   "metadata": {},
   "outputs": [],
   "source": [
    "import os\n",
    "os.getcwd()"
   ]
  },
  {
   "cell_type": "code",
   "execution_count": null,
   "metadata": {},
   "outputs": [],
   "source": [
    "os.chdir('/Users/drewgobbi/Documents/GitHub/OpioidWasteWaterPilot/tl_2019_04_bg')"
   ]
  },
  {
   "cell_type": "code",
   "execution_count": null,
   "metadata": {},
   "outputs": [],
   "source": [
    "az_bg = gpd.read_file('tl_2019_04_bg.shp')"
   ]
  },
  {
   "cell_type": "code",
   "execution_count": null,
   "metadata": {
    "scrolled": false
   },
   "outputs": [],
   "source": [
    "az_bg.plot()"
   ]
  },
  {
   "cell_type": "code",
   "execution_count": null,
   "metadata": {},
   "outputs": [],
   "source": [
    "az_bg.head()"
   ]
  },
  {
   "cell_type": "code",
   "execution_count": null,
   "metadata": {},
   "outputs": [],
   "source": [
    "os.chdir('/Users/drewgobbi/Documents/GitHub/OpioidWasteWaterPilot/')\n",
    "\n",
    "pkl_in_temp = open('tempems_pkl_021120', 'rb')\n",
    "\n",
    "df = pickle.load(pkl_in_temp)\n",
    "\n",
    "key = df.filter(['tract'])\n",
    "key.drop_duplicates(inplace=True)"
   ]
  },
  {
   "cell_type": "code",
   "execution_count": null,
   "metadata": {},
   "outputs": [],
   "source": [
    "key.tract = key.tract *100"
   ]
  },
  {
   "cell_type": "code",
   "execution_count": null,
   "metadata": {},
   "outputs": [],
   "source": [
    "key.tract.head()"
   ]
  },
  {
   "cell_type": "code",
   "execution_count": null,
   "metadata": {},
   "outputs": [],
   "source": [
    "az_bg.TRACTCE = az_bg.TRACTCE.astype(float) "
   ]
  },
  {
   "cell_type": "code",
   "execution_count": null,
   "metadata": {},
   "outputs": [],
   "source": [
    "tempe_bg = az_bg.merge(key, left_on='TRACTCE', right_on='tract')"
   ]
  },
  {
   "cell_type": "code",
   "execution_count": null,
   "metadata": {},
   "outputs": [],
   "source": [
    "tempe_bg.boundary.plot(figsize=(10,10))"
   ]
  },
  {
   "cell_type": "code",
   "execution_count": null,
   "metadata": {},
   "outputs": [],
   "source": [
    "tempe_bg.GEOID.head()"
   ]
  },
  {
   "cell_type": "markdown",
   "metadata": {},
   "source": [
    "### Query Block Group PDB Data From Census "
   ]
  },
  {
   "cell_type": "code",
   "execution_count": null,
   "metadata": {},
   "outputs": [],
   "source": [
    "year='2019'\n",
    "dsource='pdb/blockgroup'\n",
    "cols='State_name,County_name,GIDBG,Tot_Population_ACS_13_17,pct_Males_ACS_13_17,pct_Pop_18_24_ACS_13_17,pct_Pop_25_44_ACS_13_17,pct_Pop_45_64_ACS_13_17,pct_Pop_65plus_ACS_13_17,pct_Hispanic_ACS_13_17,pct_NH_White_alone_CEN_2010,pct_NH_Blk_alone_ACS_13_17,pct_NH_Asian_alone_ACS_13_17,Med_HHD_Inc_BG_ACS_13_17,pct_Prs_Blw_Pov_Lev_ACS_13_17,Med_House_Value_BG_ACS_13_17,pct_College_ACS_13_17'\n",
    "state='04'\n",
    "county='013'\n",
    "api_key='b76534619ffbdeef7355569c1b9cafd6a55fce2b'"
   ]
  },
  {
   "cell_type": "code",
   "execution_count": null,
   "metadata": {},
   "outputs": [],
   "source": [
    "base_url = f'https://api.census.gov/data/{year}/{dsource}'"
   ]
  },
  {
   "cell_type": "code",
   "execution_count": null,
   "metadata": {},
   "outputs": [],
   "source": [
    "data_url = f'{base_url}?get={cols}&for=block%20group:*&in=state:{state}&in=county:{county}&in=tract:*&key={api_key}'"
   ]
  },
  {
   "cell_type": "code",
   "execution_count": null,
   "metadata": {
    "scrolled": false
   },
   "outputs": [],
   "source": [
    "response=requests.get(data_url)"
   ]
  },
  {
   "cell_type": "code",
   "execution_count": null,
   "metadata": {},
   "outputs": [],
   "source": [
    "data=response.json()\n",
    "pdb_bg=pd.DataFrame(data[1:], columns=data[0])"
   ]
  },
  {
   "cell_type": "code",
   "execution_count": null,
   "metadata": {
    "scrolled": false
   },
   "outputs": [],
   "source": [
    "pdb_bg.head()"
   ]
  },
  {
   "cell_type": "code",
   "execution_count": null,
   "metadata": {},
   "outputs": [],
   "source": [
    "tempe = pdb_bg.merge(tempe_bg, left_on='GIDBG', right_on='GEOID')"
   ]
  },
  {
   "cell_type": "code",
   "execution_count": null,
   "metadata": {},
   "outputs": [],
   "source": [
    "tempe.head()"
   ]
  },
  {
   "cell_type": "markdown",
   "metadata": {},
   "source": [
    "### Import and Merge with Tempe EMS calls"
   ]
  },
  {
   "cell_type": "code",
   "execution_count": null,
   "metadata": {},
   "outputs": [],
   "source": [
    "#tempe ems \n",
    "eurl = 'https://services.arcgis.com/lQySeXwbBg53XWDi/arcgis/rest/services/Opioid_Calls/FeatureServer/0/query?where=OBJECTID+%3E+0+&objectIds=&time=&geometry=&geometryType=esriGeometryEnvelope&inSR=&spatialRel=esriSpatialRelIntersects&resultType=none&distance=0.0&units=esriSRUnit_Meter&returnGeodetic=false&outFields=*&returnGeometry=true&featureEncoding=esriDefault&multipatchOption=xyFootprint&maxAllowableOffset=&geometryPrecision=&outSR=4326&datumTransformation=&applyVCSProjection=false&returnIdsOnly=false&returnUniqueIdsOnly=false&returnCountOnly=false&returnExtentOnly=false&returnQueryGeometry=false&returnDistinctValues=false&cacheHint=false&orderByFields=&groupByFieldsForStatistics=&outStatistics=&having=&resultOffset=&resultRecordCount=&returnZ=false&returnM=false&returnExceededLimitFeatures=true&quantizationParameters=&sqlFormat=none&f=pgeojson&token='\n",
    "tempems = gpd.read_file(eurl)"
   ]
  },
  {
   "cell_type": "code",
   "execution_count": null,
   "metadata": {},
   "outputs": [],
   "source": [
    "tempems = tempems[tempems['Opioid_Use'] == 'Yes']\n",
    "tempems.shape"
   ]
  },
  {
   "cell_type": "code",
   "execution_count": null,
   "metadata": {},
   "outputs": [],
   "source": [
    "tempems.head()"
   ]
  },
  {
   "cell_type": "code",
   "execution_count": null,
   "metadata": {},
   "outputs": [],
   "source": [
    "tempe = gpd.GeoDataFrame(tempe, geometry=tempe.geometry)"
   ]
  },
  {
   "cell_type": "code",
   "execution_count": null,
   "metadata": {},
   "outputs": [],
   "source": [
    "tempe.plot()"
   ]
  },
  {
   "cell_type": "code",
   "execution_count": null,
   "metadata": {},
   "outputs": [],
   "source": [
    "tempe_tract = pd.DataFrame()\n",
    "for i in range(len(tempe)):\n",
    "    df = tempems[tempems.within(tempe.loc[i,'geometry'])]\n",
    "    df['GIDBG'] = tempe.loc[i,'GIDBG']\n",
    "    tempe_tract = pd.concat([tempe_tract, df], axis=0)"
   ]
  },
  {
   "cell_type": "code",
   "execution_count": null,
   "metadata": {
    "scrolled": false
   },
   "outputs": [],
   "source": [
    "tempe_tract.columns"
   ]
  },
  {
   "cell_type": "code",
   "execution_count": null,
   "metadata": {},
   "outputs": [],
   "source": [
    "tempems.shape"
   ]
  },
  {
   "cell_type": "code",
   "execution_count": null,
   "metadata": {},
   "outputs": [],
   "source": [
    "tempe_tract.shape"
   ]
  },
  {
   "cell_type": "code",
   "execution_count": null,
   "metadata": {},
   "outputs": [],
   "source": [
    "tempe_tract = tempe_tract.merge(tempe, on='GIDBG')"
   ]
  },
  {
   "cell_type": "code",
   "execution_count": null,
   "metadata": {},
   "outputs": [],
   "source": [
    "tempe_tract.shape"
   ]
  },
  {
   "cell_type": "code",
   "execution_count": null,
   "metadata": {},
   "outputs": [],
   "source": [
    "tempe_tract.columns"
   ]
  },
  {
   "cell_type": "code",
   "execution_count": null,
   "metadata": {},
   "outputs": [],
   "source": [
    "tempe_tract.drop('geometry_y', inplace=True, axis=1)"
   ]
  },
  {
   "cell_type": "code",
   "execution_count": null,
   "metadata": {},
   "outputs": [],
   "source": [
    "tempe_tract.rename(columns={'geometry_x':'geometry'}, inplace=True)\n",
    "tempe_tract = gpd.GeoDataFrame(tempe_tract, geometry=tempe_tract.geometry)"
   ]
  },
  {
   "cell_type": "code",
   "execution_count": null,
   "metadata": {},
   "outputs": [],
   "source": [
    "tempe_tract.shape"
   ]
  },
  {
   "cell_type": "code",
   "execution_count": null,
   "metadata": {
    "scrolled": false
   },
   "outputs": [],
   "source": [
    "tempe_tract.head()"
   ]
  },
  {
   "cell_type": "code",
   "execution_count": null,
   "metadata": {},
   "outputs": [],
   "source": [
    "tempe_tract.columns"
   ]
  },
  {
   "cell_type": "code",
   "execution_count": null,
   "metadata": {},
   "outputs": [],
   "source": [
    "from time import strptime\n",
    "for i in range(len(tempe_tract)):\n",
    "    tempe_tract['Month'][i] = strptime(tempe_tract['Month'][i], '%B').tm_mon\n",
    "    "
   ]
  },
  {
   "cell_type": "code",
   "execution_count": null,
   "metadata": {},
   "outputs": [],
   "source": [
    "tempe_tract['year_month']= tempe_tract['Year'] + tempe_tract['Month']/100"
   ]
  },
  {
   "cell_type": "code",
   "execution_count": null,
   "metadata": {},
   "outputs": [],
   "source": [
    "op = tempe_tract.filter(['GIDBG', 'year_month', 'Opioid_Use'])"
   ]
  },
  {
   "cell_type": "code",
   "execution_count": null,
   "metadata": {},
   "outputs": [],
   "source": [
    "op.head()"
   ]
  },
  {
   "cell_type": "code",
   "execution_count": null,
   "metadata": {},
   "outputs": [],
   "source": [
    "op = op.groupby(by=[op['GIDBG'], op['year_month']]).count()"
   ]
  },
  {
   "cell_type": "code",
   "execution_count": null,
   "metadata": {},
   "outputs": [],
   "source": [
    "op.reset_index(inplace=True)"
   ]
  },
  {
   "cell_type": "code",
   "execution_count": null,
   "metadata": {},
   "outputs": [],
   "source": [
    "var = ['geometry', 'GIDBG', 'Tot_Population_ACS_13_17','pct_Males_ACS_13_17',\n",
    "       'pct_Pop_18_24_ACS_13_17','pct_Pop_25_44_ACS_13_17','pct_Pop_45_64_ACS_13_17',\n",
    "       'pct_Pop_65plus_ACS_13_17','pct_Hispanic_ACS_13_17','pct_NH_White_alone_CEN_2010', \n",
    "       'pct_NH_Blk_alone_ACS_13_17','pct_NH_Asian_alone_ACS_13_17','Med_HHD_Inc_BG_ACS_13_17',\n",
    "       'pct_Prs_Blw_Pov_Lev_ACS_13_17','Med_House_Value_BG_ACS_13_17','pct_College_ACS_13_17',\n",
    "       'year_month']"
   ]
  },
  {
   "cell_type": "code",
   "execution_count": null,
   "metadata": {},
   "outputs": [],
   "source": [
    "tempe_tract = tempe_tract.filter(var)"
   ]
  },
  {
   "cell_type": "code",
   "execution_count": null,
   "metadata": {},
   "outputs": [],
   "source": [
    "tempe_tract.dtypes"
   ]
  },
  {
   "cell_type": "code",
   "execution_count": null,
   "metadata": {},
   "outputs": [],
   "source": [
    "tempe_tract['Med_HHD_Inc_BG_ACS_13_17'] = tempe_tract['Med_HHD_Inc_BG_ACS_13_17'].str.replace('$', '')\n",
    "tempe_tract['Med_HHD_Inc_BG_ACS_13_17'] = tempe_tract['Med_HHD_Inc_BG_ACS_13_17'].str.replace(',', '')\n",
    "tempe_tract['Med_House_Value_BG_ACS_13_17'] = tempe_tract['Med_House_Value_BG_ACS_13_17'].str.replace('$', '')\n",
    "tempe_tract['Med_House_Value_BG_ACS_13_17'] = tempe_tract['Med_House_Value_BG_ACS_13_17'].str.replace(',', '')\n"
   ]
  },
  {
   "cell_type": "code",
   "execution_count": null,
   "metadata": {},
   "outputs": [],
   "source": [
    "for i in range(1,len(tempe_tract.columns)):\n",
    "    tempe_tract[tempe_tract.columns[i]] = tempe_tract[tempe_tract.columns[i]].astype(float)"
   ]
  },
  {
   "cell_type": "code",
   "execution_count": null,
   "metadata": {},
   "outputs": [],
   "source": [
    "tempe_tract.dtypes"
   ]
  },
  {
   "cell_type": "code",
   "execution_count": null,
   "metadata": {},
   "outputs": [],
   "source": [
    "tempe_tract = tempe_tract.groupby(by=[tempe_tract['GIDBG'], tempe_tract['year_month']]).mean()"
   ]
  },
  {
   "cell_type": "code",
   "execution_count": null,
   "metadata": {},
   "outputs": [],
   "source": [
    "tempe_tract.drop(columns='year_month', inplace=True)"
   ]
  },
  {
   "cell_type": "code",
   "execution_count": null,
   "metadata": {},
   "outputs": [],
   "source": [
    "tempe_tract.columns"
   ]
  },
  {
   "cell_type": "code",
   "execution_count": null,
   "metadata": {},
   "outputs": [],
   "source": [
    "tempe_tract.reset_index(inplace=True)"
   ]
  },
  {
   "cell_type": "code",
   "execution_count": null,
   "metadata": {},
   "outputs": [],
   "source": [
    "tempe_tract.head()"
   ]
  },
  {
   "cell_type": "code",
   "execution_count": null,
   "metadata": {},
   "outputs": [],
   "source": [
    "op.dtypes"
   ]
  },
  {
   "cell_type": "code",
   "execution_count": null,
   "metadata": {},
   "outputs": [],
   "source": [
    "op.GIDBG = op.GIDBG.astype(float)"
   ]
  },
  {
   "cell_type": "code",
   "execution_count": null,
   "metadata": {},
   "outputs": [],
   "source": [
    "df = tempe_tract.merge(op, on=['GIDBG', 'year_month'])"
   ]
  },
  {
   "cell_type": "code",
   "execution_count": null,
   "metadata": {},
   "outputs": [],
   "source": [
    "df.shape"
   ]
  },
  {
   "cell_type": "code",
   "execution_count": null,
   "metadata": {},
   "outputs": [],
   "source": [
    "sum(df.Opioid_Use)"
   ]
  },
  {
   "cell_type": "code",
   "execution_count": null,
   "metadata": {},
   "outputs": [],
   "source": [
    "df.rename(columns={'Opioid_Use':'ems_calls'}, inplace=True)"
   ]
  },
  {
   "cell_type": "code",
   "execution_count": null,
   "metadata": {},
   "outputs": [],
   "source": [
    "df.head()"
   ]
  },
  {
   "cell_type": "code",
   "execution_count": null,
   "metadata": {},
   "outputs": [],
   "source": [
    "pickle_out = open(\"tempems_bg_pkl_022020\",\"wb\")\n",
    "pickle.dump(df, pickle_out)\n",
    "pickle_out.close()"
   ]
  },
  {
   "cell_type": "markdown",
   "metadata": {},
   "source": [
    "### Get Descriptive Statistics"
   ]
  },
  {
   "cell_type": "code",
   "execution_count": 3,
   "metadata": {},
   "outputs": [],
   "source": [
    "bg_pkl = open('tempems_bg_pkl_022020', 'rb')\n",
    "\n",
    "df = pickle.load(bg_pkl)"
   ]
  },
  {
   "cell_type": "code",
   "execution_count": 4,
   "metadata": {},
   "outputs": [
    {
     "data": {
      "text/plain": [
       "array([[<matplotlib.axes._subplots.AxesSubplot object at 0x1c1d36fda0>,\n",
       "        <matplotlib.axes._subplots.AxesSubplot object at 0x1c1d634940>,\n",
       "        <matplotlib.axes._subplots.AxesSubplot object at 0x1c1d661ba8>,\n",
       "        <matplotlib.axes._subplots.AxesSubplot object at 0x1c1d688f28>],\n",
       "       [<matplotlib.axes._subplots.AxesSubplot object at 0x1c1d6ba4e0>,\n",
       "        <matplotlib.axes._subplots.AxesSubplot object at 0x1c1d6e0a58>,\n",
       "        <matplotlib.axes._subplots.AxesSubplot object at 0x1c1d709fd0>,\n",
       "        <matplotlib.axes._subplots.AxesSubplot object at 0x1c1d7375c0>],\n",
       "       [<matplotlib.axes._subplots.AxesSubplot object at 0x1c1d7375f8>,\n",
       "        <matplotlib.axes._subplots.AxesSubplot object at 0x1c1d78f0b8>,\n",
       "        <matplotlib.axes._subplots.AxesSubplot object at 0x1c1d7b6630>,\n",
       "        <matplotlib.axes._subplots.AxesSubplot object at 0x1c1d7deba8>],\n",
       "       [<matplotlib.axes._subplots.AxesSubplot object at 0x1c1d810160>,\n",
       "        <matplotlib.axes._subplots.AxesSubplot object at 0x1c1d8376d8>,\n",
       "        <matplotlib.axes._subplots.AxesSubplot object at 0x1c1d85fc50>,\n",
       "        <matplotlib.axes._subplots.AxesSubplot object at 0x1c1d88f208>],\n",
       "       [<matplotlib.axes._subplots.AxesSubplot object at 0x1c1d8b5780>,\n",
       "        <matplotlib.axes._subplots.AxesSubplot object at 0x1c1d8dbcf8>,\n",
       "        <matplotlib.axes._subplots.AxesSubplot object at 0x1c1d90f2b0>,\n",
       "        <matplotlib.axes._subplots.AxesSubplot object at 0x1c1d935828>]],\n",
       "      dtype=object)"
      ]
     },
     "execution_count": 4,
     "metadata": {},
     "output_type": "execute_result"
    },
    {
     "data": {
      "image/png": "[encoded data removed]",
      "text/plain": [
       "<Figure size 1440x1440 with 20 Axes>"
      ]
     },
     "metadata": {
      "needs_background": "light"
     },
     "output_type": "display_data"
    }
   ],
   "source": [
    "df.hist(figsize=(20,20))"
   ]
  },
  {
   "cell_type": "code",
   "execution_count": 5,
   "metadata": {},
   "outputs": [
    {
     "data": {
      "text/html": [
       "<div>\n",
       "<style scoped>\n",
       "    .dataframe tbody tr th:only-of-type {\n",
       "        vertical-align: middle;\n",
       "    }\n",
       "\n",
       "    .dataframe tbody tr th {\n",
       "        vertical-align: top;\n",
       "    }\n",
       "\n",
       "    .dataframe thead th {\n",
       "        text-align: right;\n",
       "    }\n",
       "</style>\n",
       "<table border=\"1\" class=\"dataframe\">\n",
       "  <thead>\n",
       "    <tr style=\"text-align: right;\">\n",
       "      <th></th>\n",
       "      <th>count</th>\n",
       "      <th>mean</th>\n",
       "      <th>std</th>\n",
       "      <th>min</th>\n",
       "      <th>25%</th>\n",
       "      <th>50%</th>\n",
       "      <th>75%</th>\n",
       "      <th>max</th>\n",
       "    </tr>\n",
       "  </thead>\n",
       "  <tbody>\n",
       "    <tr>\n",
       "      <th>GIDBG</th>\n",
       "      <td>534.0</td>\n",
       "      <td>4.013321e+10</td>\n",
       "      <td>300110.843636</td>\n",
       "      <td>4.013318e+10</td>\n",
       "      <td>4.013319e+10</td>\n",
       "      <td>4.013319e+10</td>\n",
       "      <td>4.013320e+10</td>\n",
       "      <td>4.013810e+10</td>\n",
       "    </tr>\n",
       "    <tr>\n",
       "      <th>year_month</th>\n",
       "      <td>534.0</td>\n",
       "      <td>2.017881e+03</td>\n",
       "      <td>0.791276</td>\n",
       "      <td>2.017010e+03</td>\n",
       "      <td>2.017070e+03</td>\n",
       "      <td>2.018030e+03</td>\n",
       "      <td>2.018120e+03</td>\n",
       "      <td>2.019080e+03</td>\n",
       "    </tr>\n",
       "    <tr>\n",
       "      <th>Tot_Population_ACS_13_17</th>\n",
       "      <td>534.0</td>\n",
       "      <td>1.695079e+03</td>\n",
       "      <td>646.812938</td>\n",
       "      <td>4.230000e+02</td>\n",
       "      <td>1.230250e+03</td>\n",
       "      <td>1.777000e+03</td>\n",
       "      <td>2.079000e+03</td>\n",
       "      <td>4.477000e+03</td>\n",
       "    </tr>\n",
       "    <tr>\n",
       "      <th>pct_Males_ACS_13_17</th>\n",
       "      <td>534.0</td>\n",
       "      <td>5.480345e+01</td>\n",
       "      <td>8.190265</td>\n",
       "      <td>2.757000e+01</td>\n",
       "      <td>4.935000e+01</td>\n",
       "      <td>5.546000e+01</td>\n",
       "      <td>6.054250e+01</td>\n",
       "      <td>7.473000e+01</td>\n",
       "    </tr>\n",
       "    <tr>\n",
       "      <th>pct_Pop_18_24_ACS_13_17</th>\n",
       "      <td>534.0</td>\n",
       "      <td>2.810507e+01</td>\n",
       "      <td>21.813523</td>\n",
       "      <td>0.000000e+00</td>\n",
       "      <td>1.481500e+01</td>\n",
       "      <td>2.289000e+01</td>\n",
       "      <td>3.405000e+01</td>\n",
       "      <td>9.491000e+01</td>\n",
       "    </tr>\n",
       "    <tr>\n",
       "      <th>pct_Pop_25_44_ACS_13_17</th>\n",
       "      <td>534.0</td>\n",
       "      <td>3.088386e+01</td>\n",
       "      <td>10.842533</td>\n",
       "      <td>3.950000e+00</td>\n",
       "      <td>2.404000e+01</td>\n",
       "      <td>2.970000e+01</td>\n",
       "      <td>3.957000e+01</td>\n",
       "      <td>5.914000e+01</td>\n",
       "    </tr>\n",
       "    <tr>\n",
       "      <th>pct_Pop_45_64_ACS_13_17</th>\n",
       "      <td>534.0</td>\n",
       "      <td>1.783614e+01</td>\n",
       "      <td>8.644418</td>\n",
       "      <td>0.000000e+00</td>\n",
       "      <td>1.119000e+01</td>\n",
       "      <td>1.876000e+01</td>\n",
       "      <td>2.279000e+01</td>\n",
       "      <td>4.287000e+01</td>\n",
       "    </tr>\n",
       "    <tr>\n",
       "      <th>pct_Pop_65plus_ACS_13_17</th>\n",
       "      <td>534.0</td>\n",
       "      <td>8.969551e+00</td>\n",
       "      <td>7.486050</td>\n",
       "      <td>0.000000e+00</td>\n",
       "      <td>3.550000e+00</td>\n",
       "      <td>6.970000e+00</td>\n",
       "      <td>1.230750e+01</td>\n",
       "      <td>4.154000e+01</td>\n",
       "    </tr>\n",
       "    <tr>\n",
       "      <th>pct_Hispanic_ACS_13_17</th>\n",
       "      <td>534.0</td>\n",
       "      <td>2.379639e+01</td>\n",
       "      <td>14.048954</td>\n",
       "      <td>0.000000e+00</td>\n",
       "      <td>1.287000e+01</td>\n",
       "      <td>2.221000e+01</td>\n",
       "      <td>3.277000e+01</td>\n",
       "      <td>8.418000e+01</td>\n",
       "    </tr>\n",
       "    <tr>\n",
       "      <th>pct_NH_White_alone_CEN_2010</th>\n",
       "      <td>534.0</td>\n",
       "      <td>6.074620e+01</td>\n",
       "      <td>14.182991</td>\n",
       "      <td>2.024000e+01</td>\n",
       "      <td>5.139000e+01</td>\n",
       "      <td>6.378000e+01</td>\n",
       "      <td>7.250000e+01</td>\n",
       "      <td>8.592000e+01</td>\n",
       "    </tr>\n",
       "    <tr>\n",
       "      <th>pct_NH_Blk_alone_ACS_13_17</th>\n",
       "      <td>534.0</td>\n",
       "      <td>6.146086e+00</td>\n",
       "      <td>6.694683</td>\n",
       "      <td>0.000000e+00</td>\n",
       "      <td>1.210000e+00</td>\n",
       "      <td>3.480000e+00</td>\n",
       "      <td>9.270000e+00</td>\n",
       "      <td>3.270000e+01</td>\n",
       "    </tr>\n",
       "    <tr>\n",
       "      <th>pct_NH_Asian_alone_ACS_13_17</th>\n",
       "      <td>534.0</td>\n",
       "      <td>7.185581e+00</td>\n",
       "      <td>8.283074</td>\n",
       "      <td>0.000000e+00</td>\n",
       "      <td>1.890000e+00</td>\n",
       "      <td>5.120000e+00</td>\n",
       "      <td>1.041000e+01</td>\n",
       "      <td>5.376000e+01</td>\n",
       "    </tr>\n",
       "    <tr>\n",
       "      <th>Med_HHD_Inc_BG_ACS_13_17</th>\n",
       "      <td>521.0</td>\n",
       "      <td>5.623244e+04</td>\n",
       "      <td>36102.234005</td>\n",
       "      <td>1.665400e+04</td>\n",
       "      <td>3.570700e+04</td>\n",
       "      <td>5.093100e+04</td>\n",
       "      <td>6.710500e+04</td>\n",
       "      <td>1.912500e+05</td>\n",
       "    </tr>\n",
       "    <tr>\n",
       "      <th>pct_Prs_Blw_Pov_Lev_ACS_13_17</th>\n",
       "      <td>531.0</td>\n",
       "      <td>2.611249e+01</td>\n",
       "      <td>17.138418</td>\n",
       "      <td>0.000000e+00</td>\n",
       "      <td>1.330000e+01</td>\n",
       "      <td>2.239000e+01</td>\n",
       "      <td>3.650000e+01</td>\n",
       "      <td>6.884000e+01</td>\n",
       "    </tr>\n",
       "    <tr>\n",
       "      <th>Med_House_Value_BG_ACS_13_17</th>\n",
       "      <td>485.0</td>\n",
       "      <td>2.110206e+05</td>\n",
       "      <td>98525.074773</td>\n",
       "      <td>1.610000e+04</td>\n",
       "      <td>1.606000e+05</td>\n",
       "      <td>2.044000e+05</td>\n",
       "      <td>2.538000e+05</td>\n",
       "      <td>6.657000e+05</td>\n",
       "    </tr>\n",
       "    <tr>\n",
       "      <th>pct_College_ACS_13_17</th>\n",
       "      <td>534.0</td>\n",
       "      <td>4.420090e+01</td>\n",
       "      <td>17.957435</td>\n",
       "      <td>7.890000e+00</td>\n",
       "      <td>3.187000e+01</td>\n",
       "      <td>4.204000e+01</td>\n",
       "      <td>5.565000e+01</td>\n",
       "      <td>9.135000e+01</td>\n",
       "    </tr>\n",
       "    <tr>\n",
       "      <th>ems_calls</th>\n",
       "      <td>534.0</td>\n",
       "      <td>1.264045e+00</td>\n",
       "      <td>0.596691</td>\n",
       "      <td>1.000000e+00</td>\n",
       "      <td>1.000000e+00</td>\n",
       "      <td>1.000000e+00</td>\n",
       "      <td>1.000000e+00</td>\n",
       "      <td>5.000000e+00</td>\n",
       "    </tr>\n",
       "  </tbody>\n",
       "</table>\n",
       "</div>"
      ],
      "text/plain": [
       "                               count          mean            std  \\\n",
       "GIDBG                          534.0  4.013321e+10  300110.843636   \n",
       "year_month                     534.0  2.017881e+03       0.791276   \n",
       "Tot_Population_ACS_13_17       534.0  1.695079e+03     646.812938   \n",
       "pct_Males_ACS_13_17            534.0  5.480345e+01       8.190265   \n",
       "pct_Pop_18_24_ACS_13_17        534.0  2.810507e+01      21.813523   \n",
       "pct_Pop_25_44_ACS_13_17        534.0  3.088386e+01      10.842533   \n",
       "pct_Pop_45_64_ACS_13_17        534.0  1.783614e+01       8.644418   \n",
       "pct_Pop_65plus_ACS_13_17       534.0  8.969551e+00       7.486050   \n",
       "pct_Hispanic_ACS_13_17         534.0  2.379639e+01      14.048954   \n",
       "pct_NH_White_alone_CEN_2010    534.0  6.074620e+01      14.182991   \n",
       "pct_NH_Blk_alone_ACS_13_17     534.0  6.146086e+00       6.694683   \n",
       "pct_NH_Asian_alone_ACS_13_17   534.0  7.185581e+00       8.283074   \n",
       "Med_HHD_Inc_BG_ACS_13_17       521.0  5.623244e+04   36102.234005   \n",
       "pct_Prs_Blw_Pov_Lev_ACS_13_17  531.0  2.611249e+01      17.138418   \n",
       "Med_House_Value_BG_ACS_13_17   485.0  2.110206e+05   98525.074773   \n",
       "pct_College_ACS_13_17          534.0  4.420090e+01      17.957435   \n",
       "ems_calls                      534.0  1.264045e+00       0.596691   \n",
       "\n",
       "                                        min           25%           50%  \\\n",
       "GIDBG                          4.013318e+10  4.013319e+10  4.013319e+10   \n",
       "year_month                     2.017010e+03  2.017070e+03  2.018030e+03   \n",
       "Tot_Population_ACS_13_17       4.230000e+02  1.230250e+03  1.777000e+03   \n",
       "pct_Males_ACS_13_17            2.757000e+01  4.935000e+01  5.546000e+01   \n",
       "pct_Pop_18_24_ACS_13_17        0.000000e+00  1.481500e+01  2.289000e+01   \n",
       "pct_Pop_25_44_ACS_13_17        3.950000e+00  2.404000e+01  2.970000e+01   \n",
       "pct_Pop_45_64_ACS_13_17        0.000000e+00  1.119000e+01  1.876000e+01   \n",
       "pct_Pop_65plus_ACS_13_17       0.000000e+00  3.550000e+00  6.970000e+00   \n",
       "pct_Hispanic_ACS_13_17         0.000000e+00  1.287000e+01  2.221000e+01   \n",
       "pct_NH_White_alone_CEN_2010    2.024000e+01  5.139000e+01  6.378000e+01   \n",
       "pct_NH_Blk_alone_ACS_13_17     0.000000e+00  1.210000e+00  3.480000e+00   \n",
       "pct_NH_Asian_alone_ACS_13_17   0.000000e+00  1.890000e+00  5.120000e+00   \n",
       "Med_HHD_Inc_BG_ACS_13_17       1.665400e+04  3.570700e+04  5.093100e+04   \n",
       "pct_Prs_Blw_Pov_Lev_ACS_13_17  0.000000e+00  1.330000e+01  2.239000e+01   \n",
       "Med_House_Value_BG_ACS_13_17   1.610000e+04  1.606000e+05  2.044000e+05   \n",
       "pct_College_ACS_13_17          7.890000e+00  3.187000e+01  4.204000e+01   \n",
       "ems_calls                      1.000000e+00  1.000000e+00  1.000000e+00   \n",
       "\n",
       "                                        75%           max  \n",
       "GIDBG                          4.013320e+10  4.013810e+10  \n",
       "year_month                     2.018120e+03  2.019080e+03  \n",
       "Tot_Population_ACS_13_17       2.079000e+03  4.477000e+03  \n",
       "pct_Males_ACS_13_17            6.054250e+01  7.473000e+01  \n",
       "pct_Pop_18_24_ACS_13_17        3.405000e+01  9.491000e+01  \n",
       "pct_Pop_25_44_ACS_13_17        3.957000e+01  5.914000e+01  \n",
       "pct_Pop_45_64_ACS_13_17        2.279000e+01  4.287000e+01  \n",
       "pct_Pop_65plus_ACS_13_17       1.230750e+01  4.154000e+01  \n",
       "pct_Hispanic_ACS_13_17         3.277000e+01  8.418000e+01  \n",
       "pct_NH_White_alone_CEN_2010    7.250000e+01  8.592000e+01  \n",
       "pct_NH_Blk_alone_ACS_13_17     9.270000e+00  3.270000e+01  \n",
       "pct_NH_Asian_alone_ACS_13_17   1.041000e+01  5.376000e+01  \n",
       "Med_HHD_Inc_BG_ACS_13_17       6.710500e+04  1.912500e+05  \n",
       "pct_Prs_Blw_Pov_Lev_ACS_13_17  3.650000e+01  6.884000e+01  \n",
       "Med_House_Value_BG_ACS_13_17   2.538000e+05  6.657000e+05  \n",
       "pct_College_ACS_13_17          5.565000e+01  9.135000e+01  \n",
       "ems_calls                      1.000000e+00  5.000000e+00  "
      ]
     },
     "execution_count": 5,
     "metadata": {},
     "output_type": "execute_result"
    }
   ],
   "source": [
    "df.describe().T"
   ]
  },
  {
   "cell_type": "code",
   "execution_count": null,
   "metadata": {},
   "outputs": [],
   "source": []
  },
  {
   "cell_type": "markdown",
   "metadata": {},
   "source": [
    "### Rapid Test Model"
   ]
  },
  {
   "cell_type": "code",
   "execution_count": 6,
   "metadata": {},
   "outputs": [],
   "source": [
    "df.dropna(inplace=True)"
   ]
  },
  {
   "cell_type": "code",
   "execution_count": 7,
   "metadata": {},
   "outputs": [],
   "source": [
    "X, y = df, df.ems_calls\n",
    "X.drop(columns='ems_calls', inplace=True)"
   ]
  },
  {
   "cell_type": "code",
   "execution_count": 8,
   "metadata": {},
   "outputs": [],
   "source": [
    "from sklearn.model_selection import train_test_split\n",
    "X_train, X_test, y_train, y_test = train_test_split(X, y, test_size=0.2, random_state=42)"
   ]
  },
  {
   "cell_type": "code",
   "execution_count": 9,
   "metadata": {},
   "outputs": [
    {
     "name": "stdout",
     "output_type": "stream",
     "text": [
      "                 Generalized Linear Model Regression Results                  \n",
      "==============================================================================\n",
      "Dep. Variable:              ems_calls   No. Observations:                  380\n",
      "Model:                            GLM   Df Residuals:                      364\n",
      "Model Family:                 Poisson   Df Model:                           15\n",
      "Link Function:                    log   Scale:                          1.0000\n",
      "Method:                          IRLS   Log-Likelihood:                -441.94\n",
      "Date:                Thu, 20 Feb 2020   Deviance:                       68.195\n",
      "Time:                        23:05:56   Pearson chi2:                     80.4\n",
      "No. Iterations:                     4   Covariance Type:             nonrobust\n",
      "=================================================================================================\n",
      "                                    coef    std err          z      P>|z|      [0.025      0.975]\n",
      "-------------------------------------------------------------------------------------------------\n",
      "GIDBG                          3.035e-09   2.95e-09      1.029      0.304   -2.75e-09    8.82e-09\n",
      "year_month                       -0.0608      0.059     -1.036      0.300      -0.176       0.054\n",
      "Tot_Population_ACS_13_17       1.797e-05   9.68e-05      0.186      0.853      -0.000       0.000\n",
      "pct_Males_ACS_13_17               0.0043      0.008      0.529      0.597      -0.012       0.020\n",
      "pct_Pop_18_24_ACS_13_17           0.0054      0.008      0.702      0.483      -0.010       0.021\n",
      "pct_Pop_25_44_ACS_13_17           0.0042      0.011      0.387      0.698      -0.017       0.026\n",
      "pct_Pop_45_64_ACS_13_17           0.0087      0.013      0.681      0.496      -0.016       0.034\n",
      "pct_Pop_65plus_ACS_13_17          0.0019      0.013      0.139      0.889      -0.024       0.028\n",
      "pct_Hispanic_ACS_13_17            0.0038      0.006      0.620      0.535      -0.008       0.016\n",
      "pct_NH_White_alone_CEN_2010       0.0057      0.007      0.772      0.440      -0.009       0.020\n",
      "pct_NH_Blk_alone_ACS_13_17        0.0031      0.010      0.312      0.755      -0.016       0.022\n",
      "pct_NH_Asian_alone_ACS_13_17      0.0062      0.008      0.803      0.422      -0.009       0.021\n",
      "Med_HHD_Inc_BG_ACS_13_17        1.35e-06   2.41e-06      0.560      0.575   -3.37e-06    6.07e-06\n",
      "pct_Prs_Blw_Pov_Lev_ACS_13_17     0.0041      0.006      0.653      0.514      -0.008       0.017\n",
      "Med_House_Value_BG_ACS_13_17  -1.317e-06   8.15e-07     -1.615      0.106   -2.91e-06    2.81e-07\n",
      "pct_College_ACS_13_17            -0.0003      0.005     -0.064      0.949      -0.010       0.009\n",
      "=================================================================================================\n"
     ]
    }
   ],
   "source": [
    "res = sm.GLM(y_train, X_train, family=sm.families.Poisson()).fit()\n",
    "print(res.summary())"
   ]
  },
  {
   "cell_type": "code",
   "execution_count": null,
   "metadata": {},
   "outputs": [],
   "source": []
  },
  {
   "cell_type": "code",
   "execution_count": null,
   "metadata": {},
   "outputs": [],
   "source": []
  },
  {
   "cell_type": "code",
   "execution_count": null,
   "metadata": {},
   "outputs": [],
   "source": []
  },
  {
   "cell_type": "code",
   "execution_count": null,
   "metadata": {},
   "outputs": [],
   "source": []
  }
 ],
 "metadata": {
  "kernelspec": {
   "display_name": "Python 3",
   "language": "python",
   "name": "python3"
  },
  "language_info": {
   "codemirror_mode": {
    "name": "ipython",
    "version": 3
   },
   "file_extension": ".py",
   "mimetype": "text/x-python",
   "name": "python",
   "nbconvert_exporter": "python",
   "pygments_lexer": "ipython3",
   "version": "3.7.3"
  }
 },
 "nbformat": 4,
 "nbformat_minor": 2
}
